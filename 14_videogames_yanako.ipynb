{
 "cells": [
  {
   "cell_type": "markdown",
   "id": "ec3c9194",
   "metadata": {},
   "source": [
    "# Интернет-магазин \"Cтримчик\"\n",
    "\n"
   ]
  },
  {
   "cell_type": "markdown",
   "id": "7178c742",
   "metadata": {},
   "source": [
    "<div style=\"border:solid grey 2px; padding: 20 px\">"
   ]
  },
  {
   "cell_type": "markdown",
   "id": "0d796b9a",
   "metadata": {},
   "source": [
    "Данные по рейтингам и продажам видеоигр в период с 1980 по 2016 год.\n",
    "\n",
    "Анализ данных произведен с целью выделения закономерностей, определяющих успешность видеоигры, что позволит планировать бюджет рекламных кампаний и делать ставки на потенциально популярные продукты.\n",
    "\n",
    "[Выводы](#conclusion) и рекомендации.\n",
    "\n",
    "_________\n",
    "\n",
    "\n"
   ]
  },
  {
   "cell_type": "markdown",
   "id": "0924e23a",
   "metadata": {
    "toc": true
   },
   "source": [
    "<h1>Содержание<span class=\"tocSkip\"></span></h1>\n",
    "<div class=\"toc\"><ul class=\"toc-item\"><li><span><a href=\"#Загрузка-данных-и-подготовка-к-анализу\" data-toc-modified-id=\"Загрузка-данных-и-подготовка-к-анализу-1\"><span class=\"toc-item-num\">1&nbsp;&nbsp;</span>Загрузка данных и подготовка к анализу</a></span><ul class=\"toc-item\"><li><span><a href=\"#Импорт-библиотек-и-загрузка-данных\" data-toc-modified-id=\"Импорт-библиотек-и-загрузка-данных-1.1\"><span class=\"toc-item-num\">1.1&nbsp;&nbsp;</span>Импорт библиотек и загрузка данных</a></span></li></ul></li><li><span><a href=\"#Исследовательский-анализ-данных\" data-toc-modified-id=\"Исследовательский-анализ-данных-2\"><span class=\"toc-item-num\">2&nbsp;&nbsp;</span>Исследовательский анализ данных</a></span><ul class=\"toc-item\"><li><span><a href=\"#Первичный-просмотр\" data-toc-modified-id=\"Первичный-просмотр-2.1\"><span class=\"toc-item-num\">2.1&nbsp;&nbsp;</span>Первичный просмотр</a></span></li><li><span><a href=\"#Замена-типов-данных\" data-toc-modified-id=\"Замена-типов-данных-2.2\"><span class=\"toc-item-num\">2.2&nbsp;&nbsp;</span>Замена типов данных</a></span></li><li><span><a href=\"#Работа-с-пропусками\" data-toc-modified-id=\"Работа-с-пропусками-2.3\"><span class=\"toc-item-num\">2.3&nbsp;&nbsp;</span>Работа с пропусками</a></span></li><li><span><a href=\"#Добавление-столбца-суммарных-продаж\" data-toc-modified-id=\"Добавление-столбца-суммарных-продаж-2.4\"><span class=\"toc-item-num\">2.4&nbsp;&nbsp;</span>Добавление столбца суммарных продаж</a></span></li></ul></li><li><span><a href=\"#Исследовательский-анализ-данных\" data-toc-modified-id=\"Исследовательский-анализ-данных-3\"><span class=\"toc-item-num\">3&nbsp;&nbsp;</span>Исследовательский анализ данных</a></span><ul class=\"toc-item\"><li><span><a href=\"#Количество-игр,-выпущенных-по-годам\" data-toc-modified-id=\"Количество-игр,-выпущенных-по-годам-3.1\"><span class=\"toc-item-num\">3.1&nbsp;&nbsp;</span>Количество игр, выпущенных по годам</a></span></li><li><span><a href=\"#Продажи-по-платформам\" data-toc-modified-id=\"Продажи-по-платформам-3.2\"><span class=\"toc-item-num\">3.2&nbsp;&nbsp;</span>Продажи по платформам</a></span></li><li><span><a href=\"#Определение-актуального-периода\" data-toc-modified-id=\"Определение-актуального-периода-3.3\"><span class=\"toc-item-num\">3.3&nbsp;&nbsp;</span>Определение актуального периода</a></span></li><li><span><a href=\"#Платформы---лидеры-продаж\" data-toc-modified-id=\"Платформы---лидеры-продаж-3.4\"><span class=\"toc-item-num\">3.4&nbsp;&nbsp;</span>Платформы - лидеры продаж</a></span></li><li><span><a href=\"#Корреляция-между-отзывами-и-продажами\" data-toc-modified-id=\"Корреляция-между-отзывами-и-продажами-3.5\"><span class=\"toc-item-num\">3.5&nbsp;&nbsp;</span>Корреляция между отзывами и продажами</a></span></li><li><span><a href=\"#Распределение-игр-по-жанрам\" data-toc-modified-id=\"Распределение-игр-по-жанрам-3.6\"><span class=\"toc-item-num\">3.6&nbsp;&nbsp;</span>Распределение игр по жанрам</a></span><ul class=\"toc-item\"><li><span><a href=\"#Медианы-и-средние-значения-продаж-по-платформам\" data-toc-modified-id=\"Медианы-и-средние-значения-продаж-по-платформам-3.6.1\"><span class=\"toc-item-num\">3.6.1&nbsp;&nbsp;</span>Медианы и средние значения продаж по платформам</a></span></li></ul></li></ul></li><li><span><a href=\"#Портрет-пользователя-по-регионам\" data-toc-modified-id=\"Портрет-пользователя-по-регионам-4\"><span class=\"toc-item-num\">4&nbsp;&nbsp;</span>Портрет пользователя по регионам</a></span><ul class=\"toc-item\"><li><span><a href=\"#Продажи-по-платформам-по-регионам\" data-toc-modified-id=\"Продажи-по-платформам-по-регионам-4.1\"><span class=\"toc-item-num\">4.1&nbsp;&nbsp;</span>Продажи по платформам по регионам</a></span></li><li><span><a href=\"#Продажи-по-жанрам-по-регионам\" data-toc-modified-id=\"Продажи-по-жанрам-по-регионам-4.2\"><span class=\"toc-item-num\">4.2&nbsp;&nbsp;</span>Продажи по жанрам по регионам</a></span></li><li><span><a href=\"#Продажи-по-рейтингам-по-регионам\" data-toc-modified-id=\"Продажи-по-рейтингам-по-регионам-4.3\"><span class=\"toc-item-num\">4.3&nbsp;&nbsp;</span>Продажи по рейтингам по регионам</a></span></li></ul></li><li><span><a href=\"#Проверка-гипотез\" data-toc-modified-id=\"Проверка-гипотез-5\"><span class=\"toc-item-num\">5&nbsp;&nbsp;</span>Проверка гипотез</a></span><ul class=\"toc-item\"><li><span><a href=\"#Гипотеза-о-равенстве-средних-пользовательских-отзывов-по-платформам-Xbox-One-и-PC\" data-toc-modified-id=\"Гипотеза-о-равенстве-средних-пользовательских-отзывов-по-платформам-Xbox-One-и-PC-5.1\"><span class=\"toc-item-num\">5.1&nbsp;&nbsp;</span>Гипотеза о равенстве средних пользовательских отзывов по платформам <code>Xbox One</code> и <code>PC</code></a></span></li><li><span><a href=\"#Гипотеза-о-неравенстве-средних-пользовательских-отзывов-по-жанрам--Action-и-Sports\" data-toc-modified-id=\"Гипотеза-о-неравенстве-средних-пользовательских-отзывов-по-жанрам--Action-и-Sports-5.2\"><span class=\"toc-item-num\">5.2&nbsp;&nbsp;</span>Гипотеза о неравенстве средних пользовательских отзывов по жанрам  <code>Action</code> и <code>Sports</code></a></span></li></ul></li><li><span><a href=\"#Выводы\" data-toc-modified-id=\"Выводы-6\"><span class=\"toc-item-num\">6&nbsp;&nbsp;</span>Выводы</a></span></li></ul></div>"
   ]
  },
  {
   "cell_type": "markdown",
   "id": "13652f70",
   "metadata": {},
   "source": [
    "## Загрузка данных и подготовка к анализу"
   ]
  },
  {
   "cell_type": "markdown",
   "id": "7e1e7e40",
   "metadata": {},
   "source": [
    "### Импорт библиотек и загрузка данных\n"
   ]
  },
  {
   "cell_type": "markdown",
   "id": "49314b68",
   "metadata": {},
   "source": [
    "Подготовим необходимую для анализа среду:"
   ]
  },
  {
   "cell_type": "code",
   "execution_count": 1,
   "id": "b208182d",
   "metadata": {},
   "outputs": [],
   "source": [
    "# Импорт необходимых библиотек.\n",
    "import pandas as pd\n",
    "import matplotlib.pyplot as plt\n",
    "import seaborn as sns\n",
    "import numpy as np\n",
    "from scipy import stats as st\n",
    "\n",
    "from IPython.display import Markdown, display\n",
    "def printmd(string):\n",
    "    display(Markdown(string))"
   ]
  },
  {
   "cell_type": "markdown",
   "id": "a96c7f5e",
   "metadata": {},
   "source": [
    "Загрузим данные и сохраним датафреймы в переменные:"
   ]
  },
  {
   "cell_type": "code",
   "execution_count": 2,
   "id": "51821d5f",
   "metadata": {},
   "outputs": [],
   "source": [
    "# Сохранение файла в переменную.\n",
    "try:\n",
    "    games = (\n",
    "        pd.read_csv('/datasets/games.csv')\n",
    "        )\n",
    "\n",
    "except:\n",
    "    games = (\n",
    "        pd.read_csv('/Users/yanako/MyDrive/COURSES/YANDEX_ANALITICS/14_Pro/games.csv')\n",
    "        )"
   ]
  },
  {
   "cell_type": "markdown",
   "id": "e75f3dce",
   "metadata": {},
   "source": [
    "## Исследовательский анализ данных"
   ]
  },
  {
   "cell_type": "markdown",
   "id": "feb55ab9",
   "metadata": {},
   "source": [
    "### Первичный просмотр"
   ]
  },
  {
   "cell_type": "markdown",
   "id": "a82c8211",
   "metadata": {},
   "source": [
    "Перед просмотром данных, посмотрим на названия столбцов и при необходимости приведем их к нужному виду:"
   ]
  },
  {
   "cell_type": "code",
   "execution_count": 3,
   "id": "4a22741c",
   "metadata": {
    "scrolled": true
   },
   "outputs": [
    {
     "data": {
      "text/plain": [
       "Index(['Name', 'Platform', 'Year_of_Release', 'Genre', 'NA_sales', 'EU_sales',\n",
       "       'JP_sales', 'Other_sales', 'Critic_Score', 'User_Score', 'Rating'],\n",
       "      dtype='object')"
      ]
     },
     "execution_count": 3,
     "metadata": {},
     "output_type": "execute_result"
    }
   ],
   "source": [
    "# Просмотр названий столбцов.\n",
    "games.columns"
   ]
  },
  {
   "cell_type": "markdown",
   "id": "a3fc7c86",
   "metadata": {},
   "source": [
    "Заменим заглавные буквы на строчные и, на всякий случай, удалим пробелы."
   ]
  },
  {
   "cell_type": "code",
   "execution_count": 4,
   "id": "59dbbefd",
   "metadata": {},
   "outputs": [],
   "source": [
    "# Замена прописных букв на строчные в названиях столбцов.\n",
    "games.columns = [x.lower().replace(' ', '') for x in games.columns.values]"
   ]
  },
  {
   "cell_type": "markdown",
   "id": "2053005e",
   "metadata": {},
   "source": [
    "Для первичного просмотра данных напишем функцию `quick_check`."
   ]
  },
  {
   "cell_type": "code",
   "execution_count": 5,
   "id": "81a7b4fe",
   "metadata": {},
   "outputs": [],
   "source": [
    "# Функция для быстрого просмотра содержимого датафрейма и информации о нем.\n",
    "def quick_check(dt, dist_cols=[], fig_cols=[], listing=1):\n",
    "    \"\"\"Функция выводит на экран общую информацию о датафрейме,\n",
    "    первые строки датафрейма, распределение данных в указанных столбцах, \n",
    "    наиболее часто встречающиеся значения в указанных столбцах,\n",
    "    а также черновые гистограммы\n",
    "    \"\"\"\n",
    "    printmd('**Общая информация:**')  \n",
    "    dt.info()\n",
    "    \n",
    "    printmd('**Первые строки таблицы:**')  \n",
    "    display(dt.head())\n",
    "\n",
    "    if dist_cols != []:\n",
    "        printmd('**Распределение в столбцах:**')\n",
    "        \n",
    "    for column in dt.columns:\n",
    "        if column in dist_cols:\n",
    "            printmd(\"<span style='color:green'>**Распределение в столбце**</span>\" + \" \" + dt[column].name + \":\")\n",
    "            \n",
    "            try:\n",
    "                display(dt[column].describe()[[0,1,3,5,7]])\n",
    "            except:\n",
    "                display(dt[column].describe())\n",
    "            \n",
    "            if column in fig_cols:\n",
    "                dt[column].hist()\n",
    "                plt.show();\n",
    "\n",
    "            printmd(\"Наиболее часто встречающиеся события в столбце\" + \" \" + dt[column].name + \":\")\n",
    "            display(dt[column].value_counts(ascending=False).head())\n",
    "\n",
    "    if listing == 1:\n",
    "        display(dt.columns)"
   ]
  },
  {
   "cell_type": "code",
   "execution_count": 6,
   "id": "cdb2f321",
   "metadata": {},
   "outputs": [
    {
     "data": {
      "text/markdown": [
       "**Общая информация:**"
      ],
      "text/plain": [
       "<IPython.core.display.Markdown object>"
      ]
     },
     "metadata": {},
     "output_type": "display_data"
    },
    {
     "name": "stdout",
     "output_type": "stream",
     "text": [
      "<class 'pandas.core.frame.DataFrame'>\n",
      "RangeIndex: 16715 entries, 0 to 16714\n",
      "Data columns (total 11 columns):\n",
      " #   Column           Non-Null Count  Dtype  \n",
      "---  ------           --------------  -----  \n",
      " 0   name             16713 non-null  object \n",
      " 1   platform         16715 non-null  object \n",
      " 2   year_of_release  16446 non-null  float64\n",
      " 3   genre            16713 non-null  object \n",
      " 4   na_sales         16715 non-null  float64\n",
      " 5   eu_sales         16715 non-null  float64\n",
      " 6   jp_sales         16715 non-null  float64\n",
      " 7   other_sales      16715 non-null  float64\n",
      " 8   critic_score     8137 non-null   float64\n",
      " 9   user_score       10014 non-null  object \n",
      " 10  rating           9949 non-null   object \n",
      "dtypes: float64(6), object(5)\n",
      "memory usage: 1.4+ MB\n"
     ]
    },
    {
     "data": {
      "text/markdown": [
       "**Первые строки таблицы:**"
      ],
      "text/plain": [
       "<IPython.core.display.Markdown object>"
      ]
     },
     "metadata": {},
     "output_type": "display_data"
    },
    {
     "data": {
      "text/html": [
       "<div>\n",
       "<style scoped>\n",
       "    .dataframe tbody tr th:only-of-type {\n",
       "        vertical-align: middle;\n",
       "    }\n",
       "\n",
       "    .dataframe tbody tr th {\n",
       "        vertical-align: top;\n",
       "    }\n",
       "\n",
       "    .dataframe thead th {\n",
       "        text-align: right;\n",
       "    }\n",
       "</style>\n",
       "<table border=\"1\" class=\"dataframe\">\n",
       "  <thead>\n",
       "    <tr style=\"text-align: right;\">\n",
       "      <th></th>\n",
       "      <th>name</th>\n",
       "      <th>platform</th>\n",
       "      <th>year_of_release</th>\n",
       "      <th>genre</th>\n",
       "      <th>na_sales</th>\n",
       "      <th>eu_sales</th>\n",
       "      <th>jp_sales</th>\n",
       "      <th>other_sales</th>\n",
       "      <th>critic_score</th>\n",
       "      <th>user_score</th>\n",
       "      <th>rating</th>\n",
       "    </tr>\n",
       "  </thead>\n",
       "  <tbody>\n",
       "    <tr>\n",
       "      <th>0</th>\n",
       "      <td>Wii Sports</td>\n",
       "      <td>Wii</td>\n",
       "      <td>2006.0</td>\n",
       "      <td>Sports</td>\n",
       "      <td>41.36</td>\n",
       "      <td>28.96</td>\n",
       "      <td>3.77</td>\n",
       "      <td>8.45</td>\n",
       "      <td>76.0</td>\n",
       "      <td>8</td>\n",
       "      <td>E</td>\n",
       "    </tr>\n",
       "    <tr>\n",
       "      <th>1</th>\n",
       "      <td>Super Mario Bros.</td>\n",
       "      <td>NES</td>\n",
       "      <td>1985.0</td>\n",
       "      <td>Platform</td>\n",
       "      <td>29.08</td>\n",
       "      <td>3.58</td>\n",
       "      <td>6.81</td>\n",
       "      <td>0.77</td>\n",
       "      <td>NaN</td>\n",
       "      <td>NaN</td>\n",
       "      <td>NaN</td>\n",
       "    </tr>\n",
       "    <tr>\n",
       "      <th>2</th>\n",
       "      <td>Mario Kart Wii</td>\n",
       "      <td>Wii</td>\n",
       "      <td>2008.0</td>\n",
       "      <td>Racing</td>\n",
       "      <td>15.68</td>\n",
       "      <td>12.76</td>\n",
       "      <td>3.79</td>\n",
       "      <td>3.29</td>\n",
       "      <td>82.0</td>\n",
       "      <td>8.3</td>\n",
       "      <td>E</td>\n",
       "    </tr>\n",
       "    <tr>\n",
       "      <th>3</th>\n",
       "      <td>Wii Sports Resort</td>\n",
       "      <td>Wii</td>\n",
       "      <td>2009.0</td>\n",
       "      <td>Sports</td>\n",
       "      <td>15.61</td>\n",
       "      <td>10.93</td>\n",
       "      <td>3.28</td>\n",
       "      <td>2.95</td>\n",
       "      <td>80.0</td>\n",
       "      <td>8</td>\n",
       "      <td>E</td>\n",
       "    </tr>\n",
       "    <tr>\n",
       "      <th>4</th>\n",
       "      <td>Pokemon Red/Pokemon Blue</td>\n",
       "      <td>GB</td>\n",
       "      <td>1996.0</td>\n",
       "      <td>Role-Playing</td>\n",
       "      <td>11.27</td>\n",
       "      <td>8.89</td>\n",
       "      <td>10.22</td>\n",
       "      <td>1.00</td>\n",
       "      <td>NaN</td>\n",
       "      <td>NaN</td>\n",
       "      <td>NaN</td>\n",
       "    </tr>\n",
       "  </tbody>\n",
       "</table>\n",
       "</div>"
      ],
      "text/plain": [
       "                       name platform  year_of_release         genre  na_sales  \\\n",
       "0                Wii Sports      Wii           2006.0        Sports     41.36   \n",
       "1         Super Mario Bros.      NES           1985.0      Platform     29.08   \n",
       "2            Mario Kart Wii      Wii           2008.0        Racing     15.68   \n",
       "3         Wii Sports Resort      Wii           2009.0        Sports     15.61   \n",
       "4  Pokemon Red/Pokemon Blue       GB           1996.0  Role-Playing     11.27   \n",
       "\n",
       "   eu_sales  jp_sales  other_sales  critic_score user_score rating  \n",
       "0     28.96      3.77         8.45          76.0          8      E  \n",
       "1      3.58      6.81         0.77           NaN        NaN    NaN  \n",
       "2     12.76      3.79         3.29          82.0        8.3      E  \n",
       "3     10.93      3.28         2.95          80.0          8      E  \n",
       "4      8.89     10.22         1.00           NaN        NaN    NaN  "
      ]
     },
     "metadata": {},
     "output_type": "display_data"
    },
    {
     "data": {
      "text/markdown": [
       "**Распределение в столбцах:**"
      ],
      "text/plain": [
       "<IPython.core.display.Markdown object>"
      ]
     },
     "metadata": {},
     "output_type": "display_data"
    },
    {
     "data": {
      "text/markdown": [
       "<span style='color:green'>**Распределение в столбце**</span> name:"
      ],
      "text/plain": [
       "<IPython.core.display.Markdown object>"
      ]
     },
     "metadata": {},
     "output_type": "display_data"
    },
    {
     "data": {
      "text/plain": [
       "count                           16713\n",
       "unique                          11559\n",
       "top       Need for Speed: Most Wanted\n",
       "freq                               12\n",
       "Name: name, dtype: object"
      ]
     },
     "metadata": {},
     "output_type": "display_data"
    },
    {
     "data": {
      "text/markdown": [
       "Наиболее часто встречающиеся события в столбце name:"
      ],
      "text/plain": [
       "<IPython.core.display.Markdown object>"
      ]
     },
     "metadata": {},
     "output_type": "display_data"
    },
    {
     "data": {
      "text/plain": [
       "Need for Speed: Most Wanted    12\n",
       "LEGO Marvel Super Heroes        9\n",
       "FIFA 14                         9\n",
       "Ratatouille                     9\n",
       "Madden NFL 07                   9\n",
       "Name: name, dtype: int64"
      ]
     },
     "metadata": {},
     "output_type": "display_data"
    },
    {
     "data": {
      "text/markdown": [
       "<span style='color:green'>**Распределение в столбце**</span> platform:"
      ],
      "text/plain": [
       "<IPython.core.display.Markdown object>"
      ]
     },
     "metadata": {},
     "output_type": "display_data"
    },
    {
     "data": {
      "text/plain": [
       "count     16715\n",
       "unique       31\n",
       "top         PS2\n",
       "freq       2161\n",
       "Name: platform, dtype: object"
      ]
     },
     "metadata": {},
     "output_type": "display_data"
    },
    {
     "data": {
      "text/markdown": [
       "Наиболее часто встречающиеся события в столбце platform:"
      ],
      "text/plain": [
       "<IPython.core.display.Markdown object>"
      ]
     },
     "metadata": {},
     "output_type": "display_data"
    },
    {
     "data": {
      "text/plain": [
       "PS2     2161\n",
       "DS      2151\n",
       "PS3     1331\n",
       "Wii     1320\n",
       "X360    1262\n",
       "Name: platform, dtype: int64"
      ]
     },
     "metadata": {},
     "output_type": "display_data"
    },
    {
     "data": {
      "text/markdown": [
       "<span style='color:green'>**Распределение в столбце**</span> year_of_release:"
      ],
      "text/plain": [
       "<IPython.core.display.Markdown object>"
      ]
     },
     "metadata": {},
     "output_type": "display_data"
    },
    {
     "data": {
      "text/plain": [
       "count    16446.000000\n",
       "mean      2006.484616\n",
       "min       1980.000000\n",
       "50%       2007.000000\n",
       "max       2016.000000\n",
       "Name: year_of_release, dtype: float64"
      ]
     },
     "metadata": {},
     "output_type": "display_data"
    },
    {
     "data": {
      "text/markdown": [
       "Наиболее часто встречающиеся события в столбце year_of_release:"
      ],
      "text/plain": [
       "<IPython.core.display.Markdown object>"
      ]
     },
     "metadata": {},
     "output_type": "display_data"
    },
    {
     "data": {
      "text/plain": [
       "2008.0    1427\n",
       "2009.0    1426\n",
       "2010.0    1255\n",
       "2007.0    1197\n",
       "2011.0    1136\n",
       "Name: year_of_release, dtype: int64"
      ]
     },
     "metadata": {},
     "output_type": "display_data"
    },
    {
     "data": {
      "text/markdown": [
       "<span style='color:green'>**Распределение в столбце**</span> genre:"
      ],
      "text/plain": [
       "<IPython.core.display.Markdown object>"
      ]
     },
     "metadata": {},
     "output_type": "display_data"
    },
    {
     "data": {
      "text/plain": [
       "count      16713\n",
       "unique        12\n",
       "top       Action\n",
       "freq        3369\n",
       "Name: genre, dtype: object"
      ]
     },
     "metadata": {},
     "output_type": "display_data"
    },
    {
     "data": {
      "text/markdown": [
       "Наиболее часто встречающиеся события в столбце genre:"
      ],
      "text/plain": [
       "<IPython.core.display.Markdown object>"
      ]
     },
     "metadata": {},
     "output_type": "display_data"
    },
    {
     "data": {
      "text/plain": [
       "Action          3369\n",
       "Sports          2348\n",
       "Misc            1750\n",
       "Role-Playing    1498\n",
       "Shooter         1323\n",
       "Name: genre, dtype: int64"
      ]
     },
     "metadata": {},
     "output_type": "display_data"
    },
    {
     "data": {
      "text/markdown": [
       "<span style='color:green'>**Распределение в столбце**</span> na_sales:"
      ],
      "text/plain": [
       "<IPython.core.display.Markdown object>"
      ]
     },
     "metadata": {},
     "output_type": "display_data"
    },
    {
     "data": {
      "text/plain": [
       "count    16715.000000\n",
       "mean         0.263377\n",
       "min          0.000000\n",
       "50%          0.080000\n",
       "max         41.360000\n",
       "Name: na_sales, dtype: float64"
      ]
     },
     "metadata": {},
     "output_type": "display_data"
    },
    {
     "data": {
      "text/markdown": [
       "Наиболее часто встречающиеся события в столбце na_sales:"
      ],
      "text/plain": [
       "<IPython.core.display.Markdown object>"
      ]
     },
     "metadata": {},
     "output_type": "display_data"
    },
    {
     "data": {
      "text/plain": [
       "0.00    4508\n",
       "0.02     576\n",
       "0.03     561\n",
       "0.04     549\n",
       "0.01     545\n",
       "Name: na_sales, dtype: int64"
      ]
     },
     "metadata": {},
     "output_type": "display_data"
    },
    {
     "data": {
      "text/markdown": [
       "<span style='color:green'>**Распределение в столбце**</span> eu_sales:"
      ],
      "text/plain": [
       "<IPython.core.display.Markdown object>"
      ]
     },
     "metadata": {},
     "output_type": "display_data"
    },
    {
     "data": {
      "text/plain": [
       "count    16715.00000\n",
       "mean         0.14506\n",
       "min          0.00000\n",
       "50%          0.02000\n",
       "max         28.96000\n",
       "Name: eu_sales, dtype: float64"
      ]
     },
     "metadata": {},
     "output_type": "display_data"
    },
    {
     "data": {
      "text/markdown": [
       "Наиболее часто встречающиеся события в столбце eu_sales:"
      ],
      "text/plain": [
       "<IPython.core.display.Markdown object>"
      ]
     },
     "metadata": {},
     "output_type": "display_data"
    },
    {
     "data": {
      "text/plain": [
       "0.00    5870\n",
       "0.01    1494\n",
       "0.02    1308\n",
       "0.03     926\n",
       "0.04     709\n",
       "Name: eu_sales, dtype: int64"
      ]
     },
     "metadata": {},
     "output_type": "display_data"
    },
    {
     "data": {
      "text/markdown": [
       "<span style='color:green'>**Распределение в столбце**</span> jp_sales:"
      ],
      "text/plain": [
       "<IPython.core.display.Markdown object>"
      ]
     },
     "metadata": {},
     "output_type": "display_data"
    },
    {
     "data": {
      "text/plain": [
       "count    16715.000000\n",
       "mean         0.077617\n",
       "min          0.000000\n",
       "50%          0.000000\n",
       "max         10.220000\n",
       "Name: jp_sales, dtype: float64"
      ]
     },
     "metadata": {},
     "output_type": "display_data"
    },
    {
     "data": {
      "text/markdown": [
       "Наиболее часто встречающиеся события в столбце jp_sales:"
      ],
      "text/plain": [
       "<IPython.core.display.Markdown object>"
      ]
     },
     "metadata": {},
     "output_type": "display_data"
    },
    {
     "data": {
      "text/plain": [
       "0.00    10514\n",
       "0.02      741\n",
       "0.01      706\n",
       "0.03      546\n",
       "0.04      397\n",
       "Name: jp_sales, dtype: int64"
      ]
     },
     "metadata": {},
     "output_type": "display_data"
    },
    {
     "data": {
      "text/markdown": [
       "<span style='color:green'>**Распределение в столбце**</span> other_sales:"
      ],
      "text/plain": [
       "<IPython.core.display.Markdown object>"
      ]
     },
     "metadata": {},
     "output_type": "display_data"
    },
    {
     "data": {
      "text/plain": [
       "count    16715.000000\n",
       "mean         0.047342\n",
       "min          0.000000\n",
       "50%          0.010000\n",
       "max         10.570000\n",
       "Name: other_sales, dtype: float64"
      ]
     },
     "metadata": {},
     "output_type": "display_data"
    },
    {
     "data": {
      "text/markdown": [
       "Наиболее часто встречающиеся события в столбце other_sales:"
      ],
      "text/plain": [
       "<IPython.core.display.Markdown object>"
      ]
     },
     "metadata": {},
     "output_type": "display_data"
    },
    {
     "data": {
      "text/plain": [
       "0.00    6601\n",
       "0.01    3464\n",
       "0.02    1618\n",
       "0.03     926\n",
       "0.04     654\n",
       "Name: other_sales, dtype: int64"
      ]
     },
     "metadata": {},
     "output_type": "display_data"
    },
    {
     "data": {
      "text/markdown": [
       "<span style='color:green'>**Распределение в столбце**</span> critic_score:"
      ],
      "text/plain": [
       "<IPython.core.display.Markdown object>"
      ]
     },
     "metadata": {},
     "output_type": "display_data"
    },
    {
     "data": {
      "text/plain": [
       "count    8137.000000\n",
       "mean       68.967679\n",
       "min        13.000000\n",
       "50%        71.000000\n",
       "max        98.000000\n",
       "Name: critic_score, dtype: float64"
      ]
     },
     "metadata": {},
     "output_type": "display_data"
    },
    {
     "data": {
      "image/png": "[encoded data removed]",
      "text/plain": [
       "<Figure size 432x288 with 1 Axes>"
      ]
     },
     "metadata": {
      "needs_background": "light"
     },
     "output_type": "display_data"
    },
    {
     "data": {
      "text/markdown": [
       "Наиболее часто встречающиеся события в столбце critic_score:"
      ],
      "text/plain": [
       "<IPython.core.display.Markdown object>"
      ]
     },
     "metadata": {},
     "output_type": "display_data"
    },
    {
     "data": {
      "text/plain": [
       "70.0    256\n",
       "71.0    254\n",
       "75.0    245\n",
       "78.0    240\n",
       "73.0    238\n",
       "Name: critic_score, dtype: int64"
      ]
     },
     "metadata": {},
     "output_type": "display_data"
    },
    {
     "data": {
      "text/markdown": [
       "<span style='color:green'>**Распределение в столбце**</span> user_score:"
      ],
      "text/plain": [
       "<IPython.core.display.Markdown object>"
      ]
     },
     "metadata": {},
     "output_type": "display_data"
    },
    {
     "data": {
      "text/plain": [
       "count     10014\n",
       "unique       96\n",
       "top         tbd\n",
       "freq       2424\n",
       "Name: user_score, dtype: object"
      ]
     },
     "metadata": {},
     "output_type": "display_data"
    },
    {
     "data": {
      "text/markdown": [
       "Наиболее часто встречающиеся события в столбце user_score:"
      ],
      "text/plain": [
       "<IPython.core.display.Markdown object>"
      ]
     },
     "metadata": {},
     "output_type": "display_data"
    },
    {
     "data": {
      "text/plain": [
       "tbd    2424\n",
       "7.8     324\n",
       "8       290\n",
       "8.2     282\n",
       "8.3     254\n",
       "Name: user_score, dtype: int64"
      ]
     },
     "metadata": {},
     "output_type": "display_data"
    },
    {
     "data": {
      "text/markdown": [
       "<span style='color:green'>**Распределение в столбце**</span> rating:"
      ],
      "text/plain": [
       "<IPython.core.display.Markdown object>"
      ]
     },
     "metadata": {},
     "output_type": "display_data"
    },
    {
     "data": {
      "text/plain": [
       "count     9949\n",
       "unique       8\n",
       "top          E\n",
       "freq      3990\n",
       "Name: rating, dtype: object"
      ]
     },
     "metadata": {},
     "output_type": "display_data"
    },
    {
     "data": {
      "text/markdown": [
       "Наиболее часто встречающиеся события в столбце rating:"
      ],
      "text/plain": [
       "<IPython.core.display.Markdown object>"
      ]
     },
     "metadata": {},
     "output_type": "display_data"
    },
    {
     "data": {
      "text/plain": [
       "E       3990\n",
       "T       2961\n",
       "M       1563\n",
       "E10+    1420\n",
       "EC         8\n",
       "Name: rating, dtype: int64"
      ]
     },
     "metadata": {},
     "output_type": "display_data"
    },
    {
     "data": {
      "text/plain": [
       "Index(['name', 'platform', 'year_of_release', 'genre', 'na_sales', 'eu_sales',\n",
       "       'jp_sales', 'other_sales', 'critic_score', 'user_score', 'rating'],\n",
       "      dtype='object')"
      ]
     },
     "metadata": {},
     "output_type": "display_data"
    }
   ],
   "source": [
    "quick_check(games, \n",
    "            dist_cols = ['name', 'platform', 'year_of_release', 'genre', 'na_sales', 'eu_sales',\n",
    "       'jp_sales', 'other_sales', 'critic_score', 'user_score', 'rating'], \n",
    "            fig_cols=['critic_score']\n",
    "           )"
   ]
  },
  {
   "cell_type": "markdown",
   "id": "bf249b46",
   "metadata": {},
   "source": [
    "**Наблюдения**:\n",
    "\n",
    "\n",
    "\n",
    "- В таблице 16715 строк.\n",
    "\n",
    "\n",
    "\n",
    "- Данные представлены в типах `float64` и `object`.\n",
    "\n",
    "\n",
    "\n",
    "- В данных есть пропуски. Графа с оценкой критиков заполнена только на половину, оценка пользователей и рейтинг заполнены примерно в 60% записей. `year_of_release` пропущен в 269 строках. В двух записях отсутствует название и жанр игры.\n",
    "\n",
    "\n",
    "\n",
    "- Названия игр повторяются, скорее всего игры перевыпускались под одинаковыми названиями в разные годы.\n",
    "\n",
    "\n",
    "- Игры выпущены на 31 платформе. Самые продуктивные платформы - `PS2 (Play Station)` и `DS (Nintendo)` - выпустили более 2000 игр.\n",
    "\n",
    "\n",
    "\n",
    "- В рассматриваемом 36-ти летнем периоде `(1980-2016)` половина игр была выпущена за последние 9 лет `(2007-2016)`. Пик выпуска игр приходится на `2008` и `2009` годы.\n",
    "\n",
    "\n",
    "\n",
    "- Игры отнесены к 12 жанрам, наиболее популярными из которых являются `Action`, `Sports` и `Misc`.\n",
    "\n",
    "\n",
    "\n",
    "- В данных о продажах много нулевых значений, что говорит о том, что игры выходили в продажу не на всех рынках или не имели успеха.\n",
    "\n",
    "\n",
    "\n",
    "- Оценки критиков нормально распределены со средним значением около 70.\n",
    "\n",
    "\n",
    "- Самое частое значение в столбце `user_score` - `tbd`, то есть оценка на данный момент еще не определена, тип данных в этом столбце -  `object`, для анализа нам понадобится перевод в числовой формат.\n",
    "\n",
    "\n",
    "- В столбце `rating` 8 уникальных значений, Самое частое из которых - категория `E` - игры для всех возрастов."
   ]
  },
  {
   "cell_type": "markdown",
   "id": "0c31b76f",
   "metadata": {},
   "source": [
    "### Замена типов данных"
   ]
  },
  {
   "cell_type": "markdown",
   "id": "7110e7dc",
   "metadata": {},
   "source": [
    "Заменим тип данных в столбце `user_score` с `object` на `float` для возможности последующего анализа.\n",
    "Значение `tbd` для нас эквиваленто `nan`, поэтому для перевода к численному формату мы заменим `tbd` на `nan`"
   ]
  },
  {
   "cell_type": "code",
   "execution_count": 7,
   "id": "b2c28e9c",
   "metadata": {},
   "outputs": [],
   "source": [
    "# Замена значений в столбце.\n",
    "games['user_score'].replace(['tbd', 'nan'], np.nan, inplace=True)"
   ]
  },
  {
   "cell_type": "markdown",
   "id": "056ecd32",
   "metadata": {},
   "source": [
    "Проверим результат, просмотрев уникальные значения по столбцу:"
   ]
  },
  {
   "cell_type": "code",
   "execution_count": 8,
   "id": "622d9406",
   "metadata": {},
   "outputs": [
    {
     "data": {
      "text/plain": [
       "array(['8', nan, '8.3', '8.5', '6.6', '8.4', '8.6', '7.7', '6.3', '7.4',\n",
       "       '8.2', '9', '7.9', '8.1', '8.7', '7.1', '3.4', '5.3', '4.8', '3.2',\n",
       "       '8.9', '6.4', '7.8', '7.5', '2.6', '7.2', '9.2', '7', '7.3', '4.3',\n",
       "       '7.6', '5.7', '5', '9.1', '6.5', '8.8', '6.9', '9.4', '6.8', '6.1',\n",
       "       '6.7', '5.4', '4', '4.9', '4.5', '9.3', '6.2', '4.2', '6', '3.7',\n",
       "       '4.1', '5.8', '5.6', '5.5', '4.4', '4.6', '5.9', '3.9', '3.1',\n",
       "       '2.9', '5.2', '3.3', '4.7', '5.1', '3.5', '2.5', '1.9', '3', '2.7',\n",
       "       '2.2', '2', '9.5', '2.1', '3.6', '2.8', '1.8', '3.8', '0', '1.6',\n",
       "       '9.6', '2.4', '1.7', '1.1', '0.3', '1.5', '0.7', '1.2', '2.3',\n",
       "       '0.5', '1.3', '0.2', '0.6', '1.4', '0.9', '1', '9.7'], dtype=object)"
      ]
     },
     "execution_count": 8,
     "metadata": {},
     "output_type": "execute_result"
    }
   ],
   "source": [
    "games['user_score'].unique()"
   ]
  },
  {
   "cell_type": "markdown",
   "id": "0622e9f3",
   "metadata": {},
   "source": [
    "Заменим тип данных на `float`:"
   ]
  },
  {
   "cell_type": "code",
   "execution_count": 9,
   "id": "4981979e",
   "metadata": {},
   "outputs": [],
   "source": [
    "# Замена типа данных в столбце.\n",
    "games['user_score'] = games['user_score'].astype('float')"
   ]
  },
  {
   "cell_type": "markdown",
   "id": "0026d3ff",
   "metadata": {},
   "source": [
    "Проверим результат:"
   ]
  },
  {
   "cell_type": "code",
   "execution_count": 10,
   "id": "98b37bc6",
   "metadata": {},
   "outputs": [
    {
     "data": {
      "text/plain": [
       "dtype('float64')"
      ]
     },
     "execution_count": 10,
     "metadata": {},
     "output_type": "execute_result"
    }
   ],
   "source": [
    "games['user_score'].dtypes"
   ]
  },
  {
   "cell_type": "markdown",
   "id": "6b7153e9",
   "metadata": {},
   "source": [
    "Данные переведены в числовой формат."
   ]
  },
  {
   "cell_type": "markdown",
   "id": "c524b983",
   "metadata": {},
   "source": [
    "### Работа с пропусками"
   ]
  },
  {
   "cell_type": "markdown",
   "id": "8fe1be78",
   "metadata": {},
   "source": [
    "\n",
    "В столбце с датой релиза игры много пропусков. Теоретически можно подобрать год выпуска игры - часто в названии игры указан год, а релиз игры происходит в предыдущий год. Однако иногда год в названии и год выпуска совпадают."
   ]
  },
  {
   "cell_type": "code",
   "execution_count": 11,
   "id": "9a400ad4",
   "metadata": {},
   "outputs": [
    {
     "data": {
      "text/html": [
       "<div>\n",
       "<style scoped>\n",
       "    .dataframe tbody tr th:only-of-type {\n",
       "        vertical-align: middle;\n",
       "    }\n",
       "\n",
       "    .dataframe tbody tr th {\n",
       "        vertical-align: top;\n",
       "    }\n",
       "\n",
       "    .dataframe thead th {\n",
       "        text-align: right;\n",
       "    }\n",
       "</style>\n",
       "<table border=\"1\" class=\"dataframe\">\n",
       "  <thead>\n",
       "    <tr style=\"text-align: right;\">\n",
       "      <th></th>\n",
       "      <th>name</th>\n",
       "      <th>platform</th>\n",
       "      <th>year_of_release</th>\n",
       "      <th>genre</th>\n",
       "      <th>na_sales</th>\n",
       "      <th>eu_sales</th>\n",
       "      <th>jp_sales</th>\n",
       "      <th>other_sales</th>\n",
       "      <th>critic_score</th>\n",
       "      <th>user_score</th>\n",
       "      <th>rating</th>\n",
       "    </tr>\n",
       "  </thead>\n",
       "  <tbody>\n",
       "    <tr>\n",
       "      <th>3308</th>\n",
       "      <td>Madden NFL 2003</td>\n",
       "      <td>GBA</td>\n",
       "      <td>2002.0</td>\n",
       "      <td>Sports</td>\n",
       "      <td>0.44</td>\n",
       "      <td>0.16</td>\n",
       "      <td>0.00</td>\n",
       "      <td>0.01</td>\n",
       "      <td>76.0</td>\n",
       "      <td>NaN</td>\n",
       "      <td>E</td>\n",
       "    </tr>\n",
       "    <tr>\n",
       "      <th>7634</th>\n",
       "      <td>Press Your Luck 2010 Edition</td>\n",
       "      <td>DS</td>\n",
       "      <td>2009.0</td>\n",
       "      <td>Misc</td>\n",
       "      <td>0.18</td>\n",
       "      <td>0.00</td>\n",
       "      <td>0.00</td>\n",
       "      <td>0.01</td>\n",
       "      <td>NaN</td>\n",
       "      <td>NaN</td>\n",
       "      <td>E</td>\n",
       "    </tr>\n",
       "    <tr>\n",
       "      <th>10621</th>\n",
       "      <td>Thief (2014)</td>\n",
       "      <td>PC</td>\n",
       "      <td>2014.0</td>\n",
       "      <td>Action</td>\n",
       "      <td>0.00</td>\n",
       "      <td>0.09</td>\n",
       "      <td>0.00</td>\n",
       "      <td>0.01</td>\n",
       "      <td>NaN</td>\n",
       "      <td>NaN</td>\n",
       "      <td>NaN</td>\n",
       "    </tr>\n",
       "    <tr>\n",
       "      <th>16714</th>\n",
       "      <td>Winning Post 8 2016</td>\n",
       "      <td>PSV</td>\n",
       "      <td>2016.0</td>\n",
       "      <td>Simulation</td>\n",
       "      <td>0.00</td>\n",
       "      <td>0.00</td>\n",
       "      <td>0.01</td>\n",
       "      <td>0.00</td>\n",
       "      <td>NaN</td>\n",
       "      <td>NaN</td>\n",
       "      <td>NaN</td>\n",
       "    </tr>\n",
       "    <tr>\n",
       "      <th>7817</th>\n",
       "      <td>Inazuma Eleven Strikers 2012 Xtreme</td>\n",
       "      <td>Wii</td>\n",
       "      <td>2011.0</td>\n",
       "      <td>Role-Playing</td>\n",
       "      <td>0.00</td>\n",
       "      <td>0.00</td>\n",
       "      <td>0.19</td>\n",
       "      <td>0.00</td>\n",
       "      <td>NaN</td>\n",
       "      <td>NaN</td>\n",
       "      <td>NaN</td>\n",
       "    </tr>\n",
       "    <tr>\n",
       "      <th>2873</th>\n",
       "      <td>Jeremy McGrath Supercross 2000</td>\n",
       "      <td>PS</td>\n",
       "      <td>2000.0</td>\n",
       "      <td>Racing</td>\n",
       "      <td>0.40</td>\n",
       "      <td>0.27</td>\n",
       "      <td>0.00</td>\n",
       "      <td>0.05</td>\n",
       "      <td>43.0</td>\n",
       "      <td>NaN</td>\n",
       "      <td>E</td>\n",
       "    </tr>\n",
       "    <tr>\n",
       "      <th>2843</th>\n",
       "      <td>Jampack Winter 2001</td>\n",
       "      <td>PS2</td>\n",
       "      <td>2001.0</td>\n",
       "      <td>Misc</td>\n",
       "      <td>0.35</td>\n",
       "      <td>0.28</td>\n",
       "      <td>0.00</td>\n",
       "      <td>0.09</td>\n",
       "      <td>NaN</td>\n",
       "      <td>NaN</td>\n",
       "      <td>NaN</td>\n",
       "    </tr>\n",
       "    <tr>\n",
       "      <th>6837</th>\n",
       "      <td>The Price is Right 2010 Edition</td>\n",
       "      <td>Wii</td>\n",
       "      <td>2009.0</td>\n",
       "      <td>Misc</td>\n",
       "      <td>0.22</td>\n",
       "      <td>0.00</td>\n",
       "      <td>0.00</td>\n",
       "      <td>0.02</td>\n",
       "      <td>NaN</td>\n",
       "      <td>NaN</td>\n",
       "      <td>E</td>\n",
       "    </tr>\n",
       "    <tr>\n",
       "      <th>15450</th>\n",
       "      <td>F1 2002</td>\n",
       "      <td>GBA</td>\n",
       "      <td>2002.0</td>\n",
       "      <td>Racing</td>\n",
       "      <td>0.01</td>\n",
       "      <td>0.01</td>\n",
       "      <td>0.00</td>\n",
       "      <td>0.00</td>\n",
       "      <td>NaN</td>\n",
       "      <td>NaN</td>\n",
       "      <td>E</td>\n",
       "    </tr>\n",
       "    <tr>\n",
       "      <th>13006</th>\n",
       "      <td>UEFA Champions League 2006-2007</td>\n",
       "      <td>X360</td>\n",
       "      <td>2007.0</td>\n",
       "      <td>Sports</td>\n",
       "      <td>0.04</td>\n",
       "      <td>0.01</td>\n",
       "      <td>0.00</td>\n",
       "      <td>0.00</td>\n",
       "      <td>72.0</td>\n",
       "      <td>8.2</td>\n",
       "      <td>E</td>\n",
       "    </tr>\n",
       "  </tbody>\n",
       "</table>\n",
       "</div>"
      ],
      "text/plain": [
       "                                      name platform  year_of_release  \\\n",
       "3308                       Madden NFL 2003      GBA           2002.0   \n",
       "7634          Press Your Luck 2010 Edition       DS           2009.0   \n",
       "10621                         Thief (2014)       PC           2014.0   \n",
       "16714                  Winning Post 8 2016      PSV           2016.0   \n",
       "7817   Inazuma Eleven Strikers 2012 Xtreme      Wii           2011.0   \n",
       "2873        Jeremy McGrath Supercross 2000       PS           2000.0   \n",
       "2843                   Jampack Winter 2001      PS2           2001.0   \n",
       "6837       The Price is Right 2010 Edition      Wii           2009.0   \n",
       "15450                              F1 2002      GBA           2002.0   \n",
       "13006      UEFA Champions League 2006-2007     X360           2007.0   \n",
       "\n",
       "              genre  na_sales  eu_sales  jp_sales  other_sales  critic_score  \\\n",
       "3308         Sports      0.44      0.16      0.00         0.01          76.0   \n",
       "7634           Misc      0.18      0.00      0.00         0.01           NaN   \n",
       "10621        Action      0.00      0.09      0.00         0.01           NaN   \n",
       "16714    Simulation      0.00      0.00      0.01         0.00           NaN   \n",
       "7817   Role-Playing      0.00      0.00      0.19         0.00           NaN   \n",
       "2873         Racing      0.40      0.27      0.00         0.05          43.0   \n",
       "2843           Misc      0.35      0.28      0.00         0.09           NaN   \n",
       "6837           Misc      0.22      0.00      0.00         0.02           NaN   \n",
       "15450        Racing      0.01      0.01      0.00         0.00           NaN   \n",
       "13006        Sports      0.04      0.01      0.00         0.00          72.0   \n",
       "\n",
       "       user_score rating  \n",
       "3308          NaN      E  \n",
       "7634          NaN      E  \n",
       "10621         NaN    NaN  \n",
       "16714         NaN    NaN  \n",
       "7817          NaN    NaN  \n",
       "2873          NaN      E  \n",
       "2843          NaN    NaN  \n",
       "6837          NaN      E  \n",
       "15450         NaN      E  \n",
       "13006         8.2      E  "
      ]
     },
     "execution_count": 11,
     "metadata": {},
     "output_type": "execute_result"
    }
   ],
   "source": [
    "# Просмотр строк таблицы, удовлетворяющих условию.\n",
    "games[games['name'].str.contains('20', na=False)].sample(10, random_state=70)"
   ]
  },
  {
   "cell_type": "markdown",
   "id": "05046571",
   "metadata": {},
   "source": [
    "На данном этапе удаление или заполнение пропусков мне не кажется целесообразным. Если в процессе анализа нам помешают пропуски в определенном столбце (например, [`user_score`]), мы пересмотрим этот вопрос.\n",
    "\n",
    "Однако, уже сейчас мы можем ввести новую категорию для неопределенных значений столбца `rating`: `NONE`."
   ]
  },
  {
   "cell_type": "code",
   "execution_count": 12,
   "id": "ac6d0ce2",
   "metadata": {},
   "outputs": [],
   "source": [
    "# Замена неопределенных значений в столбце на соответствующую категорию.\n",
    "games['rating'].replace(np.nan, 'NONE', inplace=True)"
   ]
  },
  {
   "cell_type": "code",
   "execution_count": 13,
   "id": "e16b875e",
   "metadata": {},
   "outputs": [
    {
     "data": {
      "text/plain": [
       "array(['E', 'NONE', 'M', 'T', 'E10+', 'K-A', 'AO', 'EC', 'RP'],\n",
       "      dtype=object)"
      ]
     },
     "execution_count": 13,
     "metadata": {},
     "output_type": "execute_result"
    }
   ],
   "source": [
    "# Просмотр результата.\n",
    "games['rating'].unique()"
   ]
  },
  {
   "cell_type": "markdown",
   "id": "daa80c4b",
   "metadata": {},
   "source": [
    "Проверим, есть ли в данных явные дубликаты:"
   ]
  },
  {
   "cell_type": "code",
   "execution_count": 14,
   "id": "a199bbd5",
   "metadata": {
    "scrolled": true
   },
   "outputs": [
    {
     "data": {
      "text/plain": [
       "0"
      ]
     },
     "execution_count": 14,
     "metadata": {},
     "output_type": "execute_result"
    }
   ],
   "source": [
    "# Поиск дубликатов.\n",
    "games.duplicated().sum()"
   ]
  },
  {
   "cell_type": "markdown",
   "id": "95d8e8ac",
   "metadata": {},
   "source": [
    "Явных дубликатов нет. Искать неявные дубликаты в данном формате данных, на мой взгляд, не имеет особого смысла."
   ]
  },
  {
   "cell_type": "code",
   "execution_count": 15,
   "id": "869d0b67",
   "metadata": {
    "scrolled": true
   },
   "outputs": [
    {
     "data": {
      "text/plain": [
       "2"
      ]
     },
     "execution_count": 15,
     "metadata": {},
     "output_type": "execute_result"
    }
   ],
   "source": [
    "# Просмотр количества дубликатов.\n",
    "games[['name', 'platform', 'year_of_release']].duplicated().sum()"
   ]
  },
  {
   "cell_type": "markdown",
   "id": "26c18728",
   "metadata": {},
   "source": [
    "Посмотрим дублирующиеся строки:"
   ]
  },
  {
   "cell_type": "code",
   "execution_count": 16,
   "id": "4d9207e5",
   "metadata": {},
   "outputs": [
    {
     "data": {
      "text/html": [
       "<div>\n",
       "<style scoped>\n",
       "    .dataframe tbody tr th:only-of-type {\n",
       "        vertical-align: middle;\n",
       "    }\n",
       "\n",
       "    .dataframe tbody tr th {\n",
       "        vertical-align: top;\n",
       "    }\n",
       "\n",
       "    .dataframe thead th {\n",
       "        text-align: right;\n",
       "    }\n",
       "</style>\n",
       "<table border=\"1\" class=\"dataframe\">\n",
       "  <thead>\n",
       "    <tr style=\"text-align: right;\">\n",
       "      <th></th>\n",
       "      <th>name</th>\n",
       "      <th>platform</th>\n",
       "      <th>year_of_release</th>\n",
       "      <th>genre</th>\n",
       "      <th>na_sales</th>\n",
       "      <th>eu_sales</th>\n",
       "      <th>jp_sales</th>\n",
       "      <th>other_sales</th>\n",
       "      <th>critic_score</th>\n",
       "      <th>user_score</th>\n",
       "      <th>rating</th>\n",
       "    </tr>\n",
       "  </thead>\n",
       "  <tbody>\n",
       "    <tr>\n",
       "      <th>14244</th>\n",
       "      <td>NaN</td>\n",
       "      <td>GEN</td>\n",
       "      <td>1993.0</td>\n",
       "      <td>NaN</td>\n",
       "      <td>0.0</td>\n",
       "      <td>0.00</td>\n",
       "      <td>0.03</td>\n",
       "      <td>0.0</td>\n",
       "      <td>NaN</td>\n",
       "      <td>NaN</td>\n",
       "      <td>NONE</td>\n",
       "    </tr>\n",
       "    <tr>\n",
       "      <th>16230</th>\n",
       "      <td>Madden NFL 13</td>\n",
       "      <td>PS3</td>\n",
       "      <td>2012.0</td>\n",
       "      <td>Sports</td>\n",
       "      <td>0.0</td>\n",
       "      <td>0.01</td>\n",
       "      <td>0.00</td>\n",
       "      <td>0.0</td>\n",
       "      <td>83.0</td>\n",
       "      <td>5.5</td>\n",
       "      <td>E</td>\n",
       "    </tr>\n",
       "  </tbody>\n",
       "</table>\n",
       "</div>"
      ],
      "text/plain": [
       "                name platform  year_of_release   genre  na_sales  eu_sales  \\\n",
       "14244            NaN      GEN           1993.0     NaN       0.0      0.00   \n",
       "16230  Madden NFL 13      PS3           2012.0  Sports       0.0      0.01   \n",
       "\n",
       "       jp_sales  other_sales  critic_score  user_score rating  \n",
       "14244      0.03          0.0           NaN         NaN   NONE  \n",
       "16230      0.00          0.0          83.0         5.5      E  "
      ]
     },
     "execution_count": 16,
     "metadata": {},
     "output_type": "execute_result"
    }
   ],
   "source": [
    "# Просмотр дубликатов.\n",
    "games.loc[games[['name', 'platform', 'year_of_release']].duplicated()]"
   ]
  },
  {
   "cell_type": "markdown",
   "id": "a7450f2e",
   "metadata": {},
   "source": [
    "Мы видим одну строку без названия и рейтингов, и одну с игрой 'Madden NFL 13'. Посмотрим все записи с этим названием игры:"
   ]
  },
  {
   "cell_type": "code",
   "execution_count": 17,
   "id": "210ef2a9",
   "metadata": {},
   "outputs": [
    {
     "data": {
      "text/html": [
       "<div>\n",
       "<style scoped>\n",
       "    .dataframe tbody tr th:only-of-type {\n",
       "        vertical-align: middle;\n",
       "    }\n",
       "\n",
       "    .dataframe tbody tr th {\n",
       "        vertical-align: top;\n",
       "    }\n",
       "\n",
       "    .dataframe thead th {\n",
       "        text-align: right;\n",
       "    }\n",
       "</style>\n",
       "<table border=\"1\" class=\"dataframe\">\n",
       "  <thead>\n",
       "    <tr style=\"text-align: right;\">\n",
       "      <th></th>\n",
       "      <th>name</th>\n",
       "      <th>platform</th>\n",
       "      <th>year_of_release</th>\n",
       "      <th>genre</th>\n",
       "      <th>na_sales</th>\n",
       "      <th>eu_sales</th>\n",
       "      <th>jp_sales</th>\n",
       "      <th>other_sales</th>\n",
       "      <th>critic_score</th>\n",
       "      <th>user_score</th>\n",
       "      <th>rating</th>\n",
       "    </tr>\n",
       "  </thead>\n",
       "  <tbody>\n",
       "    <tr>\n",
       "      <th>604</th>\n",
       "      <td>Madden NFL 13</td>\n",
       "      <td>PS3</td>\n",
       "      <td>2012.0</td>\n",
       "      <td>Sports</td>\n",
       "      <td>2.11</td>\n",
       "      <td>0.22</td>\n",
       "      <td>0.0</td>\n",
       "      <td>0.23</td>\n",
       "      <td>83.0</td>\n",
       "      <td>5.5</td>\n",
       "      <td>E</td>\n",
       "    </tr>\n",
       "    <tr>\n",
       "      <th>16230</th>\n",
       "      <td>Madden NFL 13</td>\n",
       "      <td>PS3</td>\n",
       "      <td>2012.0</td>\n",
       "      <td>Sports</td>\n",
       "      <td>0.00</td>\n",
       "      <td>0.01</td>\n",
       "      <td>0.0</td>\n",
       "      <td>0.00</td>\n",
       "      <td>83.0</td>\n",
       "      <td>5.5</td>\n",
       "      <td>E</td>\n",
       "    </tr>\n",
       "  </tbody>\n",
       "</table>\n",
       "</div>"
      ],
      "text/plain": [
       "                name platform  year_of_release   genre  na_sales  eu_sales  \\\n",
       "604    Madden NFL 13      PS3           2012.0  Sports      2.11      0.22   \n",
       "16230  Madden NFL 13      PS3           2012.0  Sports      0.00      0.01   \n",
       "\n",
       "       jp_sales  other_sales  critic_score  user_score rating  \n",
       "604         0.0         0.23          83.0         5.5      E  \n",
       "16230       0.0         0.00          83.0         5.5      E  "
      ]
     },
     "execution_count": 17,
     "metadata": {},
     "output_type": "execute_result"
    }
   ],
   "source": [
    "# Просмотр строк по срезу.\n",
    "games.loc[(games['name'] == 'Madden NFL 13')&(games['platform'] == 'PS3')]"
   ]
  },
  {
   "cell_type": "markdown",
   "id": "e009dd3e",
   "metadata": {},
   "source": [
    "Обнаруженные строки действительно являются дубликатами, их мы удалим."
   ]
  },
  {
   "cell_type": "code",
   "execution_count": 18,
   "id": "94f92252",
   "metadata": {},
   "outputs": [],
   "source": [
    "# Удаление строк по индексу.\n",
    "games = games.drop([14244, 16230])"
   ]
  },
  {
   "cell_type": "markdown",
   "id": "0b1dc18e",
   "metadata": {},
   "source": [
    "Посмотрим на самое часто встречающееся название игры в данных `Need for Speed: Most Wanted`:"
   ]
  },
  {
   "cell_type": "code",
   "execution_count": 19,
   "id": "24ffb0c7",
   "metadata": {},
   "outputs": [
    {
     "data": {
      "text/html": [
       "<div>\n",
       "<style scoped>\n",
       "    .dataframe tbody tr th:only-of-type {\n",
       "        vertical-align: middle;\n",
       "    }\n",
       "\n",
       "    .dataframe tbody tr th {\n",
       "        vertical-align: top;\n",
       "    }\n",
       "\n",
       "    .dataframe thead th {\n",
       "        text-align: right;\n",
       "    }\n",
       "</style>\n",
       "<table border=\"1\" class=\"dataframe\">\n",
       "  <thead>\n",
       "    <tr style=\"text-align: right;\">\n",
       "      <th></th>\n",
       "      <th>name</th>\n",
       "      <th>platform</th>\n",
       "      <th>year_of_release</th>\n",
       "      <th>genre</th>\n",
       "      <th>na_sales</th>\n",
       "      <th>eu_sales</th>\n",
       "      <th>jp_sales</th>\n",
       "      <th>other_sales</th>\n",
       "      <th>critic_score</th>\n",
       "      <th>user_score</th>\n",
       "      <th>rating</th>\n",
       "    </tr>\n",
       "  </thead>\n",
       "  <tbody>\n",
       "    <tr>\n",
       "      <th>253</th>\n",
       "      <td>Need for Speed: Most Wanted</td>\n",
       "      <td>PS2</td>\n",
       "      <td>2005.0</td>\n",
       "      <td>Racing</td>\n",
       "      <td>2.03</td>\n",
       "      <td>1.79</td>\n",
       "      <td>0.08</td>\n",
       "      <td>0.47</td>\n",
       "      <td>82.0</td>\n",
       "      <td>9.1</td>\n",
       "      <td>T</td>\n",
       "    </tr>\n",
       "    <tr>\n",
       "      <th>1591</th>\n",
       "      <td>Need for Speed: Most Wanted</td>\n",
       "      <td>X360</td>\n",
       "      <td>2005.0</td>\n",
       "      <td>Racing</td>\n",
       "      <td>1.00</td>\n",
       "      <td>0.13</td>\n",
       "      <td>0.02</td>\n",
       "      <td>0.10</td>\n",
       "      <td>83.0</td>\n",
       "      <td>8.5</td>\n",
       "      <td>T</td>\n",
       "    </tr>\n",
       "    <tr>\n",
       "      <th>1998</th>\n",
       "      <td>Need for Speed: Most Wanted</td>\n",
       "      <td>XB</td>\n",
       "      <td>2005.0</td>\n",
       "      <td>Racing</td>\n",
       "      <td>0.53</td>\n",
       "      <td>0.46</td>\n",
       "      <td>0.00</td>\n",
       "      <td>0.05</td>\n",
       "      <td>83.0</td>\n",
       "      <td>8.8</td>\n",
       "      <td>T</td>\n",
       "    </tr>\n",
       "    <tr>\n",
       "      <th>3581</th>\n",
       "      <td>Need for Speed: Most Wanted</td>\n",
       "      <td>GC</td>\n",
       "      <td>2005.0</td>\n",
       "      <td>Racing</td>\n",
       "      <td>0.43</td>\n",
       "      <td>0.11</td>\n",
       "      <td>0.00</td>\n",
       "      <td>0.02</td>\n",
       "      <td>80.0</td>\n",
       "      <td>9.1</td>\n",
       "      <td>T</td>\n",
       "    </tr>\n",
       "    <tr>\n",
       "      <th>5972</th>\n",
       "      <td>Need for Speed: Most Wanted</td>\n",
       "      <td>PC</td>\n",
       "      <td>2005.0</td>\n",
       "      <td>Racing</td>\n",
       "      <td>0.02</td>\n",
       "      <td>0.23</td>\n",
       "      <td>0.00</td>\n",
       "      <td>0.04</td>\n",
       "      <td>82.0</td>\n",
       "      <td>8.5</td>\n",
       "      <td>T</td>\n",
       "    </tr>\n",
       "    <tr>\n",
       "      <th>6410</th>\n",
       "      <td>Need for Speed: Most Wanted</td>\n",
       "      <td>DS</td>\n",
       "      <td>2005.0</td>\n",
       "      <td>Racing</td>\n",
       "      <td>0.24</td>\n",
       "      <td>0.01</td>\n",
       "      <td>0.00</td>\n",
       "      <td>0.02</td>\n",
       "      <td>45.0</td>\n",
       "      <td>6.1</td>\n",
       "      <td>E</td>\n",
       "    </tr>\n",
       "    <tr>\n",
       "      <th>6473</th>\n",
       "      <td>Need for Speed: Most Wanted</td>\n",
       "      <td>GBA</td>\n",
       "      <td>2005.0</td>\n",
       "      <td>Racing</td>\n",
       "      <td>0.19</td>\n",
       "      <td>0.07</td>\n",
       "      <td>0.00</td>\n",
       "      <td>0.00</td>\n",
       "      <td>NaN</td>\n",
       "      <td>8.3</td>\n",
       "      <td>E</td>\n",
       "    </tr>\n",
       "    <tr>\n",
       "      <th>523</th>\n",
       "      <td>Need for Speed: Most Wanted</td>\n",
       "      <td>PS3</td>\n",
       "      <td>2012.0</td>\n",
       "      <td>Racing</td>\n",
       "      <td>0.71</td>\n",
       "      <td>1.46</td>\n",
       "      <td>0.06</td>\n",
       "      <td>0.58</td>\n",
       "      <td>NaN</td>\n",
       "      <td>NaN</td>\n",
       "      <td>NONE</td>\n",
       "    </tr>\n",
       "    <tr>\n",
       "      <th>1190</th>\n",
       "      <td>Need for Speed: Most Wanted</td>\n",
       "      <td>X360</td>\n",
       "      <td>2012.0</td>\n",
       "      <td>Racing</td>\n",
       "      <td>0.62</td>\n",
       "      <td>0.78</td>\n",
       "      <td>0.01</td>\n",
       "      <td>0.15</td>\n",
       "      <td>83.0</td>\n",
       "      <td>8.5</td>\n",
       "      <td>T</td>\n",
       "    </tr>\n",
       "    <tr>\n",
       "      <th>2048</th>\n",
       "      <td>Need for Speed: Most Wanted</td>\n",
       "      <td>PSV</td>\n",
       "      <td>2012.0</td>\n",
       "      <td>Racing</td>\n",
       "      <td>0.33</td>\n",
       "      <td>0.45</td>\n",
       "      <td>0.01</td>\n",
       "      <td>0.22</td>\n",
       "      <td>NaN</td>\n",
       "      <td>NaN</td>\n",
       "      <td>NONE</td>\n",
       "    </tr>\n",
       "    <tr>\n",
       "      <th>11715</th>\n",
       "      <td>Need for Speed: Most Wanted</td>\n",
       "      <td>PC</td>\n",
       "      <td>2012.0</td>\n",
       "      <td>Racing</td>\n",
       "      <td>0.00</td>\n",
       "      <td>0.06</td>\n",
       "      <td>0.00</td>\n",
       "      <td>0.02</td>\n",
       "      <td>82.0</td>\n",
       "      <td>8.5</td>\n",
       "      <td>T</td>\n",
       "    </tr>\n",
       "    <tr>\n",
       "      <th>6273</th>\n",
       "      <td>Need for Speed: Most Wanted</td>\n",
       "      <td>WiiU</td>\n",
       "      <td>2013.0</td>\n",
       "      <td>Racing</td>\n",
       "      <td>0.13</td>\n",
       "      <td>0.12</td>\n",
       "      <td>0.00</td>\n",
       "      <td>0.02</td>\n",
       "      <td>NaN</td>\n",
       "      <td>NaN</td>\n",
       "      <td>NONE</td>\n",
       "    </tr>\n",
       "  </tbody>\n",
       "</table>\n",
       "</div>"
      ],
      "text/plain": [
       "                              name platform  year_of_release   genre  \\\n",
       "253    Need for Speed: Most Wanted      PS2           2005.0  Racing   \n",
       "1591   Need for Speed: Most Wanted     X360           2005.0  Racing   \n",
       "1998   Need for Speed: Most Wanted       XB           2005.0  Racing   \n",
       "3581   Need for Speed: Most Wanted       GC           2005.0  Racing   \n",
       "5972   Need for Speed: Most Wanted       PC           2005.0  Racing   \n",
       "6410   Need for Speed: Most Wanted       DS           2005.0  Racing   \n",
       "6473   Need for Speed: Most Wanted      GBA           2005.0  Racing   \n",
       "523    Need for Speed: Most Wanted      PS3           2012.0  Racing   \n",
       "1190   Need for Speed: Most Wanted     X360           2012.0  Racing   \n",
       "2048   Need for Speed: Most Wanted      PSV           2012.0  Racing   \n",
       "11715  Need for Speed: Most Wanted       PC           2012.0  Racing   \n",
       "6273   Need for Speed: Most Wanted     WiiU           2013.0  Racing   \n",
       "\n",
       "       na_sales  eu_sales  jp_sales  other_sales  critic_score  user_score  \\\n",
       "253        2.03      1.79      0.08         0.47          82.0         9.1   \n",
       "1591       1.00      0.13      0.02         0.10          83.0         8.5   \n",
       "1998       0.53      0.46      0.00         0.05          83.0         8.8   \n",
       "3581       0.43      0.11      0.00         0.02          80.0         9.1   \n",
       "5972       0.02      0.23      0.00         0.04          82.0         8.5   \n",
       "6410       0.24      0.01      0.00         0.02          45.0         6.1   \n",
       "6473       0.19      0.07      0.00         0.00           NaN         8.3   \n",
       "523        0.71      1.46      0.06         0.58           NaN         NaN   \n",
       "1190       0.62      0.78      0.01         0.15          83.0         8.5   \n",
       "2048       0.33      0.45      0.01         0.22           NaN         NaN   \n",
       "11715      0.00      0.06      0.00         0.02          82.0         8.5   \n",
       "6273       0.13      0.12      0.00         0.02           NaN         NaN   \n",
       "\n",
       "      rating  \n",
       "253        T  \n",
       "1591       T  \n",
       "1998       T  \n",
       "3581       T  \n",
       "5972       T  \n",
       "6410       E  \n",
       "6473       E  \n",
       "523     NONE  \n",
       "1190       T  \n",
       "2048    NONE  \n",
       "11715      T  \n",
       "6273    NONE  "
      ]
     },
     "execution_count": 19,
     "metadata": {},
     "output_type": "execute_result"
    }
   ],
   "source": [
    "# Просмотр строк по срезу.\n",
    "games.loc[games['name'] == 'Need for Speed: Most Wanted'].sort_values(by='year_of_release')"
   ]
  },
  {
   "cell_type": "markdown",
   "id": "ac2631f0",
   "metadata": {},
   "source": [
    "Мы видим, что игра `Need for Speed: Most Wanted` выпускалась в 2005 году на 7 разных платформах, а в 2012 - на 4-х. Согласно поиску в Google, в эту игру можно даже играть на `Kindle`."
   ]
  },
  {
   "cell_type": "markdown",
   "id": "94eb7674",
   "metadata": {},
   "source": [
    "### Добавление столбца суммарных продаж"
   ]
  },
  {
   "cell_type": "markdown",
   "id": "442341d5",
   "metadata": {},
   "source": [
    "Создадим новый столбец с общими продажами, просуммировав суммы продаж по регионам:"
   ]
  },
  {
   "cell_type": "code",
   "execution_count": 20,
   "id": "86c454ef",
   "metadata": {},
   "outputs": [],
   "source": [
    "# Создание нового столбца.\n",
    "games['total_sales'] = games['na_sales'] + games['eu_sales'] + games['jp_sales'] + games['other_sales']"
   ]
  },
  {
   "cell_type": "code",
   "execution_count": 21,
   "id": "50106e8d",
   "metadata": {},
   "outputs": [
    {
     "data": {
      "text/html": [
       "<div>\n",
       "<style scoped>\n",
       "    .dataframe tbody tr th:only-of-type {\n",
       "        vertical-align: middle;\n",
       "    }\n",
       "\n",
       "    .dataframe tbody tr th {\n",
       "        vertical-align: top;\n",
       "    }\n",
       "\n",
       "    .dataframe thead th {\n",
       "        text-align: right;\n",
       "    }\n",
       "</style>\n",
       "<table border=\"1\" class=\"dataframe\">\n",
       "  <thead>\n",
       "    <tr style=\"text-align: right;\">\n",
       "      <th></th>\n",
       "      <th>name</th>\n",
       "      <th>platform</th>\n",
       "      <th>year_of_release</th>\n",
       "      <th>genre</th>\n",
       "      <th>na_sales</th>\n",
       "      <th>eu_sales</th>\n",
       "      <th>jp_sales</th>\n",
       "      <th>other_sales</th>\n",
       "      <th>critic_score</th>\n",
       "      <th>user_score</th>\n",
       "      <th>rating</th>\n",
       "      <th>total_sales</th>\n",
       "    </tr>\n",
       "  </thead>\n",
       "  <tbody>\n",
       "    <tr>\n",
       "      <th>0</th>\n",
       "      <td>Wii Sports</td>\n",
       "      <td>Wii</td>\n",
       "      <td>2006.0</td>\n",
       "      <td>Sports</td>\n",
       "      <td>41.36</td>\n",
       "      <td>28.96</td>\n",
       "      <td>3.77</td>\n",
       "      <td>8.45</td>\n",
       "      <td>76.0</td>\n",
       "      <td>8.0</td>\n",
       "      <td>E</td>\n",
       "      <td>82.54</td>\n",
       "    </tr>\n",
       "    <tr>\n",
       "      <th>1</th>\n",
       "      <td>Super Mario Bros.</td>\n",
       "      <td>NES</td>\n",
       "      <td>1985.0</td>\n",
       "      <td>Platform</td>\n",
       "      <td>29.08</td>\n",
       "      <td>3.58</td>\n",
       "      <td>6.81</td>\n",
       "      <td>0.77</td>\n",
       "      <td>NaN</td>\n",
       "      <td>NaN</td>\n",
       "      <td>NONE</td>\n",
       "      <td>40.24</td>\n",
       "    </tr>\n",
       "    <tr>\n",
       "      <th>2</th>\n",
       "      <td>Mario Kart Wii</td>\n",
       "      <td>Wii</td>\n",
       "      <td>2008.0</td>\n",
       "      <td>Racing</td>\n",
       "      <td>15.68</td>\n",
       "      <td>12.76</td>\n",
       "      <td>3.79</td>\n",
       "      <td>3.29</td>\n",
       "      <td>82.0</td>\n",
       "      <td>8.3</td>\n",
       "      <td>E</td>\n",
       "      <td>35.52</td>\n",
       "    </tr>\n",
       "    <tr>\n",
       "      <th>3</th>\n",
       "      <td>Wii Sports Resort</td>\n",
       "      <td>Wii</td>\n",
       "      <td>2009.0</td>\n",
       "      <td>Sports</td>\n",
       "      <td>15.61</td>\n",
       "      <td>10.93</td>\n",
       "      <td>3.28</td>\n",
       "      <td>2.95</td>\n",
       "      <td>80.0</td>\n",
       "      <td>8.0</td>\n",
       "      <td>E</td>\n",
       "      <td>32.77</td>\n",
       "    </tr>\n",
       "    <tr>\n",
       "      <th>4</th>\n",
       "      <td>Pokemon Red/Pokemon Blue</td>\n",
       "      <td>GB</td>\n",
       "      <td>1996.0</td>\n",
       "      <td>Role-Playing</td>\n",
       "      <td>11.27</td>\n",
       "      <td>8.89</td>\n",
       "      <td>10.22</td>\n",
       "      <td>1.00</td>\n",
       "      <td>NaN</td>\n",
       "      <td>NaN</td>\n",
       "      <td>NONE</td>\n",
       "      <td>31.38</td>\n",
       "    </tr>\n",
       "  </tbody>\n",
       "</table>\n",
       "</div>"
      ],
      "text/plain": [
       "                       name platform  year_of_release         genre  na_sales  \\\n",
       "0                Wii Sports      Wii           2006.0        Sports     41.36   \n",
       "1         Super Mario Bros.      NES           1985.0      Platform     29.08   \n",
       "2            Mario Kart Wii      Wii           2008.0        Racing     15.68   \n",
       "3         Wii Sports Resort      Wii           2009.0        Sports     15.61   \n",
       "4  Pokemon Red/Pokemon Blue       GB           1996.0  Role-Playing     11.27   \n",
       "\n",
       "   eu_sales  jp_sales  other_sales  critic_score  user_score rating  \\\n",
       "0     28.96      3.77         8.45          76.0         8.0      E   \n",
       "1      3.58      6.81         0.77           NaN         NaN   NONE   \n",
       "2     12.76      3.79         3.29          82.0         8.3      E   \n",
       "3     10.93      3.28         2.95          80.0         8.0      E   \n",
       "4      8.89     10.22         1.00           NaN         NaN   NONE   \n",
       "\n",
       "   total_sales  \n",
       "0        82.54  \n",
       "1        40.24  \n",
       "2        35.52  \n",
       "3        32.77  \n",
       "4        31.38  "
      ]
     },
     "execution_count": 21,
     "metadata": {},
     "output_type": "execute_result"
    }
   ],
   "source": [
    "# Просмотр результата.\n",
    "games.head()"
   ]
  },
  {
   "cell_type": "markdown",
   "id": "d115f831",
   "metadata": {},
   "source": [
    "## Исследовательский анализ данных"
   ]
  },
  {
   "cell_type": "markdown",
   "id": "4a6283a7",
   "metadata": {},
   "source": [
    "### Количество игр, выпущенных по годам"
   ]
  },
  {
   "cell_type": "markdown",
   "id": "9f208837",
   "metadata": {},
   "source": [
    "Выясним, сколько игр выпускалось в разные годы. Сгруппируем данные по годам и отсортируем по количеству выпущенных за год игр."
   ]
  },
  {
   "cell_type": "code",
   "execution_count": 22,
   "id": "717785ac",
   "metadata": {
    "scrolled": true
   },
   "outputs": [
    {
     "data": {
      "text/html": [
       "<div>\n",
       "<style scoped>\n",
       "    .dataframe tbody tr th:only-of-type {\n",
       "        vertical-align: middle;\n",
       "    }\n",
       "\n",
       "    .dataframe tbody tr th {\n",
       "        vertical-align: top;\n",
       "    }\n",
       "\n",
       "    .dataframe thead th {\n",
       "        text-align: right;\n",
       "    }\n",
       "</style>\n",
       "<table border=\"1\" class=\"dataframe\">\n",
       "  <thead>\n",
       "    <tr style=\"text-align: right;\">\n",
       "      <th></th>\n",
       "      <th>year_of_release</th>\n",
       "      <th>games_released</th>\n",
       "    </tr>\n",
       "  </thead>\n",
       "  <tbody>\n",
       "    <tr>\n",
       "      <th>28</th>\n",
       "      <td>2008</td>\n",
       "      <td>1427</td>\n",
       "    </tr>\n",
       "    <tr>\n",
       "      <th>29</th>\n",
       "      <td>2009</td>\n",
       "      <td>1426</td>\n",
       "    </tr>\n",
       "    <tr>\n",
       "      <th>30</th>\n",
       "      <td>2010</td>\n",
       "      <td>1255</td>\n",
       "    </tr>\n",
       "    <tr>\n",
       "      <th>27</th>\n",
       "      <td>2007</td>\n",
       "      <td>1197</td>\n",
       "    </tr>\n",
       "    <tr>\n",
       "      <th>31</th>\n",
       "      <td>2011</td>\n",
       "      <td>1136</td>\n",
       "    </tr>\n",
       "    <tr>\n",
       "      <th>26</th>\n",
       "      <td>2006</td>\n",
       "      <td>1006</td>\n",
       "    </tr>\n",
       "    <tr>\n",
       "      <th>25</th>\n",
       "      <td>2005</td>\n",
       "      <td>939</td>\n",
       "    </tr>\n",
       "    <tr>\n",
       "      <th>22</th>\n",
       "      <td>2002</td>\n",
       "      <td>829</td>\n",
       "    </tr>\n",
       "    <tr>\n",
       "      <th>23</th>\n",
       "      <td>2003</td>\n",
       "      <td>775</td>\n",
       "    </tr>\n",
       "    <tr>\n",
       "      <th>24</th>\n",
       "      <td>2004</td>\n",
       "      <td>762</td>\n",
       "    </tr>\n",
       "    <tr>\n",
       "      <th>32</th>\n",
       "      <td>2012</td>\n",
       "      <td>652</td>\n",
       "    </tr>\n",
       "    <tr>\n",
       "      <th>35</th>\n",
       "      <td>2015</td>\n",
       "      <td>606</td>\n",
       "    </tr>\n",
       "    <tr>\n",
       "      <th>34</th>\n",
       "      <td>2014</td>\n",
       "      <td>581</td>\n",
       "    </tr>\n",
       "    <tr>\n",
       "      <th>33</th>\n",
       "      <td>2013</td>\n",
       "      <td>544</td>\n",
       "    </tr>\n",
       "    <tr>\n",
       "      <th>36</th>\n",
       "      <td>2016</td>\n",
       "      <td>502</td>\n",
       "    </tr>\n",
       "    <tr>\n",
       "      <th>21</th>\n",
       "      <td>2001</td>\n",
       "      <td>482</td>\n",
       "    </tr>\n",
       "    <tr>\n",
       "      <th>18</th>\n",
       "      <td>1998</td>\n",
       "      <td>379</td>\n",
       "    </tr>\n",
       "    <tr>\n",
       "      <th>20</th>\n",
       "      <td>2000</td>\n",
       "      <td>350</td>\n",
       "    </tr>\n",
       "    <tr>\n",
       "      <th>19</th>\n",
       "      <td>1999</td>\n",
       "      <td>338</td>\n",
       "    </tr>\n",
       "    <tr>\n",
       "      <th>17</th>\n",
       "      <td>1997</td>\n",
       "      <td>289</td>\n",
       "    </tr>\n",
       "    <tr>\n",
       "      <th>16</th>\n",
       "      <td>1996</td>\n",
       "      <td>263</td>\n",
       "    </tr>\n",
       "    <tr>\n",
       "      <th>15</th>\n",
       "      <td>1995</td>\n",
       "      <td>219</td>\n",
       "    </tr>\n",
       "    <tr>\n",
       "      <th>14</th>\n",
       "      <td>1994</td>\n",
       "      <td>121</td>\n",
       "    </tr>\n",
       "    <tr>\n",
       "      <th>13</th>\n",
       "      <td>1993</td>\n",
       "      <td>60</td>\n",
       "    </tr>\n",
       "    <tr>\n",
       "      <th>1</th>\n",
       "      <td>1981</td>\n",
       "      <td>46</td>\n",
       "    </tr>\n",
       "    <tr>\n",
       "      <th>12</th>\n",
       "      <td>1992</td>\n",
       "      <td>43</td>\n",
       "    </tr>\n",
       "    <tr>\n",
       "      <th>11</th>\n",
       "      <td>1991</td>\n",
       "      <td>41</td>\n",
       "    </tr>\n",
       "    <tr>\n",
       "      <th>2</th>\n",
       "      <td>1982</td>\n",
       "      <td>36</td>\n",
       "    </tr>\n",
       "    <tr>\n",
       "      <th>6</th>\n",
       "      <td>1986</td>\n",
       "      <td>21</td>\n",
       "    </tr>\n",
       "    <tr>\n",
       "      <th>9</th>\n",
       "      <td>1989</td>\n",
       "      <td>17</td>\n",
       "    </tr>\n",
       "    <tr>\n",
       "      <th>3</th>\n",
       "      <td>1983</td>\n",
       "      <td>17</td>\n",
       "    </tr>\n",
       "    <tr>\n",
       "      <th>10</th>\n",
       "      <td>1990</td>\n",
       "      <td>16</td>\n",
       "    </tr>\n",
       "    <tr>\n",
       "      <th>7</th>\n",
       "      <td>1987</td>\n",
       "      <td>16</td>\n",
       "    </tr>\n",
       "    <tr>\n",
       "      <th>8</th>\n",
       "      <td>1988</td>\n",
       "      <td>15</td>\n",
       "    </tr>\n",
       "    <tr>\n",
       "      <th>5</th>\n",
       "      <td>1985</td>\n",
       "      <td>14</td>\n",
       "    </tr>\n",
       "    <tr>\n",
       "      <th>4</th>\n",
       "      <td>1984</td>\n",
       "      <td>14</td>\n",
       "    </tr>\n",
       "    <tr>\n",
       "      <th>0</th>\n",
       "      <td>1980</td>\n",
       "      <td>9</td>\n",
       "    </tr>\n",
       "  </tbody>\n",
       "</table>\n",
       "</div>"
      ],
      "text/plain": [
       "    year_of_release  games_released\n",
       "28             2008            1427\n",
       "29             2009            1426\n",
       "30             2010            1255\n",
       "27             2007            1197\n",
       "31             2011            1136\n",
       "26             2006            1006\n",
       "25             2005             939\n",
       "22             2002             829\n",
       "23             2003             775\n",
       "24             2004             762\n",
       "32             2012             652\n",
       "35             2015             606\n",
       "34             2014             581\n",
       "33             2013             544\n",
       "36             2016             502\n",
       "21             2001             482\n",
       "18             1998             379\n",
       "20             2000             350\n",
       "19             1999             338\n",
       "17             1997             289\n",
       "16             1996             263\n",
       "15             1995             219\n",
       "14             1994             121\n",
       "13             1993              60\n",
       "1              1981              46\n",
       "12             1992              43\n",
       "11             1991              41\n",
       "2              1982              36\n",
       "6              1986              21\n",
       "9              1989              17\n",
       "3              1983              17\n",
       "10             1990              16\n",
       "7              1987              16\n",
       "8              1988              15\n",
       "5              1985              14\n",
       "4              1984              14\n",
       "0              1980               9"
      ]
     },
     "execution_count": 22,
     "metadata": {},
     "output_type": "execute_result"
    }
   ],
   "source": [
    "# Группировка данных по годам.\n",
    "games_years = games.groupby(['year_of_release'], as_index=False).agg(\n",
    "    games_released=('name','count')).astype(int)\n",
    "\n",
    "# Вывод на экран в порядке убывания.\n",
    "games_years.sort_values(by='games_released', ascending=False)"
   ]
  },
  {
   "cell_type": "markdown",
   "id": "bf545a44",
   "metadata": {},
   "source": [
    "Визуализируем данные для наглядности. Предварительно создадим несколько палитр, которые будем использовать далее:"
   ]
  },
  {
   "cell_type": "code",
   "execution_count": 23,
   "id": "261dd1ae",
   "metadata": {},
   "outputs": [],
   "source": [
    "# Создание палитры.\n",
    "pal_40 = sns.color_palette(\"mako\", 40)\n",
    "pal_10 = sns.color_palette(\"mako\", 10)\n",
    "pal_12 = sns.color_palette(\"mako\", 12)"
   ]
  },
  {
   "cell_type": "code",
   "execution_count": 24,
   "id": "728c8c4a",
   "metadata": {},
   "outputs": [
    {
     "data": {
      "image/png": "[encoded data removed]",
      "text/plain": [
       "<Figure size 1152x504 with 1 Axes>"
      ]
     },
     "metadata": {},
     "output_type": "display_data"
    }
   ],
   "source": [
    "# Установка стиля графиков.\n",
    "plt.style.use('seaborn-white')\n",
    "\n",
    "# Построение столбчатой диаграммы.\n",
    "plt.figure(figsize=(16, 7))\n",
    "sns.barplot(x='year_of_release', y='games_released', data=games_years, palette=pal_40)\n",
    "\n",
    "plt.xticks(rotation=90, fontsize=10)\n",
    "plt.title('Распределение выхода игр по годам', fontsize=14)\n",
    "plt.ylabel('Количество игр', fontsize=11)\n",
    "plt.xlabel('Год выпуска', fontsize=11);"
   ]
  },
  {
   "cell_type": "markdown",
   "id": "f52ee219",
   "metadata": {},
   "source": [
    "- Наибольшее количество игр выпущено в период с `2002 по 2011` годы. \n",
    "\n",
    "\n",
    "- В период с `2012 по 2016` количество выпущенных игр значительно сократилось.\n",
    "\n",
    "\n",
    "- Период до 1993 года нет смысла принимать в расчет - выпущенных игр очень мало и рынок нельзя считать актуальным.\n",
    "\n",
    "\n",
    "- Период с `1994 по 2001` для данного проекта также не актуален.\n"
   ]
  },
  {
   "cell_type": "markdown",
   "id": "76cfd32e",
   "metadata": {},
   "source": [
    "### Продажи по платформам"
   ]
  },
  {
   "cell_type": "markdown",
   "id": "4cadc1b2",
   "metadata": {},
   "source": [
    "Посмотрим на изменения продаж по платформам.\n",
    "Найдем платформы с самыми высокими продажами и визуализируем данные."
   ]
  },
  {
   "cell_type": "code",
   "execution_count": 25,
   "id": "63b11a40",
   "metadata": {},
   "outputs": [
    {
     "data": {
      "text/html": [
       "<div>\n",
       "<style scoped>\n",
       "    .dataframe tbody tr th:only-of-type {\n",
       "        vertical-align: middle;\n",
       "    }\n",
       "\n",
       "    .dataframe tbody tr th {\n",
       "        vertical-align: top;\n",
       "    }\n",
       "\n",
       "    .dataframe thead th {\n",
       "        text-align: right;\n",
       "    }\n",
       "</style>\n",
       "<table border=\"1\" class=\"dataframe\">\n",
       "  <thead>\n",
       "    <tr style=\"text-align: right;\">\n",
       "      <th></th>\n",
       "      <th>platform</th>\n",
       "      <th>sales_per_platform</th>\n",
       "    </tr>\n",
       "  </thead>\n",
       "  <tbody>\n",
       "    <tr>\n",
       "      <th>16</th>\n",
       "      <td>PS2</td>\n",
       "      <td>1255.77</td>\n",
       "    </tr>\n",
       "    <tr>\n",
       "      <th>28</th>\n",
       "      <td>X360</td>\n",
       "      <td>971.42</td>\n",
       "    </tr>\n",
       "    <tr>\n",
       "      <th>17</th>\n",
       "      <td>PS3</td>\n",
       "      <td>939.64</td>\n",
       "    </tr>\n",
       "    <tr>\n",
       "      <th>26</th>\n",
       "      <td>Wii</td>\n",
       "      <td>907.51</td>\n",
       "    </tr>\n",
       "    <tr>\n",
       "      <th>4</th>\n",
       "      <td>DS</td>\n",
       "      <td>806.12</td>\n",
       "    </tr>\n",
       "    <tr>\n",
       "      <th>15</th>\n",
       "      <td>PS</td>\n",
       "      <td>730.86</td>\n",
       "    </tr>\n",
       "    <tr>\n",
       "      <th>6</th>\n",
       "      <td>GBA</td>\n",
       "      <td>317.85</td>\n",
       "    </tr>\n",
       "    <tr>\n",
       "      <th>18</th>\n",
       "      <td>PS4</td>\n",
       "      <td>314.14</td>\n",
       "    </tr>\n",
       "    <tr>\n",
       "      <th>19</th>\n",
       "      <td>PSP</td>\n",
       "      <td>294.05</td>\n",
       "    </tr>\n",
       "    <tr>\n",
       "      <th>13</th>\n",
       "      <td>PC</td>\n",
       "      <td>259.52</td>\n",
       "    </tr>\n",
       "  </tbody>\n",
       "</table>\n",
       "</div>"
      ],
      "text/plain": [
       "   platform  sales_per_platform\n",
       "16      PS2             1255.77\n",
       "28     X360              971.42\n",
       "17      PS3              939.64\n",
       "26      Wii              907.51\n",
       "4        DS              806.12\n",
       "15       PS              730.86\n",
       "6       GBA              317.85\n",
       "18      PS4              314.14\n",
       "19      PSP              294.05\n",
       "13       PC              259.52"
      ]
     },
     "execution_count": 25,
     "metadata": {},
     "output_type": "execute_result"
    }
   ],
   "source": [
    "# Группировка данных по годам.\n",
    "games_platforms = games.groupby(['platform'], as_index=False).agg(\n",
    "    sales_per_platform=('total_sales','sum')).sort_values(by='sales_per_platform', ascending=False)\n",
    "\n",
    "# Вывод на экран.\n",
    "games_platforms.head(10)"
   ]
  },
  {
   "cell_type": "code",
   "execution_count": 26,
   "id": "5ba8ce44",
   "metadata": {},
   "outputs": [
    {
     "data": {
      "image/png": "[encoded data removed]",
      "text/plain": [
       "<Figure size 1152x576 with 1 Axes>"
      ]
     },
     "metadata": {},
     "output_type": "display_data"
    }
   ],
   "source": [
    "# Построение столбчатой диаграммы.\n",
    "plt.figure(figsize=(16, 8))\n",
    "sns.barplot(x='platform', y='sales_per_platform', data=games_platforms, palette=pal_40)\n",
    "\n",
    "plt.xticks(rotation=90, fontsize=10)\n",
    "plt.title('Распределение продаж по платформам', fontsize=14)\n",
    "plt.ylabel('Количество игр', fontsize=11)\n",
    "plt.xlabel('Год выпуска', fontsize=11);"
   ]
  },
  {
   "cell_type": "markdown",
   "id": "0a436178",
   "metadata": {},
   "source": [
    "Мы видим 6 платформ, которые явно выделяются по продажам: `'PS2', 'X360', 'PS3', 'Wii', 'DS', 'PS'`. Посмотрим на них более подробно."
   ]
  },
  {
   "cell_type": "code",
   "execution_count": 27,
   "id": "d14511b4",
   "metadata": {},
   "outputs": [
    {
     "data": {
      "text/plain": [
       "['PS2', 'X360', 'PS3', 'Wii', 'DS', 'PS']"
      ]
     },
     "execution_count": 27,
     "metadata": {},
     "output_type": "execute_result"
    }
   ],
   "source": [
    "# Создание списка топ-платформ.\n",
    "top_platforms = games_platforms['platform'].head(6).to_list()\n",
    "top_platforms"
   ]
  },
  {
   "cell_type": "markdown",
   "id": "fb9fdfe8",
   "metadata": {},
   "source": [
    "Посмотрим на продажи по годам для каждой платформы. Также выведем количество выпущенных игр и среднее значение по общим продажам."
   ]
  },
  {
   "cell_type": "code",
   "execution_count": 28,
   "id": "34804846",
   "metadata": {},
   "outputs": [],
   "source": [
    "# Определение функции.\n",
    "def top_plat_numbers(pl, print_name=True):\n",
    "    '''\n",
    "    Функция возвращает сводную таблицу общих продаж,\n",
    "    количества выпущенных игр и среднее по общим продажам \n",
    "    по заданной платформе в год.\n",
    "    '''\n",
    "    if print_name == True:\n",
    "        printmd('**Платформа**' + ' ' + pl + '**. Количество игр и продажи по годам.**')\n",
    "        \n",
    "    sales = games.loc[games['platform'] == pl].groupby(['year_of_release'], as_index=False).agg(\n",
    "        games_released=('name','count'),\n",
    "        total_sales_year=('total_sales','sum'),\n",
    "        mean_sales=('total_sales','mean')).round(decimals=2)\n",
    "    \n",
    "    return sales"
   ]
  },
  {
   "cell_type": "code",
   "execution_count": 29,
   "id": "6beea4f8",
   "metadata": {},
   "outputs": [
    {
     "data": {
      "text/markdown": [
       "**Платформа** PS2**. Количество игр и продажи по годам.**"
      ],
      "text/plain": [
       "<IPython.core.display.Markdown object>"
      ]
     },
     "metadata": {},
     "output_type": "display_data"
    },
    {
     "data": {
      "text/html": [
       "<div>\n",
       "<style scoped>\n",
       "    .dataframe tbody tr th:only-of-type {\n",
       "        vertical-align: middle;\n",
       "    }\n",
       "\n",
       "    .dataframe tbody tr th {\n",
       "        vertical-align: top;\n",
       "    }\n",
       "\n",
       "    .dataframe thead th {\n",
       "        text-align: right;\n",
       "    }\n",
       "</style>\n",
       "<table border=\"1\" class=\"dataframe\">\n",
       "  <thead>\n",
       "    <tr style=\"text-align: right;\">\n",
       "      <th></th>\n",
       "      <th>year_of_release</th>\n",
       "      <th>games_released</th>\n",
       "      <th>total_sales_year</th>\n",
       "      <th>mean_sales</th>\n",
       "    </tr>\n",
       "  </thead>\n",
       "  <tbody>\n",
       "    <tr>\n",
       "      <th>0</th>\n",
       "      <td>2000.0</td>\n",
       "      <td>82</td>\n",
       "      <td>39.17</td>\n",
       "      <td>0.48</td>\n",
       "    </tr>\n",
       "    <tr>\n",
       "      <th>1</th>\n",
       "      <td>2001.0</td>\n",
       "      <td>185</td>\n",
       "      <td>166.43</td>\n",
       "      <td>0.90</td>\n",
       "    </tr>\n",
       "    <tr>\n",
       "      <th>2</th>\n",
       "      <td>2002.0</td>\n",
       "      <td>280</td>\n",
       "      <td>205.38</td>\n",
       "      <td>0.73</td>\n",
       "    </tr>\n",
       "    <tr>\n",
       "      <th>3</th>\n",
       "      <td>2003.0</td>\n",
       "      <td>256</td>\n",
       "      <td>184.31</td>\n",
       "      <td>0.72</td>\n",
       "    </tr>\n",
       "    <tr>\n",
       "      <th>4</th>\n",
       "      <td>2004.0</td>\n",
       "      <td>259</td>\n",
       "      <td>211.81</td>\n",
       "      <td>0.82</td>\n",
       "    </tr>\n",
       "    <tr>\n",
       "      <th>5</th>\n",
       "      <td>2005.0</td>\n",
       "      <td>260</td>\n",
       "      <td>160.66</td>\n",
       "      <td>0.62</td>\n",
       "    </tr>\n",
       "    <tr>\n",
       "      <th>6</th>\n",
       "      <td>2006.0</td>\n",
       "      <td>259</td>\n",
       "      <td>103.42</td>\n",
       "      <td>0.40</td>\n",
       "    </tr>\n",
       "    <tr>\n",
       "      <th>7</th>\n",
       "      <td>2007.0</td>\n",
       "      <td>214</td>\n",
       "      <td>75.99</td>\n",
       "      <td>0.36</td>\n",
       "    </tr>\n",
       "    <tr>\n",
       "      <th>8</th>\n",
       "      <td>2008.0</td>\n",
       "      <td>191</td>\n",
       "      <td>53.90</td>\n",
       "      <td>0.28</td>\n",
       "    </tr>\n",
       "    <tr>\n",
       "      <th>9</th>\n",
       "      <td>2009.0</td>\n",
       "      <td>96</td>\n",
       "      <td>26.40</td>\n",
       "      <td>0.28</td>\n",
       "    </tr>\n",
       "    <tr>\n",
       "      <th>10</th>\n",
       "      <td>2010.0</td>\n",
       "      <td>38</td>\n",
       "      <td>5.64</td>\n",
       "      <td>0.15</td>\n",
       "    </tr>\n",
       "    <tr>\n",
       "      <th>11</th>\n",
       "      <td>2011.0</td>\n",
       "      <td>7</td>\n",
       "      <td>0.45</td>\n",
       "      <td>0.06</td>\n",
       "    </tr>\n",
       "  </tbody>\n",
       "</table>\n",
       "</div>"
      ],
      "text/plain": [
       "    year_of_release  games_released  total_sales_year  mean_sales\n",
       "0            2000.0              82             39.17        0.48\n",
       "1            2001.0             185            166.43        0.90\n",
       "2            2002.0             280            205.38        0.73\n",
       "3            2003.0             256            184.31        0.72\n",
       "4            2004.0             259            211.81        0.82\n",
       "5            2005.0             260            160.66        0.62\n",
       "6            2006.0             259            103.42        0.40\n",
       "7            2007.0             214             75.99        0.36\n",
       "8            2008.0             191             53.90        0.28\n",
       "9            2009.0              96             26.40        0.28\n",
       "10           2010.0              38              5.64        0.15\n",
       "11           2011.0               7              0.45        0.06"
      ]
     },
     "metadata": {},
     "output_type": "display_data"
    },
    {
     "data": {
      "text/markdown": [
       "**Платформа** X360**. Количество игр и продажи по годам.**"
      ],
      "text/plain": [
       "<IPython.core.display.Markdown object>"
      ]
     },
     "metadata": {},
     "output_type": "display_data"
    },
    {
     "data": {
      "text/html": [
       "<div>\n",
       "<style scoped>\n",
       "    .dataframe tbody tr th:only-of-type {\n",
       "        vertical-align: middle;\n",
       "    }\n",
       "\n",
       "    .dataframe tbody tr th {\n",
       "        vertical-align: top;\n",
       "    }\n",
       "\n",
       "    .dataframe thead th {\n",
       "        text-align: right;\n",
       "    }\n",
       "</style>\n",
       "<table border=\"1\" class=\"dataframe\">\n",
       "  <thead>\n",
       "    <tr style=\"text-align: right;\">\n",
       "      <th></th>\n",
       "      <th>year_of_release</th>\n",
       "      <th>games_released</th>\n",
       "      <th>total_sales_year</th>\n",
       "      <th>mean_sales</th>\n",
       "    </tr>\n",
       "  </thead>\n",
       "  <tbody>\n",
       "    <tr>\n",
       "      <th>0</th>\n",
       "      <td>2005.0</td>\n",
       "      <td>18</td>\n",
       "      <td>8.25</td>\n",
       "      <td>0.46</td>\n",
       "    </tr>\n",
       "    <tr>\n",
       "      <th>1</th>\n",
       "      <td>2006.0</td>\n",
       "      <td>93</td>\n",
       "      <td>51.62</td>\n",
       "      <td>0.56</td>\n",
       "    </tr>\n",
       "    <tr>\n",
       "      <th>2</th>\n",
       "      <td>2007.0</td>\n",
       "      <td>123</td>\n",
       "      <td>95.41</td>\n",
       "      <td>0.78</td>\n",
       "    </tr>\n",
       "    <tr>\n",
       "      <th>3</th>\n",
       "      <td>2008.0</td>\n",
       "      <td>146</td>\n",
       "      <td>135.26</td>\n",
       "      <td>0.93</td>\n",
       "    </tr>\n",
       "    <tr>\n",
       "      <th>4</th>\n",
       "      <td>2009.0</td>\n",
       "      <td>172</td>\n",
       "      <td>120.29</td>\n",
       "      <td>0.70</td>\n",
       "    </tr>\n",
       "    <tr>\n",
       "      <th>5</th>\n",
       "      <td>2010.0</td>\n",
       "      <td>182</td>\n",
       "      <td>170.03</td>\n",
       "      <td>0.93</td>\n",
       "    </tr>\n",
       "    <tr>\n",
       "      <th>6</th>\n",
       "      <td>2011.0</td>\n",
       "      <td>206</td>\n",
       "      <td>143.84</td>\n",
       "      <td>0.70</td>\n",
       "    </tr>\n",
       "    <tr>\n",
       "      <th>7</th>\n",
       "      <td>2012.0</td>\n",
       "      <td>106</td>\n",
       "      <td>99.74</td>\n",
       "      <td>0.94</td>\n",
       "    </tr>\n",
       "    <tr>\n",
       "      <th>8</th>\n",
       "      <td>2013.0</td>\n",
       "      <td>75</td>\n",
       "      <td>88.58</td>\n",
       "      <td>1.18</td>\n",
       "    </tr>\n",
       "    <tr>\n",
       "      <th>9</th>\n",
       "      <td>2014.0</td>\n",
       "      <td>63</td>\n",
       "      <td>34.74</td>\n",
       "      <td>0.55</td>\n",
       "    </tr>\n",
       "    <tr>\n",
       "      <th>10</th>\n",
       "      <td>2015.0</td>\n",
       "      <td>35</td>\n",
       "      <td>11.96</td>\n",
       "      <td>0.34</td>\n",
       "    </tr>\n",
       "    <tr>\n",
       "      <th>11</th>\n",
       "      <td>2016.0</td>\n",
       "      <td>13</td>\n",
       "      <td>1.52</td>\n",
       "      <td>0.12</td>\n",
       "    </tr>\n",
       "  </tbody>\n",
       "</table>\n",
       "</div>"
      ],
      "text/plain": [
       "    year_of_release  games_released  total_sales_year  mean_sales\n",
       "0            2005.0              18              8.25        0.46\n",
       "1            2006.0              93             51.62        0.56\n",
       "2            2007.0             123             95.41        0.78\n",
       "3            2008.0             146            135.26        0.93\n",
       "4            2009.0             172            120.29        0.70\n",
       "5            2010.0             182            170.03        0.93\n",
       "6            2011.0             206            143.84        0.70\n",
       "7            2012.0             106             99.74        0.94\n",
       "8            2013.0              75             88.58        1.18\n",
       "9            2014.0              63             34.74        0.55\n",
       "10           2015.0              35             11.96        0.34\n",
       "11           2016.0              13              1.52        0.12"
      ]
     },
     "metadata": {},
     "output_type": "display_data"
    },
    {
     "data": {
      "text/markdown": [
       "**Платформа** PS3**. Количество игр и продажи по годам.**"
      ],
      "text/plain": [
       "<IPython.core.display.Markdown object>"
      ]
     },
     "metadata": {},
     "output_type": "display_data"
    },
    {
     "data": {
      "text/html": [
       "<div>\n",
       "<style scoped>\n",
       "    .dataframe tbody tr th:only-of-type {\n",
       "        vertical-align: middle;\n",
       "    }\n",
       "\n",
       "    .dataframe tbody tr th {\n",
       "        vertical-align: top;\n",
       "    }\n",
       "\n",
       "    .dataframe thead th {\n",
       "        text-align: right;\n",
       "    }\n",
       "</style>\n",
       "<table border=\"1\" class=\"dataframe\">\n",
       "  <thead>\n",
       "    <tr style=\"text-align: right;\">\n",
       "      <th></th>\n",
       "      <th>year_of_release</th>\n",
       "      <th>games_released</th>\n",
       "      <th>total_sales_year</th>\n",
       "      <th>mean_sales</th>\n",
       "    </tr>\n",
       "  </thead>\n",
       "  <tbody>\n",
       "    <tr>\n",
       "      <th>0</th>\n",
       "      <td>2006.0</td>\n",
       "      <td>27</td>\n",
       "      <td>20.96</td>\n",
       "      <td>0.78</td>\n",
       "    </tr>\n",
       "    <tr>\n",
       "      <th>1</th>\n",
       "      <td>2007.0</td>\n",
       "      <td>90</td>\n",
       "      <td>73.19</td>\n",
       "      <td>0.81</td>\n",
       "    </tr>\n",
       "    <tr>\n",
       "      <th>2</th>\n",
       "      <td>2008.0</td>\n",
       "      <td>138</td>\n",
       "      <td>118.52</td>\n",
       "      <td>0.86</td>\n",
       "    </tr>\n",
       "    <tr>\n",
       "      <th>3</th>\n",
       "      <td>2009.0</td>\n",
       "      <td>162</td>\n",
       "      <td>130.93</td>\n",
       "      <td>0.81</td>\n",
       "    </tr>\n",
       "    <tr>\n",
       "      <th>4</th>\n",
       "      <td>2010.0</td>\n",
       "      <td>181</td>\n",
       "      <td>142.17</td>\n",
       "      <td>0.79</td>\n",
       "    </tr>\n",
       "    <tr>\n",
       "      <th>5</th>\n",
       "      <td>2011.0</td>\n",
       "      <td>215</td>\n",
       "      <td>156.78</td>\n",
       "      <td>0.73</td>\n",
       "    </tr>\n",
       "    <tr>\n",
       "      <th>6</th>\n",
       "      <td>2012.0</td>\n",
       "      <td>147</td>\n",
       "      <td>107.35</td>\n",
       "      <td>0.73</td>\n",
       "    </tr>\n",
       "    <tr>\n",
       "      <th>7</th>\n",
       "      <td>2013.0</td>\n",
       "      <td>126</td>\n",
       "      <td>113.25</td>\n",
       "      <td>0.90</td>\n",
       "    </tr>\n",
       "    <tr>\n",
       "      <th>8</th>\n",
       "      <td>2014.0</td>\n",
       "      <td>108</td>\n",
       "      <td>47.76</td>\n",
       "      <td>0.44</td>\n",
       "    </tr>\n",
       "    <tr>\n",
       "      <th>9</th>\n",
       "      <td>2015.0</td>\n",
       "      <td>73</td>\n",
       "      <td>16.82</td>\n",
       "      <td>0.23</td>\n",
       "    </tr>\n",
       "    <tr>\n",
       "      <th>10</th>\n",
       "      <td>2016.0</td>\n",
       "      <td>38</td>\n",
       "      <td>3.60</td>\n",
       "      <td>0.09</td>\n",
       "    </tr>\n",
       "  </tbody>\n",
       "</table>\n",
       "</div>"
      ],
      "text/plain": [
       "    year_of_release  games_released  total_sales_year  mean_sales\n",
       "0            2006.0              27             20.96        0.78\n",
       "1            2007.0              90             73.19        0.81\n",
       "2            2008.0             138            118.52        0.86\n",
       "3            2009.0             162            130.93        0.81\n",
       "4            2010.0             181            142.17        0.79\n",
       "5            2011.0             215            156.78        0.73\n",
       "6            2012.0             147            107.35        0.73\n",
       "7            2013.0             126            113.25        0.90\n",
       "8            2014.0             108             47.76        0.44\n",
       "9            2015.0              73             16.82        0.23\n",
       "10           2016.0              38              3.60        0.09"
      ]
     },
     "metadata": {},
     "output_type": "display_data"
    },
    {
     "data": {
      "text/markdown": [
       "**Платформа** Wii**. Количество игр и продажи по годам.**"
      ],
      "text/plain": [
       "<IPython.core.display.Markdown object>"
      ]
     },
     "metadata": {},
     "output_type": "display_data"
    },
    {
     "data": {
      "text/html": [
       "<div>\n",
       "<style scoped>\n",
       "    .dataframe tbody tr th:only-of-type {\n",
       "        vertical-align: middle;\n",
       "    }\n",
       "\n",
       "    .dataframe tbody tr th {\n",
       "        vertical-align: top;\n",
       "    }\n",
       "\n",
       "    .dataframe thead th {\n",
       "        text-align: right;\n",
       "    }\n",
       "</style>\n",
       "<table border=\"1\" class=\"dataframe\">\n",
       "  <thead>\n",
       "    <tr style=\"text-align: right;\">\n",
       "      <th></th>\n",
       "      <th>year_of_release</th>\n",
       "      <th>games_released</th>\n",
       "      <th>total_sales_year</th>\n",
       "      <th>mean_sales</th>\n",
       "    </tr>\n",
       "  </thead>\n",
       "  <tbody>\n",
       "    <tr>\n",
       "      <th>0</th>\n",
       "      <td>2006.0</td>\n",
       "      <td>44</td>\n",
       "      <td>137.15</td>\n",
       "      <td>3.12</td>\n",
       "    </tr>\n",
       "    <tr>\n",
       "      <th>1</th>\n",
       "      <td>2007.0</td>\n",
       "      <td>185</td>\n",
       "      <td>152.77</td>\n",
       "      <td>0.83</td>\n",
       "    </tr>\n",
       "    <tr>\n",
       "      <th>2</th>\n",
       "      <td>2008.0</td>\n",
       "      <td>282</td>\n",
       "      <td>171.32</td>\n",
       "      <td>0.61</td>\n",
       "    </tr>\n",
       "    <tr>\n",
       "      <th>3</th>\n",
       "      <td>2009.0</td>\n",
       "      <td>325</td>\n",
       "      <td>206.97</td>\n",
       "      <td>0.64</td>\n",
       "    </tr>\n",
       "    <tr>\n",
       "      <th>4</th>\n",
       "      <td>2010.0</td>\n",
       "      <td>253</td>\n",
       "      <td>127.95</td>\n",
       "      <td>0.51</td>\n",
       "    </tr>\n",
       "    <tr>\n",
       "      <th>5</th>\n",
       "      <td>2011.0</td>\n",
       "      <td>143</td>\n",
       "      <td>59.65</td>\n",
       "      <td>0.42</td>\n",
       "    </tr>\n",
       "    <tr>\n",
       "      <th>6</th>\n",
       "      <td>2012.0</td>\n",
       "      <td>31</td>\n",
       "      <td>21.71</td>\n",
       "      <td>0.70</td>\n",
       "    </tr>\n",
       "    <tr>\n",
       "      <th>7</th>\n",
       "      <td>2013.0</td>\n",
       "      <td>12</td>\n",
       "      <td>8.59</td>\n",
       "      <td>0.72</td>\n",
       "    </tr>\n",
       "    <tr>\n",
       "      <th>8</th>\n",
       "      <td>2014.0</td>\n",
       "      <td>6</td>\n",
       "      <td>3.75</td>\n",
       "      <td>0.62</td>\n",
       "    </tr>\n",
       "    <tr>\n",
       "      <th>9</th>\n",
       "      <td>2015.0</td>\n",
       "      <td>4</td>\n",
       "      <td>1.14</td>\n",
       "      <td>0.28</td>\n",
       "    </tr>\n",
       "    <tr>\n",
       "      <th>10</th>\n",
       "      <td>2016.0</td>\n",
       "      <td>1</td>\n",
       "      <td>0.18</td>\n",
       "      <td>0.18</td>\n",
       "    </tr>\n",
       "  </tbody>\n",
       "</table>\n",
       "</div>"
      ],
      "text/plain": [
       "    year_of_release  games_released  total_sales_year  mean_sales\n",
       "0            2006.0              44            137.15        3.12\n",
       "1            2007.0             185            152.77        0.83\n",
       "2            2008.0             282            171.32        0.61\n",
       "3            2009.0             325            206.97        0.64\n",
       "4            2010.0             253            127.95        0.51\n",
       "5            2011.0             143             59.65        0.42\n",
       "6            2012.0              31             21.71        0.70\n",
       "7            2013.0              12              8.59        0.72\n",
       "8            2014.0               6              3.75        0.62\n",
       "9            2015.0               4              1.14        0.28\n",
       "10           2016.0               1              0.18        0.18"
      ]
     },
     "metadata": {},
     "output_type": "display_data"
    },
    {
     "data": {
      "text/markdown": [
       "**Платформа** DS**. Количество игр и продажи по годам.**"
      ],
      "text/plain": [
       "<IPython.core.display.Markdown object>"
      ]
     },
     "metadata": {},
     "output_type": "display_data"
    },
    {
     "data": {
      "text/html": [
       "<div>\n",
       "<style scoped>\n",
       "    .dataframe tbody tr th:only-of-type {\n",
       "        vertical-align: middle;\n",
       "    }\n",
       "\n",
       "    .dataframe tbody tr th {\n",
       "        vertical-align: top;\n",
       "    }\n",
       "\n",
       "    .dataframe thead th {\n",
       "        text-align: right;\n",
       "    }\n",
       "</style>\n",
       "<table border=\"1\" class=\"dataframe\">\n",
       "  <thead>\n",
       "    <tr style=\"text-align: right;\">\n",
       "      <th></th>\n",
       "      <th>year_of_release</th>\n",
       "      <th>games_released</th>\n",
       "      <th>total_sales_year</th>\n",
       "      <th>mean_sales</th>\n",
       "    </tr>\n",
       "  </thead>\n",
       "  <tbody>\n",
       "    <tr>\n",
       "      <th>0</th>\n",
       "      <td>1985.0</td>\n",
       "      <td>1</td>\n",
       "      <td>0.02</td>\n",
       "      <td>0.02</td>\n",
       "    </tr>\n",
       "    <tr>\n",
       "      <th>1</th>\n",
       "      <td>2004.0</td>\n",
       "      <td>23</td>\n",
       "      <td>17.27</td>\n",
       "      <td>0.75</td>\n",
       "    </tr>\n",
       "    <tr>\n",
       "      <th>2</th>\n",
       "      <td>2005.0</td>\n",
       "      <td>118</td>\n",
       "      <td>130.14</td>\n",
       "      <td>1.10</td>\n",
       "    </tr>\n",
       "    <tr>\n",
       "      <th>3</th>\n",
       "      <td>2006.0</td>\n",
       "      <td>201</td>\n",
       "      <td>119.81</td>\n",
       "      <td>0.60</td>\n",
       "    </tr>\n",
       "    <tr>\n",
       "      <th>4</th>\n",
       "      <td>2007.0</td>\n",
       "      <td>376</td>\n",
       "      <td>146.94</td>\n",
       "      <td>0.39</td>\n",
       "    </tr>\n",
       "    <tr>\n",
       "      <th>5</th>\n",
       "      <td>2008.0</td>\n",
       "      <td>492</td>\n",
       "      <td>145.31</td>\n",
       "      <td>0.30</td>\n",
       "    </tr>\n",
       "    <tr>\n",
       "      <th>6</th>\n",
       "      <td>2009.0</td>\n",
       "      <td>403</td>\n",
       "      <td>119.54</td>\n",
       "      <td>0.30</td>\n",
       "    </tr>\n",
       "    <tr>\n",
       "      <th>7</th>\n",
       "      <td>2010.0</td>\n",
       "      <td>323</td>\n",
       "      <td>85.02</td>\n",
       "      <td>0.26</td>\n",
       "    </tr>\n",
       "    <tr>\n",
       "      <th>8</th>\n",
       "      <td>2011.0</td>\n",
       "      <td>153</td>\n",
       "      <td>26.18</td>\n",
       "      <td>0.17</td>\n",
       "    </tr>\n",
       "    <tr>\n",
       "      <th>9</th>\n",
       "      <td>2012.0</td>\n",
       "      <td>23</td>\n",
       "      <td>11.01</td>\n",
       "      <td>0.48</td>\n",
       "    </tr>\n",
       "    <tr>\n",
       "      <th>10</th>\n",
       "      <td>2013.0</td>\n",
       "      <td>8</td>\n",
       "      <td>1.54</td>\n",
       "      <td>0.19</td>\n",
       "    </tr>\n",
       "  </tbody>\n",
       "</table>\n",
       "</div>"
      ],
      "text/plain": [
       "    year_of_release  games_released  total_sales_year  mean_sales\n",
       "0            1985.0               1              0.02        0.02\n",
       "1            2004.0              23             17.27        0.75\n",
       "2            2005.0             118            130.14        1.10\n",
       "3            2006.0             201            119.81        0.60\n",
       "4            2007.0             376            146.94        0.39\n",
       "5            2008.0             492            145.31        0.30\n",
       "6            2009.0             403            119.54        0.30\n",
       "7            2010.0             323             85.02        0.26\n",
       "8            2011.0             153             26.18        0.17\n",
       "9            2012.0              23             11.01        0.48\n",
       "10           2013.0               8              1.54        0.19"
      ]
     },
     "metadata": {},
     "output_type": "display_data"
    },
    {
     "data": {
      "text/markdown": [
       "**Платформа** PS**. Количество игр и продажи по годам.**"
      ],
      "text/plain": [
       "<IPython.core.display.Markdown object>"
      ]
     },
     "metadata": {},
     "output_type": "display_data"
    },
    {
     "data": {
      "text/html": [
       "<div>\n",
       "<style scoped>\n",
       "    .dataframe tbody tr th:only-of-type {\n",
       "        vertical-align: middle;\n",
       "    }\n",
       "\n",
       "    .dataframe tbody tr th {\n",
       "        vertical-align: top;\n",
       "    }\n",
       "\n",
       "    .dataframe thead th {\n",
       "        text-align: right;\n",
       "    }\n",
       "</style>\n",
       "<table border=\"1\" class=\"dataframe\">\n",
       "  <thead>\n",
       "    <tr style=\"text-align: right;\">\n",
       "      <th></th>\n",
       "      <th>year_of_release</th>\n",
       "      <th>games_released</th>\n",
       "      <th>total_sales_year</th>\n",
       "      <th>mean_sales</th>\n",
       "    </tr>\n",
       "  </thead>\n",
       "  <tbody>\n",
       "    <tr>\n",
       "      <th>0</th>\n",
       "      <td>1994.0</td>\n",
       "      <td>17</td>\n",
       "      <td>6.03</td>\n",
       "      <td>0.35</td>\n",
       "    </tr>\n",
       "    <tr>\n",
       "      <th>1</th>\n",
       "      <td>1995.0</td>\n",
       "      <td>99</td>\n",
       "      <td>35.96</td>\n",
       "      <td>0.36</td>\n",
       "    </tr>\n",
       "    <tr>\n",
       "      <th>2</th>\n",
       "      <td>1996.0</td>\n",
       "      <td>164</td>\n",
       "      <td>94.70</td>\n",
       "      <td>0.58</td>\n",
       "    </tr>\n",
       "    <tr>\n",
       "      <th>3</th>\n",
       "      <td>1997.0</td>\n",
       "      <td>188</td>\n",
       "      <td>136.17</td>\n",
       "      <td>0.72</td>\n",
       "    </tr>\n",
       "    <tr>\n",
       "      <th>4</th>\n",
       "      <td>1998.0</td>\n",
       "      <td>248</td>\n",
       "      <td>169.49</td>\n",
       "      <td>0.68</td>\n",
       "    </tr>\n",
       "    <tr>\n",
       "      <th>5</th>\n",
       "      <td>1999.0</td>\n",
       "      <td>200</td>\n",
       "      <td>144.53</td>\n",
       "      <td>0.72</td>\n",
       "    </tr>\n",
       "    <tr>\n",
       "      <th>6</th>\n",
       "      <td>2000.0</td>\n",
       "      <td>160</td>\n",
       "      <td>96.37</td>\n",
       "      <td>0.60</td>\n",
       "    </tr>\n",
       "    <tr>\n",
       "      <th>7</th>\n",
       "      <td>2001.0</td>\n",
       "      <td>91</td>\n",
       "      <td>35.59</td>\n",
       "      <td>0.39</td>\n",
       "    </tr>\n",
       "    <tr>\n",
       "      <th>8</th>\n",
       "      <td>2002.0</td>\n",
       "      <td>20</td>\n",
       "      <td>6.67</td>\n",
       "      <td>0.33</td>\n",
       "    </tr>\n",
       "    <tr>\n",
       "      <th>9</th>\n",
       "      <td>2003.0</td>\n",
       "      <td>3</td>\n",
       "      <td>2.07</td>\n",
       "      <td>0.69</td>\n",
       "    </tr>\n",
       "  </tbody>\n",
       "</table>\n",
       "</div>"
      ],
      "text/plain": [
       "   year_of_release  games_released  total_sales_year  mean_sales\n",
       "0           1994.0              17              6.03        0.35\n",
       "1           1995.0              99             35.96        0.36\n",
       "2           1996.0             164             94.70        0.58\n",
       "3           1997.0             188            136.17        0.72\n",
       "4           1998.0             248            169.49        0.68\n",
       "5           1999.0             200            144.53        0.72\n",
       "6           2000.0             160             96.37        0.60\n",
       "7           2001.0              91             35.59        0.39\n",
       "8           2002.0              20              6.67        0.33\n",
       "9           2003.0               3              2.07        0.69"
      ]
     },
     "metadata": {},
     "output_type": "display_data"
    }
   ],
   "source": [
    "# Применение функции в цикле.\n",
    "for pl in top_platforms:\n",
    "    display(top_plat_numbers(pl))"
   ]
  },
  {
   "cell_type": "markdown",
   "id": "c3e43e72",
   "metadata": {},
   "source": [
    "Мы можем заметить, что продажи по топ-платформам (за исключением одной) начинаются с небольших показателей, плавно нарастают в первые 3-5 лет, и затем идут на спад. Визуализируем эти данные."
   ]
  },
  {
   "cell_type": "code",
   "execution_count": 30,
   "id": "23cc2c4a",
   "metadata": {},
   "outputs": [
    {
     "data": {
      "image/png": "[encoded data removed]",
      "text/plain": [
       "<Figure size 1152x720 with 6 Axes>"
      ]
     },
     "metadata": {},
     "output_type": "display_data"
    }
   ],
   "source": [
    "fig, axes = plt.subplots(2,3, sharey=True, figsize=(16,10))\n",
    "fig.suptitle('Продажи платформ по годам', fontsize=15)\n",
    "\n",
    "row=0\n",
    "col=0\n",
    "\n",
    "for pl in top_platforms:\n",
    "    sales = top_plat_numbers(pl, print_name=False)\n",
    "    sales['year_of_release'] = sales['year_of_release'].astype(int)\n",
    "    \n",
    "    sns.barplot(ax=axes[row, col], \n",
    "                x='year_of_release', \n",
    "                y='total_sales_year', \n",
    "                data = sales, \n",
    "                palette=pal_12).set(\n",
    "        title='Платформа' + ' ' + pl, \n",
    "        xlabel='Год', \n",
    "        ylabel='Сумма продаж, млн', \n",
    "        xticks=[0,2,4,6,8,10])\n",
    "    \n",
    "    plt.subplots_adjust(hspace = 0.3)\n",
    "    \n",
    "    if col == 2:\n",
    "        row += 1\n",
    "        col = -1      \n",
    "    col += 1"
   ]
  },
  {
   "cell_type": "markdown",
   "id": "0f58dc76",
   "metadata": {},
   "source": [
    "Мы видим, что характерный срок существования успешных платформ - около 12 лет. Пик продаж обычно приходится на середину этого периода. В подавляющем большинстве случаев платформа стартует плавно, но в случае с `Wii` мы наблюдаем сразу высокий старт.\n",
    "\n",
    "\n",
    "Оценим успешность игр по платформам:"
   ]
  },
  {
   "cell_type": "code",
   "execution_count": 31,
   "id": "8f2bf174",
   "metadata": {},
   "outputs": [
    {
     "data": {
      "image/png": "[encoded data removed]",
      "text/plain": [
       "<Figure size 1152x720 with 6 Axes>"
      ]
     },
     "metadata": {},
     "output_type": "display_data"
    }
   ],
   "source": [
    "fig, axes = plt.subplots(2,3, sharey=True, figsize=(16,10))\n",
    "fig.suptitle('Средние продажи по платформам', fontsize=15)\n",
    "\n",
    "row=0\n",
    "col=0\n",
    "\n",
    "for pl in top_platforms:\n",
    "    sales = top_plat_numbers(pl, print_name=False)\n",
    "    sales['year_of_release'] = sales['year_of_release'].astype(int)\n",
    "    \n",
    "    sns.barplot(ax=axes[row, col], \n",
    "                x='year_of_release', \n",
    "                y='mean_sales', \n",
    "                data = sales, \n",
    "                palette=pal_12).set(\n",
    "        title='Платформа' + ' ' + pl, \n",
    "        xlabel='Год', \n",
    "        ylabel='Средние продажи по платформам, млн', \n",
    "        xticks=[0,2,4,6,8,10])\n",
    "    \n",
    "    plt.subplots_adjust(hspace = 0.3)\n",
    "    \n",
    "    if col == 2:\n",
    "        row += 1\n",
    "        col = -1      \n",
    "    col += 1"
   ]
  },
  {
   "cell_type": "markdown",
   "id": "22e6e23d",
   "metadata": {},
   "source": [
    "Мы снова видим выбивающийся показатель на платформе `Wii`, они дебютировали с очень популярной игрой и с рекордными средними продажами. На остальных платформах мы видим небольшие колебания. Игры платформы `PS3` стабильно хорошо продавались вплоть до 2014 года (скорее всего, `PS4` дебютировала именно тогда).\n",
    "\n",
    "Посмотрим на количество выпущенных игр по платформам и годам."
   ]
  },
  {
   "cell_type": "code",
   "execution_count": 32,
   "id": "513ac386",
   "metadata": {},
   "outputs": [
    {
     "data": {
      "image/png": "[encoded data removed]",
      "text/plain": [
       "<Figure size 1152x720 with 6 Axes>"
      ]
     },
     "metadata": {},
     "output_type": "display_data"
    }
   ],
   "source": [
    "fig, axes = plt.subplots(2,3, sharey=True, figsize=(16,10))\n",
    "fig.suptitle('Количество выпущенных игр', fontsize=15)\n",
    "\n",
    "row=0\n",
    "col=0\n",
    "\n",
    "for pl in top_platforms:\n",
    "    sales = top_plat_numbers(pl, print_name=False)\n",
    "    sales['year_of_release'] = sales['year_of_release'].astype(int)\n",
    "    \n",
    "    sns.barplot(ax=axes[row, col], \n",
    "                x='year_of_release', \n",
    "                y='games_released', \n",
    "                data = sales, \n",
    "                palette=pal_12).set(\n",
    "        title='Платформа' + ' ' + pl, \n",
    "        xlabel='Год', \n",
    "        ylabel='Количество игр, млн', \n",
    "        xticks=[0,2,4,6,8,10])\n",
    "    \n",
    "    plt.subplots_adjust(hspace = 0.3)\n",
    "    \n",
    "    if col == 2:\n",
    "        row += 1\n",
    "        col = -1      \n",
    "    col += 1"
   ]
  },
  {
   "cell_type": "markdown",
   "id": "3e0d6945",
   "metadata": {},
   "source": [
    "Мы видим, что динамика выпуска игр по платформам также очень сходна: в первый год небольшое количество игр, затем плавный (или более резкий, как в `DS`) рост, затем - плавный спад.\n",
    "\n",
    "Мы видели высокие общие и средние продажи в первый год работы платформы `Wii`, однако количество выпущенных в первый год игр небольшое - как и для других платформ. То есть платформа выпустила одну или несколько аномально успешных игр. Посмотрим на лидеров продаж по платформе:"
   ]
  },
  {
   "cell_type": "code",
   "execution_count": 33,
   "id": "80216af1",
   "metadata": {},
   "outputs": [
    {
     "data": {
      "text/html": [
       "<div>\n",
       "<style scoped>\n",
       "    .dataframe tbody tr th:only-of-type {\n",
       "        vertical-align: middle;\n",
       "    }\n",
       "\n",
       "    .dataframe tbody tr th {\n",
       "        vertical-align: top;\n",
       "    }\n",
       "\n",
       "    .dataframe thead th {\n",
       "        text-align: right;\n",
       "    }\n",
       "</style>\n",
       "<table border=\"1\" class=\"dataframe\">\n",
       "  <thead>\n",
       "    <tr style=\"text-align: right;\">\n",
       "      <th></th>\n",
       "      <th>name</th>\n",
       "      <th>platform</th>\n",
       "      <th>year_of_release</th>\n",
       "      <th>genre</th>\n",
       "      <th>na_sales</th>\n",
       "      <th>eu_sales</th>\n",
       "      <th>jp_sales</th>\n",
       "      <th>other_sales</th>\n",
       "      <th>critic_score</th>\n",
       "      <th>user_score</th>\n",
       "      <th>rating</th>\n",
       "      <th>total_sales</th>\n",
       "    </tr>\n",
       "  </thead>\n",
       "  <tbody>\n",
       "    <tr>\n",
       "      <th>0</th>\n",
       "      <td>Wii Sports</td>\n",
       "      <td>Wii</td>\n",
       "      <td>2006.0</td>\n",
       "      <td>Sports</td>\n",
       "      <td>41.36</td>\n",
       "      <td>28.96</td>\n",
       "      <td>3.77</td>\n",
       "      <td>8.45</td>\n",
       "      <td>76.0</td>\n",
       "      <td>8.0</td>\n",
       "      <td>E</td>\n",
       "      <td>82.54</td>\n",
       "    </tr>\n",
       "    <tr>\n",
       "      <th>7</th>\n",
       "      <td>Wii Play</td>\n",
       "      <td>Wii</td>\n",
       "      <td>2006.0</td>\n",
       "      <td>Misc</td>\n",
       "      <td>13.96</td>\n",
       "      <td>9.18</td>\n",
       "      <td>2.93</td>\n",
       "      <td>2.84</td>\n",
       "      <td>58.0</td>\n",
       "      <td>6.6</td>\n",
       "      <td>E</td>\n",
       "      <td>28.91</td>\n",
       "    </tr>\n",
       "    <tr>\n",
       "      <th>107</th>\n",
       "      <td>The Legend of Zelda: Twilight Princess</td>\n",
       "      <td>Wii</td>\n",
       "      <td>2006.0</td>\n",
       "      <td>Action</td>\n",
       "      <td>3.74</td>\n",
       "      <td>2.14</td>\n",
       "      <td>0.60</td>\n",
       "      <td>0.68</td>\n",
       "      <td>95.0</td>\n",
       "      <td>9.0</td>\n",
       "      <td>T</td>\n",
       "      <td>7.16</td>\n",
       "    </tr>\n",
       "    <tr>\n",
       "      <th>503</th>\n",
       "      <td>WarioWare: Smooth Moves</td>\n",
       "      <td>Wii</td>\n",
       "      <td>2006.0</td>\n",
       "      <td>Puzzle</td>\n",
       "      <td>0.86</td>\n",
       "      <td>1.04</td>\n",
       "      <td>0.73</td>\n",
       "      <td>0.26</td>\n",
       "      <td>83.0</td>\n",
       "      <td>7.4</td>\n",
       "      <td>E10+</td>\n",
       "      <td>2.89</td>\n",
       "    </tr>\n",
       "    <tr>\n",
       "      <th>717</th>\n",
       "      <td>Super Monkey Ball: Banana Blitz</td>\n",
       "      <td>Wii</td>\n",
       "      <td>2006.0</td>\n",
       "      <td>Misc</td>\n",
       "      <td>1.05</td>\n",
       "      <td>0.91</td>\n",
       "      <td>0.04</td>\n",
       "      <td>0.24</td>\n",
       "      <td>74.0</td>\n",
       "      <td>5.7</td>\n",
       "      <td>E</td>\n",
       "      <td>2.24</td>\n",
       "    </tr>\n",
       "    <tr>\n",
       "      <th>1167</th>\n",
       "      <td>Pokemon Battle Revolution</td>\n",
       "      <td>Wii</td>\n",
       "      <td>2006.0</td>\n",
       "      <td>Role-Playing</td>\n",
       "      <td>0.78</td>\n",
       "      <td>0.37</td>\n",
       "      <td>0.30</td>\n",
       "      <td>0.13</td>\n",
       "      <td>53.0</td>\n",
       "      <td>6.7</td>\n",
       "      <td>E</td>\n",
       "      <td>1.58</td>\n",
       "    </tr>\n",
       "    <tr>\n",
       "      <th>1360</th>\n",
       "      <td>Rayman Raving Rabbids</td>\n",
       "      <td>Wii</td>\n",
       "      <td>2006.0</td>\n",
       "      <td>Misc</td>\n",
       "      <td>1.22</td>\n",
       "      <td>0.06</td>\n",
       "      <td>0.02</td>\n",
       "      <td>0.11</td>\n",
       "      <td>76.0</td>\n",
       "      <td>7.9</td>\n",
       "      <td>E</td>\n",
       "      <td>1.41</td>\n",
       "    </tr>\n",
       "    <tr>\n",
       "      <th>1544</th>\n",
       "      <td>Need for Speed Carbon</td>\n",
       "      <td>Wii</td>\n",
       "      <td>2006.0</td>\n",
       "      <td>Racing</td>\n",
       "      <td>0.45</td>\n",
       "      <td>0.66</td>\n",
       "      <td>0.02</td>\n",
       "      <td>0.15</td>\n",
       "      <td>67.0</td>\n",
       "      <td>7.3</td>\n",
       "      <td>E10+</td>\n",
       "      <td>1.28</td>\n",
       "    </tr>\n",
       "    <tr>\n",
       "      <th>2244</th>\n",
       "      <td>Cars</td>\n",
       "      <td>Wii</td>\n",
       "      <td>2006.0</td>\n",
       "      <td>Racing</td>\n",
       "      <td>0.83</td>\n",
       "      <td>0.03</td>\n",
       "      <td>0.00</td>\n",
       "      <td>0.07</td>\n",
       "      <td>65.0</td>\n",
       "      <td>NaN</td>\n",
       "      <td>E</td>\n",
       "      <td>0.93</td>\n",
       "    </tr>\n",
       "    <tr>\n",
       "      <th>2366</th>\n",
       "      <td>Monster 4X4: World Circuit</td>\n",
       "      <td>Wii</td>\n",
       "      <td>2006.0</td>\n",
       "      <td>Racing</td>\n",
       "      <td>0.80</td>\n",
       "      <td>0.00</td>\n",
       "      <td>0.01</td>\n",
       "      <td>0.07</td>\n",
       "      <td>51.0</td>\n",
       "      <td>7.8</td>\n",
       "      <td>E</td>\n",
       "      <td>0.88</td>\n",
       "    </tr>\n",
       "  </tbody>\n",
       "</table>\n",
       "</div>"
      ],
      "text/plain": [
       "                                        name platform  year_of_release  \\\n",
       "0                                 Wii Sports      Wii           2006.0   \n",
       "7                                   Wii Play      Wii           2006.0   \n",
       "107   The Legend of Zelda: Twilight Princess      Wii           2006.0   \n",
       "503                  WarioWare: Smooth Moves      Wii           2006.0   \n",
       "717          Super Monkey Ball: Banana Blitz      Wii           2006.0   \n",
       "1167               Pokemon Battle Revolution      Wii           2006.0   \n",
       "1360                   Rayman Raving Rabbids      Wii           2006.0   \n",
       "1544                   Need for Speed Carbon      Wii           2006.0   \n",
       "2244                                    Cars      Wii           2006.0   \n",
       "2366              Monster 4X4: World Circuit      Wii           2006.0   \n",
       "\n",
       "             genre  na_sales  eu_sales  jp_sales  other_sales  critic_score  \\\n",
       "0           Sports     41.36     28.96      3.77         8.45          76.0   \n",
       "7             Misc     13.96      9.18      2.93         2.84          58.0   \n",
       "107         Action      3.74      2.14      0.60         0.68          95.0   \n",
       "503         Puzzle      0.86      1.04      0.73         0.26          83.0   \n",
       "717           Misc      1.05      0.91      0.04         0.24          74.0   \n",
       "1167  Role-Playing      0.78      0.37      0.30         0.13          53.0   \n",
       "1360          Misc      1.22      0.06      0.02         0.11          76.0   \n",
       "1544        Racing      0.45      0.66      0.02         0.15          67.0   \n",
       "2244        Racing      0.83      0.03      0.00         0.07          65.0   \n",
       "2366        Racing      0.80      0.00      0.01         0.07          51.0   \n",
       "\n",
       "      user_score rating  total_sales  \n",
       "0            8.0      E        82.54  \n",
       "7            6.6      E        28.91  \n",
       "107          9.0      T         7.16  \n",
       "503          7.4   E10+         2.89  \n",
       "717          5.7      E         2.24  \n",
       "1167         6.7      E         1.58  \n",
       "1360         7.9      E         1.41  \n",
       "1544         7.3   E10+         1.28  \n",
       "2244         NaN      E         0.93  \n",
       "2366         7.8      E         0.88  "
      ]
     },
     "execution_count": 33,
     "metadata": {},
     "output_type": "execute_result"
    }
   ],
   "source": [
    "# Срез данных по платформе и сортировка.\n",
    "games.loc[(games['platform'] == 'Wii')&(games['year_of_release'] == 2006)].sort_values(\n",
    "    by=['total_sales'], ascending=False).head(10)"
   ]
  },
  {
   "cell_type": "markdown",
   "id": "b672a417",
   "metadata": {},
   "source": [
    "Действительно, мы видим одну особенно успешную игру `Wii Sports`, и одну с менее высокими, но все равно внушительными продажами `Wii Play`. Посмотрим, как это соотносится с другими успешными играми по всем платформам:"
   ]
  },
  {
   "cell_type": "code",
   "execution_count": 34,
   "id": "e0e0ba26",
   "metadata": {},
   "outputs": [
    {
     "data": {
      "text/html": [
       "<div>\n",
       "<style scoped>\n",
       "    .dataframe tbody tr th:only-of-type {\n",
       "        vertical-align: middle;\n",
       "    }\n",
       "\n",
       "    .dataframe tbody tr th {\n",
       "        vertical-align: top;\n",
       "    }\n",
       "\n",
       "    .dataframe thead th {\n",
       "        text-align: right;\n",
       "    }\n",
       "</style>\n",
       "<table border=\"1\" class=\"dataframe\">\n",
       "  <thead>\n",
       "    <tr style=\"text-align: right;\">\n",
       "      <th></th>\n",
       "      <th>name</th>\n",
       "      <th>platform</th>\n",
       "      <th>year_of_release</th>\n",
       "      <th>genre</th>\n",
       "      <th>na_sales</th>\n",
       "      <th>eu_sales</th>\n",
       "      <th>jp_sales</th>\n",
       "      <th>other_sales</th>\n",
       "      <th>critic_score</th>\n",
       "      <th>user_score</th>\n",
       "      <th>rating</th>\n",
       "      <th>total_sales</th>\n",
       "    </tr>\n",
       "  </thead>\n",
       "  <tbody>\n",
       "    <tr>\n",
       "      <th>0</th>\n",
       "      <td>Wii Sports</td>\n",
       "      <td>Wii</td>\n",
       "      <td>2006.0</td>\n",
       "      <td>Sports</td>\n",
       "      <td>41.36</td>\n",
       "      <td>28.96</td>\n",
       "      <td>3.77</td>\n",
       "      <td>8.45</td>\n",
       "      <td>76.0</td>\n",
       "      <td>8.0</td>\n",
       "      <td>E</td>\n",
       "      <td>82.54</td>\n",
       "    </tr>\n",
       "    <tr>\n",
       "      <th>1</th>\n",
       "      <td>Super Mario Bros.</td>\n",
       "      <td>NES</td>\n",
       "      <td>1985.0</td>\n",
       "      <td>Platform</td>\n",
       "      <td>29.08</td>\n",
       "      <td>3.58</td>\n",
       "      <td>6.81</td>\n",
       "      <td>0.77</td>\n",
       "      <td>NaN</td>\n",
       "      <td>NaN</td>\n",
       "      <td>NONE</td>\n",
       "      <td>40.24</td>\n",
       "    </tr>\n",
       "    <tr>\n",
       "      <th>2</th>\n",
       "      <td>Mario Kart Wii</td>\n",
       "      <td>Wii</td>\n",
       "      <td>2008.0</td>\n",
       "      <td>Racing</td>\n",
       "      <td>15.68</td>\n",
       "      <td>12.76</td>\n",
       "      <td>3.79</td>\n",
       "      <td>3.29</td>\n",
       "      <td>82.0</td>\n",
       "      <td>8.3</td>\n",
       "      <td>E</td>\n",
       "      <td>35.52</td>\n",
       "    </tr>\n",
       "    <tr>\n",
       "      <th>3</th>\n",
       "      <td>Wii Sports Resort</td>\n",
       "      <td>Wii</td>\n",
       "      <td>2009.0</td>\n",
       "      <td>Sports</td>\n",
       "      <td>15.61</td>\n",
       "      <td>10.93</td>\n",
       "      <td>3.28</td>\n",
       "      <td>2.95</td>\n",
       "      <td>80.0</td>\n",
       "      <td>8.0</td>\n",
       "      <td>E</td>\n",
       "      <td>32.77</td>\n",
       "    </tr>\n",
       "    <tr>\n",
       "      <th>4</th>\n",
       "      <td>Pokemon Red/Pokemon Blue</td>\n",
       "      <td>GB</td>\n",
       "      <td>1996.0</td>\n",
       "      <td>Role-Playing</td>\n",
       "      <td>11.27</td>\n",
       "      <td>8.89</td>\n",
       "      <td>10.22</td>\n",
       "      <td>1.00</td>\n",
       "      <td>NaN</td>\n",
       "      <td>NaN</td>\n",
       "      <td>NONE</td>\n",
       "      <td>31.38</td>\n",
       "    </tr>\n",
       "    <tr>\n",
       "      <th>5</th>\n",
       "      <td>Tetris</td>\n",
       "      <td>GB</td>\n",
       "      <td>1989.0</td>\n",
       "      <td>Puzzle</td>\n",
       "      <td>23.20</td>\n",
       "      <td>2.26</td>\n",
       "      <td>4.22</td>\n",
       "      <td>0.58</td>\n",
       "      <td>NaN</td>\n",
       "      <td>NaN</td>\n",
       "      <td>NONE</td>\n",
       "      <td>30.26</td>\n",
       "    </tr>\n",
       "    <tr>\n",
       "      <th>6</th>\n",
       "      <td>New Super Mario Bros.</td>\n",
       "      <td>DS</td>\n",
       "      <td>2006.0</td>\n",
       "      <td>Platform</td>\n",
       "      <td>11.28</td>\n",
       "      <td>9.14</td>\n",
       "      <td>6.50</td>\n",
       "      <td>2.88</td>\n",
       "      <td>89.0</td>\n",
       "      <td>8.5</td>\n",
       "      <td>E</td>\n",
       "      <td>29.80</td>\n",
       "    </tr>\n",
       "    <tr>\n",
       "      <th>7</th>\n",
       "      <td>Wii Play</td>\n",
       "      <td>Wii</td>\n",
       "      <td>2006.0</td>\n",
       "      <td>Misc</td>\n",
       "      <td>13.96</td>\n",
       "      <td>9.18</td>\n",
       "      <td>2.93</td>\n",
       "      <td>2.84</td>\n",
       "      <td>58.0</td>\n",
       "      <td>6.6</td>\n",
       "      <td>E</td>\n",
       "      <td>28.91</td>\n",
       "    </tr>\n",
       "    <tr>\n",
       "      <th>8</th>\n",
       "      <td>New Super Mario Bros. Wii</td>\n",
       "      <td>Wii</td>\n",
       "      <td>2009.0</td>\n",
       "      <td>Platform</td>\n",
       "      <td>14.44</td>\n",
       "      <td>6.94</td>\n",
       "      <td>4.70</td>\n",
       "      <td>2.24</td>\n",
       "      <td>87.0</td>\n",
       "      <td>8.4</td>\n",
       "      <td>E</td>\n",
       "      <td>28.32</td>\n",
       "    </tr>\n",
       "    <tr>\n",
       "      <th>9</th>\n",
       "      <td>Duck Hunt</td>\n",
       "      <td>NES</td>\n",
       "      <td>1984.0</td>\n",
       "      <td>Shooter</td>\n",
       "      <td>26.93</td>\n",
       "      <td>0.63</td>\n",
       "      <td>0.28</td>\n",
       "      <td>0.47</td>\n",
       "      <td>NaN</td>\n",
       "      <td>NaN</td>\n",
       "      <td>NONE</td>\n",
       "      <td>28.31</td>\n",
       "    </tr>\n",
       "  </tbody>\n",
       "</table>\n",
       "</div>"
      ],
      "text/plain": [
       "                        name platform  year_of_release         genre  \\\n",
       "0                 Wii Sports      Wii           2006.0        Sports   \n",
       "1          Super Mario Bros.      NES           1985.0      Platform   \n",
       "2             Mario Kart Wii      Wii           2008.0        Racing   \n",
       "3          Wii Sports Resort      Wii           2009.0        Sports   \n",
       "4   Pokemon Red/Pokemon Blue       GB           1996.0  Role-Playing   \n",
       "5                     Tetris       GB           1989.0        Puzzle   \n",
       "6      New Super Mario Bros.       DS           2006.0      Platform   \n",
       "7                   Wii Play      Wii           2006.0          Misc   \n",
       "8  New Super Mario Bros. Wii      Wii           2009.0      Platform   \n",
       "9                  Duck Hunt      NES           1984.0       Shooter   \n",
       "\n",
       "   na_sales  eu_sales  jp_sales  other_sales  critic_score  user_score rating  \\\n",
       "0     41.36     28.96      3.77         8.45          76.0         8.0      E   \n",
       "1     29.08      3.58      6.81         0.77           NaN         NaN   NONE   \n",
       "2     15.68     12.76      3.79         3.29          82.0         8.3      E   \n",
       "3     15.61     10.93      3.28         2.95          80.0         8.0      E   \n",
       "4     11.27      8.89     10.22         1.00           NaN         NaN   NONE   \n",
       "5     23.20      2.26      4.22         0.58           NaN         NaN   NONE   \n",
       "6     11.28      9.14      6.50         2.88          89.0         8.5      E   \n",
       "7     13.96      9.18      2.93         2.84          58.0         6.6      E   \n",
       "8     14.44      6.94      4.70         2.24          87.0         8.4      E   \n",
       "9     26.93      0.63      0.28         0.47           NaN         NaN   NONE   \n",
       "\n",
       "   total_sales  \n",
       "0        82.54  \n",
       "1        40.24  \n",
       "2        35.52  \n",
       "3        32.77  \n",
       "4        31.38  \n",
       "5        30.26  \n",
       "6        29.80  \n",
       "7        28.91  \n",
       "8        28.32  \n",
       "9        28.31  "
      ]
     },
     "execution_count": 34,
     "metadata": {},
     "output_type": "execute_result"
    }
   ],
   "source": [
    "# Сортировка по общим продажам.\n",
    "games.sort_values(by=['total_sales'], ascending=False).head(10)"
   ]
  },
  {
   "cell_type": "markdown",
   "id": "05fc27c8",
   "metadata": {},
   "source": [
    "Обе игры платформы `Wii`, выпущенные в 2006 году попали в десятку игр с лучшими продажами за весь период. Исключительно успешный старт."
   ]
  },
  {
   "cell_type": "markdown",
   "id": "0d6bf9aa",
   "metadata": {},
   "source": [
    "### Определение актуального периода"
   ]
  },
  {
   "cell_type": "markdown",
   "id": "54715b4f",
   "metadata": {},
   "source": [
    "Мы выяснили, что успешные платформы существуют не более 12 лет. Есть исключения (например `PC` выпускает немного, не очень успешных игр, но очень-очень долго). Спустя 10 лет после создания платформы шансы на высокие продажи стремятся к нулю. Однако мы видим хорошие продажи в середине этого периода - `3-6 лет` после создания платформы.\n",
    "\n",
    "Найдем платформы, созданные не более 6 лет назад, то есть те, где продажи обычно все еще идут вверх или плавно начинают спускаться вниз. Далее будем работать с этими платформами."
   ]
  },
  {
   "cell_type": "code",
   "execution_count": 35,
   "id": "d6421262",
   "metadata": {
    "scrolled": false
   },
   "outputs": [
    {
     "data": {
      "text/html": [
       "<div>\n",
       "<style scoped>\n",
       "    .dataframe tbody tr th:only-of-type {\n",
       "        vertical-align: middle;\n",
       "    }\n",
       "\n",
       "    .dataframe tbody tr th {\n",
       "        vertical-align: top;\n",
       "    }\n",
       "\n",
       "    .dataframe thead th {\n",
       "        text-align: right;\n",
       "    }\n",
       "</style>\n",
       "<table border=\"1\" class=\"dataframe\">\n",
       "  <thead>\n",
       "    <tr style=\"text-align: right;\">\n",
       "      <th></th>\n",
       "      <th>platform</th>\n",
       "      <th>year_min</th>\n",
       "    </tr>\n",
       "  </thead>\n",
       "  <tbody>\n",
       "    <tr>\n",
       "      <th>30</th>\n",
       "      <td>XOne</td>\n",
       "      <td>2013.0</td>\n",
       "    </tr>\n",
       "    <tr>\n",
       "      <th>18</th>\n",
       "      <td>PS4</td>\n",
       "      <td>2013.0</td>\n",
       "    </tr>\n",
       "    <tr>\n",
       "      <th>27</th>\n",
       "      <td>WiiU</td>\n",
       "      <td>2012.0</td>\n",
       "    </tr>\n",
       "    <tr>\n",
       "      <th>2</th>\n",
       "      <td>3DS</td>\n",
       "      <td>2011.0</td>\n",
       "    </tr>\n",
       "    <tr>\n",
       "      <th>20</th>\n",
       "      <td>PSV</td>\n",
       "      <td>2011.0</td>\n",
       "    </tr>\n",
       "  </tbody>\n",
       "</table>\n",
       "</div>"
      ],
      "text/plain": [
       "   platform  year_min\n",
       "30     XOne    2013.0\n",
       "18      PS4    2013.0\n",
       "27     WiiU    2012.0\n",
       "2       3DS    2011.0\n",
       "20      PSV    2011.0"
      ]
     },
     "metadata": {},
     "output_type": "display_data"
    }
   ],
   "source": [
    "# Создание датафрейма с новыми платформами.\n",
    "fresh = games.groupby(['platform'], as_index=False).agg(\n",
    "    year_min=('year_of_release','min')\n",
    ").sort_values(by='year_min', ascending=False).head(5)\n",
    "\n",
    "display(fresh)\n",
    "\n",
    "fresh_pl = fresh['platform'].to_list()"
   ]
  },
  {
   "cell_type": "markdown",
   "id": "e1d9c849",
   "metadata": {},
   "source": [
    "Создадим датасет с данными только по новым платформам:"
   ]
  },
  {
   "cell_type": "code",
   "execution_count": 36,
   "id": "e1885084",
   "metadata": {},
   "outputs": [
    {
     "data": {
      "text/plain": [
       "(1736, 12)"
      ]
     },
     "metadata": {},
     "output_type": "display_data"
    },
    {
     "data": {
      "text/html": [
       "<div>\n",
       "<style scoped>\n",
       "    .dataframe tbody tr th:only-of-type {\n",
       "        vertical-align: middle;\n",
       "    }\n",
       "\n",
       "    .dataframe tbody tr th {\n",
       "        vertical-align: top;\n",
       "    }\n",
       "\n",
       "    .dataframe thead th {\n",
       "        text-align: right;\n",
       "    }\n",
       "</style>\n",
       "<table border=\"1\" class=\"dataframe\">\n",
       "  <thead>\n",
       "    <tr style=\"text-align: right;\">\n",
       "      <th></th>\n",
       "      <th>name</th>\n",
       "      <th>platform</th>\n",
       "      <th>year_of_release</th>\n",
       "      <th>genre</th>\n",
       "      <th>na_sales</th>\n",
       "      <th>eu_sales</th>\n",
       "      <th>jp_sales</th>\n",
       "      <th>other_sales</th>\n",
       "      <th>critic_score</th>\n",
       "      <th>user_score</th>\n",
       "      <th>rating</th>\n",
       "      <th>total_sales</th>\n",
       "    </tr>\n",
       "  </thead>\n",
       "  <tbody>\n",
       "    <tr>\n",
       "      <th>31</th>\n",
       "      <td>Call of Duty: Black Ops 3</td>\n",
       "      <td>PS4</td>\n",
       "      <td>2015.0</td>\n",
       "      <td>Shooter</td>\n",
       "      <td>6.03</td>\n",
       "      <td>5.86</td>\n",
       "      <td>0.36</td>\n",
       "      <td>2.38</td>\n",
       "      <td>NaN</td>\n",
       "      <td>NaN</td>\n",
       "      <td>NONE</td>\n",
       "      <td>14.63</td>\n",
       "    </tr>\n",
       "    <tr>\n",
       "      <th>33</th>\n",
       "      <td>Pokemon X/Pokemon Y</td>\n",
       "      <td>3DS</td>\n",
       "      <td>2013.0</td>\n",
       "      <td>Role-Playing</td>\n",
       "      <td>5.28</td>\n",
       "      <td>4.19</td>\n",
       "      <td>4.35</td>\n",
       "      <td>0.78</td>\n",
       "      <td>NaN</td>\n",
       "      <td>NaN</td>\n",
       "      <td>NONE</td>\n",
       "      <td>14.60</td>\n",
       "    </tr>\n",
       "    <tr>\n",
       "      <th>40</th>\n",
       "      <td>Mario Kart 7</td>\n",
       "      <td>3DS</td>\n",
       "      <td>2011.0</td>\n",
       "      <td>Racing</td>\n",
       "      <td>5.03</td>\n",
       "      <td>4.02</td>\n",
       "      <td>2.69</td>\n",
       "      <td>0.91</td>\n",
       "      <td>85.0</td>\n",
       "      <td>8.2</td>\n",
       "      <td>E</td>\n",
       "      <td>12.65</td>\n",
       "    </tr>\n",
       "    <tr>\n",
       "      <th>42</th>\n",
       "      <td>Grand Theft Auto V</td>\n",
       "      <td>PS4</td>\n",
       "      <td>2014.0</td>\n",
       "      <td>Action</td>\n",
       "      <td>3.96</td>\n",
       "      <td>6.31</td>\n",
       "      <td>0.38</td>\n",
       "      <td>1.97</td>\n",
       "      <td>97.0</td>\n",
       "      <td>8.3</td>\n",
       "      <td>M</td>\n",
       "      <td>12.62</td>\n",
       "    </tr>\n",
       "    <tr>\n",
       "      <th>47</th>\n",
       "      <td>Pokemon Omega Ruby/Pokemon Alpha Sapphire</td>\n",
       "      <td>3DS</td>\n",
       "      <td>2014.0</td>\n",
       "      <td>Role-Playing</td>\n",
       "      <td>4.35</td>\n",
       "      <td>3.49</td>\n",
       "      <td>3.10</td>\n",
       "      <td>0.74</td>\n",
       "      <td>NaN</td>\n",
       "      <td>NaN</td>\n",
       "      <td>NONE</td>\n",
       "      <td>11.68</td>\n",
       "    </tr>\n",
       "  </tbody>\n",
       "</table>\n",
       "</div>"
      ],
      "text/plain": [
       "                                         name platform  year_of_release  \\\n",
       "31                  Call of Duty: Black Ops 3      PS4           2015.0   \n",
       "33                        Pokemon X/Pokemon Y      3DS           2013.0   \n",
       "40                               Mario Kart 7      3DS           2011.0   \n",
       "42                         Grand Theft Auto V      PS4           2014.0   \n",
       "47  Pokemon Omega Ruby/Pokemon Alpha Sapphire      3DS           2014.0   \n",
       "\n",
       "           genre  na_sales  eu_sales  jp_sales  other_sales  critic_score  \\\n",
       "31       Shooter      6.03      5.86      0.36         2.38           NaN   \n",
       "33  Role-Playing      5.28      4.19      4.35         0.78           NaN   \n",
       "40        Racing      5.03      4.02      2.69         0.91          85.0   \n",
       "42        Action      3.96      6.31      0.38         1.97          97.0   \n",
       "47  Role-Playing      4.35      3.49      3.10         0.74           NaN   \n",
       "\n",
       "    user_score rating  total_sales  \n",
       "31         NaN   NONE        14.63  \n",
       "33         NaN   NONE        14.60  \n",
       "40         8.2      E        12.65  \n",
       "42         8.3      M        12.62  \n",
       "47         NaN   NONE        11.68  "
      ]
     },
     "execution_count": 36,
     "metadata": {},
     "output_type": "execute_result"
    }
   ],
   "source": [
    "# Создание датафрейма.\n",
    "games_act = games.loc[games['platform'].isin(fresh_pl)]\n",
    "\n",
    "# Вывод на экран данных о размере датафрейма и его первых строк.\n",
    "display(games_act.shape)\n",
    "games_act.head()"
   ]
  },
  {
   "cell_type": "markdown",
   "id": "0453bae6",
   "metadata": {},
   "source": [
    "В актуальный период вошла только десятая часть исходных данных."
   ]
  },
  {
   "cell_type": "markdown",
   "id": "71e59ec4",
   "metadata": {},
   "source": [
    "### Платформы - лидеры продаж"
   ]
  },
  {
   "cell_type": "markdown",
   "id": "49aaf93b",
   "metadata": {},
   "source": [
    "Посмотрим на общие продажи по платформам."
   ]
  },
  {
   "cell_type": "code",
   "execution_count": 37,
   "id": "da520a3d",
   "metadata": {
    "scrolled": true
   },
   "outputs": [
    {
     "data": {
      "text/html": [
       "<div>\n",
       "<style scoped>\n",
       "    .dataframe tbody tr th:only-of-type {\n",
       "        vertical-align: middle;\n",
       "    }\n",
       "\n",
       "    .dataframe tbody tr th {\n",
       "        vertical-align: top;\n",
       "    }\n",
       "\n",
       "    .dataframe thead th {\n",
       "        text-align: right;\n",
       "    }\n",
       "</style>\n",
       "<table border=\"1\" class=\"dataframe\">\n",
       "  <thead>\n",
       "    <tr style=\"text-align: right;\">\n",
       "      <th></th>\n",
       "      <th>platform</th>\n",
       "      <th>total_sales_pl</th>\n",
       "      <th>genre_count</th>\n",
       "      <th>start_year</th>\n",
       "    </tr>\n",
       "  </thead>\n",
       "  <tbody>\n",
       "    <tr>\n",
       "      <th>1</th>\n",
       "      <td>PS4</td>\n",
       "      <td>314.14</td>\n",
       "      <td>12</td>\n",
       "      <td>2013.0</td>\n",
       "    </tr>\n",
       "    <tr>\n",
       "      <th>0</th>\n",
       "      <td>3DS</td>\n",
       "      <td>259.00</td>\n",
       "      <td>12</td>\n",
       "      <td>2011.0</td>\n",
       "    </tr>\n",
       "    <tr>\n",
       "      <th>4</th>\n",
       "      <td>XOne</td>\n",
       "      <td>159.32</td>\n",
       "      <td>11</td>\n",
       "      <td>2013.0</td>\n",
       "    </tr>\n",
       "    <tr>\n",
       "      <th>3</th>\n",
       "      <td>WiiU</td>\n",
       "      <td>82.19</td>\n",
       "      <td>12</td>\n",
       "      <td>2012.0</td>\n",
       "    </tr>\n",
       "    <tr>\n",
       "      <th>2</th>\n",
       "      <td>PSV</td>\n",
       "      <td>54.07</td>\n",
       "      <td>12</td>\n",
       "      <td>2011.0</td>\n",
       "    </tr>\n",
       "  </tbody>\n",
       "</table>\n",
       "</div>"
      ],
      "text/plain": [
       "  platform  total_sales_pl  genre_count  start_year\n",
       "1      PS4          314.14           12      2013.0\n",
       "0      3DS          259.00           12      2011.0\n",
       "4     XOne          159.32           11      2013.0\n",
       "3     WiiU           82.19           12      2012.0\n",
       "2      PSV           54.07           12      2011.0"
      ]
     },
     "execution_count": 37,
     "metadata": {},
     "output_type": "execute_result"
    }
   ],
   "source": [
    "# Группировка данных по платформам.\n",
    "sales_per_pl = games_act.groupby(['platform'], as_index=False).agg(\n",
    "    total_sales_pl=('total_sales', 'sum'),\n",
    "    genre_count=('genre','nunique'),\n",
    "    start_year=('year_of_release', 'min')\n",
    ").sort_values(by='total_sales_pl', ascending=False)\n",
    "\n",
    "# Вывод на экран.\n",
    "sales_per_pl"
   ]
  },
  {
   "cell_type": "markdown",
   "id": "e453905a",
   "metadata": {},
   "source": [
    "- Все платформы созданы не позднее 2011 года.\n",
    "\n",
    "\n",
    "- Лидер продаж - `PS4`, несмотря на то, что старт пришелся на 2013 год. То есть всего за три года продаж, платформа вышла на лидирующее место.\n",
    "\n",
    "\n",
    "- Самые успешные платформы выпускают игры в максимальном количестве жанров, то есть идут во всех направлениях для завоевания аудитории.\n",
    "\n",
    "\n",
    "- Разница в объемах продаж разных платформ очень значительная: платформа `PSV` продала в 6 раз меньше, чем `PS4`. Возможно портативные и стационарные платформы стоит рассматривать отдельно.\n"
   ]
  },
  {
   "cell_type": "markdown",
   "id": "c29a8a4b",
   "metadata": {},
   "source": [
    "Визуализируем продажи этих платформ по годам:"
   ]
  },
  {
   "cell_type": "code",
   "execution_count": 38,
   "id": "ab27905d",
   "metadata": {
    "scrolled": true
   },
   "outputs": [
    {
     "data": {
      "image/png": "[encoded data removed]",
      "text/plain": [
       "<Figure size 1224x360 with 5 Axes>"
      ]
     },
     "metadata": {},
     "output_type": "display_data"
    }
   ],
   "source": [
    "fig, axes = plt.subplots(nrows = 1, ncols = 5, sharey=True, figsize=(17,5))\n",
    "fig.suptitle('Продажи платформ по годам', fontsize=15)\n",
    "\n",
    "col=0\n",
    "\n",
    "for pl in fresh_pl:\n",
    "    sales = top_plat_numbers(pl, print_name=False)\n",
    "    sales['year_of_release'] = sales['year_of_release'].astype(int)\n",
    "    \n",
    "    sns.barplot(ax=axes[col], \n",
    "                x='year_of_release', \n",
    "                y='total_sales_year', \n",
    "                data = sales, \n",
    "                palette=pal_12).set(\n",
    "        title='Платформа' + ' ' + pl, \n",
    "        xlabel='Год', \n",
    "        ylabel='Сумма продаж, млн')\n",
    "    \n",
    "    plt.subplots_adjust(hspace = 0.3)\n",
    "    \n",
    "    col += 1"
   ]
  },
  {
   "cell_type": "markdown",
   "id": "ac79d5d3",
   "metadata": {},
   "source": [
    "Мы видим самые низкие продажи по платформам, выпускающим игры для портативных дивайсов: `WiiU` и `PSV`.\n",
    "\n",
    "Интересно, что в финальный анализ попали игры всего трех корпораций: Microsoft(`XOne`), Nintendo(`WiiU`- портативные, `3DS` - стационарные) и Play Station(`PSV`- портативные, `PS4` - стационарные).\n",
    "\n",
    "Построим еще раз на общие продажи по платформам, построив диаграму размаха."
   ]
  },
  {
   "cell_type": "code",
   "execution_count": 39,
   "id": "09bff5f7",
   "metadata": {},
   "outputs": [
    {
     "data": {
      "image/png": "[encoded data removed]",
      "text/plain": [
       "<Figure size 1080x1080 with 2 Axes>"
      ]
     },
     "metadata": {},
     "output_type": "display_data"
    }
   ],
   "source": [
    "sns.set_style('whitegrid')\n",
    "fig, axes = plt.subplots(2, 1, figsize=(15,15))\n",
    "fig.suptitle('Общие продажи по платформам', fontsize=15)\n",
    "\n",
    "sns.boxplot(ax=axes[0], \n",
    "            x='total_sales', \n",
    "            y='platform', \n",
    "            data=games_act, \n",
    "            palette=('mako'), \n",
    "            boxprops=dict(alpha=.8)).set(\n",
    "        xlabel='Продажи игр по платформам, млн', \n",
    "        ylabel='Название платформы')\n",
    "\n",
    "sns.boxplot(ax=axes[1], \n",
    "            x='total_sales', \n",
    "            y='platform', \n",
    "            data=games_act, \n",
    "            showfliers = False, \n",
    "            palette=('mako'), \n",
    "            boxprops=dict(alpha=.75)).set(\n",
    "        xlabel='Продажи игр по платформам, млн', \n",
    "        ylabel='Название платформы');"
   ]
  },
  {
   "cell_type": "markdown",
   "id": "18517e30",
   "metadata": {},
   "source": [
    "По первому графику мы можем сделать вывод о большом наличии выбросов, то есть есть отдельные игры, которые очень хорошо продаются. И значения по их продажам очень далеки от медианных значений по платформам.\n",
    "\n",
    "На втором графике мы видим, что медианы на всех платформах ближе к основанию (к нулю), то есть основная масса выпускаемых игр приносит небольшой доход.\n",
    "\n",
    "Еще раз посмотрим на распределение общих продаж по всем платформам:"
   ]
  },
  {
   "cell_type": "code",
   "execution_count": 40,
   "id": "da6de539",
   "metadata": {
    "scrolled": true
   },
   "outputs": [
    {
     "data": {
      "text/plain": [
       "count    1736.000000\n",
       "mean        0.500415\n",
       "std         1.229812\n",
       "min         0.010000\n",
       "25%         0.040000\n",
       "50%         0.120000\n",
       "75%         0.390000\n",
       "max        14.630000\n",
       "Name: total_sales, dtype: float64"
      ]
     },
     "execution_count": 40,
     "metadata": {},
     "output_type": "execute_result"
    }
   ],
   "source": [
    "games_act['total_sales'].describe()"
   ]
  },
  {
   "cell_type": "markdown",
   "id": "f1997b8a",
   "metadata": {},
   "source": [
    "Мы видим очень большую разницу между средним и медианным значением, что еще раз подтверждает наши предыдущие наблюдения.\n",
    "\n",
    "Основная выручка платформ приходит с отдельными успешными играми."
   ]
  },
  {
   "cell_type": "markdown",
   "id": "b84cd970",
   "metadata": {},
   "source": [
    "### Корреляция между отзывами и продажами"
   ]
  },
  {
   "cell_type": "markdown",
   "id": "171043b3",
   "metadata": {},
   "source": [
    "\n",
    "Рассмотрим влияние на продажи отзывов пользователей и критиков. Возьмем одну из популярных платформ `XOne`, выделим отдельный датафрейм, посмотрим на количество записей и распределение данных об общих продажах."
   ]
  },
  {
   "cell_type": "code",
   "execution_count": 41,
   "id": "9ad28649",
   "metadata": {
    "scrolled": true
   },
   "outputs": [
    {
     "data": {
      "text/plain": [
       "(247, 12)"
      ]
     },
     "metadata": {},
     "output_type": "display_data"
    },
    {
     "data": {
      "text/plain": [
       "count    182.000000\n",
       "mean       6.521429\n",
       "std        1.380941\n",
       "min        1.600000\n",
       "25%        5.800000\n",
       "50%        6.800000\n",
       "75%        7.500000\n",
       "max        9.200000\n",
       "Name: user_score, dtype: float64"
      ]
     },
     "execution_count": 41,
     "metadata": {},
     "output_type": "execute_result"
    }
   ],
   "source": [
    "# Создание нового датафрейма.\n",
    "xone = games_act.loc[games_act['platform'] == 'XOne']\n",
    "# Проверка размера.\n",
    "display(xone.shape)\n",
    "# Просмотр распределения.\n",
    "xone['user_score'].describe()"
   ]
  },
  {
   "cell_type": "code",
   "execution_count": 42,
   "id": "db680737",
   "metadata": {},
   "outputs": [
    {
     "data": {
      "text/plain": [
       "(65, 12)"
      ]
     },
     "execution_count": 42,
     "metadata": {},
     "output_type": "execute_result"
    }
   ],
   "source": [
    "# Проверка количества неуказанных значений.\n",
    "xone.loc[xone['user_score'].isna()].shape"
   ]
  },
  {
   "cell_type": "markdown",
   "id": "6829555b",
   "metadata": {},
   "source": [
    "Посмотрим на игры без рейтинга (их около 20%):"
   ]
  },
  {
   "cell_type": "code",
   "execution_count": 43,
   "id": "7ccb74c7",
   "metadata": {},
   "outputs": [
    {
     "data": {
      "text/html": [
       "<div>\n",
       "<style scoped>\n",
       "    .dataframe tbody tr th:only-of-type {\n",
       "        vertical-align: middle;\n",
       "    }\n",
       "\n",
       "    .dataframe tbody tr th {\n",
       "        vertical-align: top;\n",
       "    }\n",
       "\n",
       "    .dataframe thead th {\n",
       "        text-align: right;\n",
       "    }\n",
       "</style>\n",
       "<table border=\"1\" class=\"dataframe\">\n",
       "  <thead>\n",
       "    <tr style=\"text-align: right;\">\n",
       "      <th></th>\n",
       "      <th>name</th>\n",
       "      <th>platform</th>\n",
       "      <th>year_of_release</th>\n",
       "      <th>genre</th>\n",
       "      <th>na_sales</th>\n",
       "      <th>eu_sales</th>\n",
       "      <th>jp_sales</th>\n",
       "      <th>other_sales</th>\n",
       "      <th>critic_score</th>\n",
       "      <th>user_score</th>\n",
       "      <th>rating</th>\n",
       "      <th>total_sales</th>\n",
       "    </tr>\n",
       "  </thead>\n",
       "  <tbody>\n",
       "    <tr>\n",
       "      <th>99</th>\n",
       "      <td>Call of Duty: Black Ops 3</td>\n",
       "      <td>XOne</td>\n",
       "      <td>2015.0</td>\n",
       "      <td>Shooter</td>\n",
       "      <td>4.59</td>\n",
       "      <td>2.11</td>\n",
       "      <td>0.01</td>\n",
       "      <td>0.68</td>\n",
       "      <td>NaN</td>\n",
       "      <td>NaN</td>\n",
       "      <td>NONE</td>\n",
       "      <td>7.39</td>\n",
       "    </tr>\n",
       "    <tr>\n",
       "      <th>342</th>\n",
       "      <td>Star Wars Battlefront (2015)</td>\n",
       "      <td>XOne</td>\n",
       "      <td>2015.0</td>\n",
       "      <td>Shooter</td>\n",
       "      <td>2.04</td>\n",
       "      <td>1.28</td>\n",
       "      <td>0.02</td>\n",
       "      <td>0.32</td>\n",
       "      <td>NaN</td>\n",
       "      <td>NaN</td>\n",
       "      <td>NONE</td>\n",
       "      <td>3.66</td>\n",
       "    </tr>\n",
       "    <tr>\n",
       "      <th>543</th>\n",
       "      <td>Minecraft</td>\n",
       "      <td>XOne</td>\n",
       "      <td>2014.0</td>\n",
       "      <td>Misc</td>\n",
       "      <td>1.61</td>\n",
       "      <td>0.90</td>\n",
       "      <td>0.00</td>\n",
       "      <td>0.25</td>\n",
       "      <td>NaN</td>\n",
       "      <td>NaN</td>\n",
       "      <td>NONE</td>\n",
       "      <td>2.76</td>\n",
       "    </tr>\n",
       "    <tr>\n",
       "      <th>2694</th>\n",
       "      <td>Doom (2016)</td>\n",
       "      <td>XOne</td>\n",
       "      <td>2016.0</td>\n",
       "      <td>Shooter</td>\n",
       "      <td>0.44</td>\n",
       "      <td>0.25</td>\n",
       "      <td>0.00</td>\n",
       "      <td>0.07</td>\n",
       "      <td>NaN</td>\n",
       "      <td>NaN</td>\n",
       "      <td>NONE</td>\n",
       "      <td>0.76</td>\n",
       "    </tr>\n",
       "    <tr>\n",
       "      <th>2768</th>\n",
       "      <td>The Elder Scrolls V: Skyrim</td>\n",
       "      <td>XOne</td>\n",
       "      <td>2016.0</td>\n",
       "      <td>Role-Playing</td>\n",
       "      <td>0.41</td>\n",
       "      <td>0.27</td>\n",
       "      <td>0.00</td>\n",
       "      <td>0.07</td>\n",
       "      <td>NaN</td>\n",
       "      <td>NaN</td>\n",
       "      <td>NONE</td>\n",
       "      <td>0.75</td>\n",
       "    </tr>\n",
       "    <tr>\n",
       "      <th>2954</th>\n",
       "      <td>Need for Speed (2015)</td>\n",
       "      <td>XOne</td>\n",
       "      <td>2015.0</td>\n",
       "      <td>Racing</td>\n",
       "      <td>0.30</td>\n",
       "      <td>0.33</td>\n",
       "      <td>0.00</td>\n",
       "      <td>0.06</td>\n",
       "      <td>NaN</td>\n",
       "      <td>NaN</td>\n",
       "      <td>NONE</td>\n",
       "      <td>0.69</td>\n",
       "    </tr>\n",
       "    <tr>\n",
       "      <th>3045</th>\n",
       "      <td>Diablo III</td>\n",
       "      <td>XOne</td>\n",
       "      <td>2014.0</td>\n",
       "      <td>Role-Playing</td>\n",
       "      <td>0.36</td>\n",
       "      <td>0.24</td>\n",
       "      <td>0.00</td>\n",
       "      <td>0.06</td>\n",
       "      <td>NaN</td>\n",
       "      <td>NaN</td>\n",
       "      <td>NONE</td>\n",
       "      <td>0.66</td>\n",
       "    </tr>\n",
       "    <tr>\n",
       "      <th>3309</th>\n",
       "      <td>Tomb Raider (2013)</td>\n",
       "      <td>XOne</td>\n",
       "      <td>2014.0</td>\n",
       "      <td>Action</td>\n",
       "      <td>0.35</td>\n",
       "      <td>0.21</td>\n",
       "      <td>0.00</td>\n",
       "      <td>0.05</td>\n",
       "      <td>NaN</td>\n",
       "      <td>NaN</td>\n",
       "      <td>NONE</td>\n",
       "      <td>0.61</td>\n",
       "    </tr>\n",
       "    <tr>\n",
       "      <th>3579</th>\n",
       "      <td>Minecraft: Story Mode</td>\n",
       "      <td>XOne</td>\n",
       "      <td>2015.0</td>\n",
       "      <td>Adventure</td>\n",
       "      <td>0.30</td>\n",
       "      <td>0.21</td>\n",
       "      <td>0.00</td>\n",
       "      <td>0.05</td>\n",
       "      <td>NaN</td>\n",
       "      <td>NaN</td>\n",
       "      <td>NONE</td>\n",
       "      <td>0.56</td>\n",
       "    </tr>\n",
       "    <tr>\n",
       "      <th>4081</th>\n",
       "      <td>Mad Max (2015)</td>\n",
       "      <td>XOne</td>\n",
       "      <td>2015.0</td>\n",
       "      <td>Action</td>\n",
       "      <td>0.28</td>\n",
       "      <td>0.16</td>\n",
       "      <td>0.00</td>\n",
       "      <td>0.04</td>\n",
       "      <td>NaN</td>\n",
       "      <td>NaN</td>\n",
       "      <td>NONE</td>\n",
       "      <td>0.48</td>\n",
       "    </tr>\n",
       "  </tbody>\n",
       "</table>\n",
       "</div>"
      ],
      "text/plain": [
       "                              name platform  year_of_release         genre  \\\n",
       "99       Call of Duty: Black Ops 3     XOne           2015.0       Shooter   \n",
       "342   Star Wars Battlefront (2015)     XOne           2015.0       Shooter   \n",
       "543                      Minecraft     XOne           2014.0          Misc   \n",
       "2694                   Doom (2016)     XOne           2016.0       Shooter   \n",
       "2768   The Elder Scrolls V: Skyrim     XOne           2016.0  Role-Playing   \n",
       "2954         Need for Speed (2015)     XOne           2015.0        Racing   \n",
       "3045                    Diablo III     XOne           2014.0  Role-Playing   \n",
       "3309            Tomb Raider (2013)     XOne           2014.0        Action   \n",
       "3579         Minecraft: Story Mode     XOne           2015.0     Adventure   \n",
       "4081                Mad Max (2015)     XOne           2015.0        Action   \n",
       "\n",
       "      na_sales  eu_sales  jp_sales  other_sales  critic_score  user_score  \\\n",
       "99        4.59      2.11      0.01         0.68           NaN         NaN   \n",
       "342       2.04      1.28      0.02         0.32           NaN         NaN   \n",
       "543       1.61      0.90      0.00         0.25           NaN         NaN   \n",
       "2694      0.44      0.25      0.00         0.07           NaN         NaN   \n",
       "2768      0.41      0.27      0.00         0.07           NaN         NaN   \n",
       "2954      0.30      0.33      0.00         0.06           NaN         NaN   \n",
       "3045      0.36      0.24      0.00         0.06           NaN         NaN   \n",
       "3309      0.35      0.21      0.00         0.05           NaN         NaN   \n",
       "3579      0.30      0.21      0.00         0.05           NaN         NaN   \n",
       "4081      0.28      0.16      0.00         0.04           NaN         NaN   \n",
       "\n",
       "     rating  total_sales  \n",
       "99     NONE         7.39  \n",
       "342    NONE         3.66  \n",
       "543    NONE         2.76  \n",
       "2694   NONE         0.76  \n",
       "2768   NONE         0.75  \n",
       "2954   NONE         0.69  \n",
       "3045   NONE         0.66  \n",
       "3309   NONE         0.61  \n",
       "3579   NONE         0.56  \n",
       "4081   NONE         0.48  "
      ]
     },
     "execution_count": 43,
     "metadata": {},
     "output_type": "execute_result"
    }
   ],
   "source": [
    "# Вывод на экран записей без указанного рейтинга.\n",
    "xone.loc[xone['user_score'].isna()].head(10)"
   ]
  },
  {
   "cell_type": "markdown",
   "id": "23fc5e95",
   "metadata": {},
   "source": [
    "Мы видим, что игры без указанного рейтинга и оценок пользователей, в основном, новые, выпущенные в 2014 году и позже.\n",
    "\n",
    "Посмотрим на графике на соотношение оценок критиков и объема продаж."
   ]
  },
  {
   "cell_type": "code",
   "execution_count": 44,
   "id": "ffaed9f8",
   "metadata": {},
   "outputs": [
    {
     "data": {
      "image/png": "[encoded data removed]",
      "text/plain": [
       "<Figure size 864x360 with 1 Axes>"
      ]
     },
     "metadata": {},
     "output_type": "display_data"
    },
    {
     "name": "stdout",
     "output_type": "stream",
     "text": [
      "Корреляция между оценкой критиков и общими продажами:  0.417\n"
     ]
    }
   ],
   "source": [
    "plt.figure(figsize=(12,5))\n",
    "\n",
    "sns.scatterplot(data=xone, \n",
    "                x='total_sales', \n",
    "                y='critic_score', \n",
    "                color='LightSeaGreen').set(\n",
    "    title='Корреляция общих продаж и оценки критиков для платформы XOne',\n",
    "    xlabel='Общие продажи, млн',\n",
    "    ylabel='Оценка критиков'\n",
    ")\n",
    "plt.show();\n",
    "\n",
    "print('Корреляция между оценкой критиков и общими продажами: ',\n",
    "      xone['total_sales'].corr(xone['critic_score']).round(decimals=3))"
   ]
  },
  {
   "cell_type": "markdown",
   "id": "9008c0b5",
   "metadata": {},
   "source": [
    "- На графике мы видим, что почти все игры с высокими продажами имеют оценку критиков выше 70. У игр с самыми высокими продажами оценка критиков выше 80. \n",
    "\n",
    "\n",
    "- Разброс оценок критиков у игр с низкими продажами очень большой - от 0 до 90.\n",
    "\n",
    "\n",
    "- Корреляция между оценкой критиков и обзщими продажами не высокая (~0.42).\n"
   ]
  },
  {
   "cell_type": "markdown",
   "id": "da0de834",
   "metadata": {},
   "source": [
    "\n",
    "Посмотрим на графике на соотношение оценок пользователей и объема продаж."
   ]
  },
  {
   "cell_type": "code",
   "execution_count": 45,
   "id": "fd31e7cc",
   "metadata": {},
   "outputs": [
    {
     "data": {
      "image/png": "[encoded data removed]",
      "text/plain": [
       "<Figure size 864x360 with 1 Axes>"
      ]
     },
     "metadata": {},
     "output_type": "display_data"
    },
    {
     "name": "stdout",
     "output_type": "stream",
     "text": [
      "Корреляция между оценкой пользователей и общими продажами:  -0.069\n"
     ]
    }
   ],
   "source": [
    "plt.figure(figsize=(12,5))\n",
    "\n",
    "sns.scatterplot(data=xone, \n",
    "                x='total_sales', \n",
    "                y='user_score', \n",
    "                color='CadetBlue').set(\n",
    "    title='Корреляция общих продаж и оценки критиков для платформы XOne',\n",
    "    xlabel='Общие продажи, млн',\n",
    "    ylabel='Оценка пользователей'\n",
    ")\n",
    "plt.show();\n",
    "\n",
    "print('Корреляция между оценкой пользователей и общими продажами: ',\n",
    "      xone['total_sales'].corr(xone['user_score']).round(decimals=3))"
   ]
  },
  {
   "cell_type": "markdown",
   "id": "f2095f55",
   "metadata": {},
   "source": [
    "- Оценки пользователей не выявляют какого-то четкого тренда - они более разбросаны.\n",
    "\n",
    "\n",
    "- Корреляция между общими продажами и оценкой пользователей отсутствует (~ - 0.07)."
   ]
  },
  {
   "cell_type": "markdown",
   "id": "23beb76d",
   "metadata": {},
   "source": [
    "Посмотрим на корреляцию между этими показателями за весь актуальный период для всех платформ."
   ]
  },
  {
   "cell_type": "code",
   "execution_count": 46,
   "id": "0f798cf4",
   "metadata": {},
   "outputs": [
    {
     "data": {
      "image/png": "[encoded data removed]",
      "text/plain": [
       "<Figure size 720x720 with 2 Axes>"
      ]
     },
     "metadata": {},
     "output_type": "display_data"
    }
   ],
   "source": [
    "# Визуализация матрицы корреляций.\n",
    "plt.figure(figsize=(10,10))\n",
    "sns.heatmap(games_act.corr().round(decimals=2), square=True, annot=True, cmap=\"mako\"), \n",
    "plt.show();"
   ]
  },
  {
   "cell_type": "markdown",
   "id": "3c9c43a8",
   "metadata": {},
   "source": [
    "- Мы видим, что корреляция между оценками пользователей и общими (а также всеми другими) продажами близка к нулю.\n",
    "\n",
    "\n",
    "- Корреляция между продажами и оценками критиков более высокая, тем не менее не значительная.\n",
    "\n",
    "\n",
    "- Интересно, что показатели корреляции по японским продажам значительно отличаются от продаж по другим регионам.\n",
    "\n",
    "\n",
    "- Показатели по всем платформам близки к показателям по одной выбранной платформе (`XOne`)."
   ]
  },
  {
   "cell_type": "markdown",
   "id": "db96c253",
   "metadata": {},
   "source": [
    "### Распределение игр по жанрам"
   ]
  },
  {
   "cell_type": "markdown",
   "id": "f5b7a02b",
   "metadata": {},
   "source": [
    "Возьмем данные за актуальный период и рассмотрим разбивку по жанрам и продажам."
   ]
  },
  {
   "cell_type": "code",
   "execution_count": 47,
   "id": "867bf944",
   "metadata": {
    "scrolled": true
   },
   "outputs": [
    {
     "data": {
      "text/html": [
       "<div>\n",
       "<style scoped>\n",
       "    .dataframe tbody tr th:only-of-type {\n",
       "        vertical-align: middle;\n",
       "    }\n",
       "\n",
       "    .dataframe tbody tr th {\n",
       "        vertical-align: top;\n",
       "    }\n",
       "\n",
       "    .dataframe thead th {\n",
       "        text-align: right;\n",
       "    }\n",
       "</style>\n",
       "<table border=\"1\" class=\"dataframe\">\n",
       "  <thead>\n",
       "    <tr style=\"text-align: right;\">\n",
       "      <th></th>\n",
       "      <th>genre</th>\n",
       "      <th>year_of_release</th>\n",
       "      <th>games</th>\n",
       "      <th>sales</th>\n",
       "    </tr>\n",
       "  </thead>\n",
       "  <tbody>\n",
       "    <tr>\n",
       "      <th>53</th>\n",
       "      <td>Shooter</td>\n",
       "      <td>2016</td>\n",
       "      <td>36</td>\n",
       "      <td>36.25</td>\n",
       "    </tr>\n",
       "    <tr>\n",
       "      <th>5</th>\n",
       "      <td>Action</td>\n",
       "      <td>2016</td>\n",
       "      <td>155</td>\n",
       "      <td>28.07</td>\n",
       "    </tr>\n",
       "    <tr>\n",
       "      <th>65</th>\n",
       "      <td>Sports</td>\n",
       "      <td>2016</td>\n",
       "      <td>29</td>\n",
       "      <td>20.98</td>\n",
       "    </tr>\n",
       "    <tr>\n",
       "      <th>47</th>\n",
       "      <td>Role-Playing</td>\n",
       "      <td>2016</td>\n",
       "      <td>45</td>\n",
       "      <td>17.29</td>\n",
       "    </tr>\n",
       "    <tr>\n",
       "      <th>17</th>\n",
       "      <td>Fighting</td>\n",
       "      <td>2016</td>\n",
       "      <td>13</td>\n",
       "      <td>4.27</td>\n",
       "    </tr>\n",
       "  </tbody>\n",
       "</table>\n",
       "</div>"
      ],
      "text/plain": [
       "           genre  year_of_release  games  sales\n",
       "53       Shooter             2016     36  36.25\n",
       "5         Action             2016    155  28.07\n",
       "65        Sports             2016     29  20.98\n",
       "47  Role-Playing             2016     45  17.29\n",
       "17      Fighting             2016     13   4.27"
      ]
     },
     "execution_count": 47,
     "metadata": {},
     "output_type": "execute_result"
    }
   ],
   "source": [
    "# Создание нового дф путем группировки.\n",
    "sales_genre = games_act.groupby((['genre','year_of_release']), as_index=False).agg(\n",
    "    games=('name','count'),\n",
    "    sales=('total_sales', 'sum')\n",
    ").sort_values(by=['year_of_release','sales'], ascending=False)\n",
    "\n",
    "# Замена типа данных в столбце.\n",
    "sales_genre['year_of_release'] = sales_genre['year_of_release'].astype(int)\n",
    "sales_genre.head()"
   ]
  },
  {
   "cell_type": "markdown",
   "id": "5669a10a",
   "metadata": {},
   "source": [
    "Посмотрим на общую картину продаж по жанрам за год в период с 2011 по 2016 годы:"
   ]
  },
  {
   "cell_type": "code",
   "execution_count": 48,
   "id": "0ac50213",
   "metadata": {},
   "outputs": [
    {
     "data": {
      "image/png": "[encoded data removed]",
      "text/plain": [
       "<Figure size 1152x576 with 1 Axes>"
      ]
     },
     "metadata": {},
     "output_type": "display_data"
    }
   ],
   "source": [
    "plt.figure(figsize=(16,8))\n",
    "sns.barplot(x='year_of_release', \n",
    "            y='sales',\n",
    "            hue='genre',\n",
    "            data = sales_genre, \n",
    "            palette='Paired').set(\n",
    "    title='Продажи по жанрам в предыдущие годы', \n",
    "    xlabel='Год', \n",
    "    ylabel='Сумма продаж, млн');"
   ]
  },
  {
   "cell_type": "markdown",
   "id": "9717dc8b",
   "metadata": {},
   "source": [
    "По графику мы видим, что стабильно высокие продажи у жанра `Action`. Жанр `Shooter` стремительно набрал популярность с 2013 года и в 2015-2016 продавался лучше, чем `Action`.\n",
    "\n",
    "В последние три года третье и четвертое место по продажам делят жанры `Sports` и `Role-Playing`.\n",
    "\n",
    "\n",
    "Самые низкие продажи в жанрах `Strategy` и `Puzzle`."
   ]
  },
  {
   "cell_type": "markdown",
   "id": "27d1c49c",
   "metadata": {},
   "source": [
    "#### Медианы и средние значения продаж по платформам"
   ]
  },
  {
   "cell_type": "code",
   "execution_count": 49,
   "id": "71f9e51c",
   "metadata": {},
   "outputs": [
    {
     "data": {
      "text/html": [
       "<div>\n",
       "<style scoped>\n",
       "    .dataframe tbody tr th:only-of-type {\n",
       "        vertical-align: middle;\n",
       "    }\n",
       "\n",
       "    .dataframe tbody tr th {\n",
       "        vertical-align: top;\n",
       "    }\n",
       "\n",
       "    .dataframe thead th {\n",
       "        text-align: right;\n",
       "    }\n",
       "</style>\n",
       "<table border=\"1\" class=\"dataframe\">\n",
       "  <thead>\n",
       "    <tr style=\"text-align: right;\">\n",
       "      <th></th>\n",
       "      <th>genre</th>\n",
       "      <th>games</th>\n",
       "      <th>sales</th>\n",
       "      <th>median_sales</th>\n",
       "      <th>mean_sales</th>\n",
       "    </tr>\n",
       "  </thead>\n",
       "  <tbody>\n",
       "    <tr>\n",
       "      <th>8</th>\n",
       "      <td>Shooter</td>\n",
       "      <td>101</td>\n",
       "      <td>160.07</td>\n",
       "      <td>0.680</td>\n",
       "      <td>1.584851</td>\n",
       "    </tr>\n",
       "    <tr>\n",
       "      <th>4</th>\n",
       "      <td>Platform</td>\n",
       "      <td>71</td>\n",
       "      <td>65.24</td>\n",
       "      <td>0.250</td>\n",
       "      <td>0.918873</td>\n",
       "    </tr>\n",
       "    <tr>\n",
       "      <th>10</th>\n",
       "      <td>Sports</td>\n",
       "      <td>141</td>\n",
       "      <td>95.87</td>\n",
       "      <td>0.230</td>\n",
       "      <td>0.679929</td>\n",
       "    </tr>\n",
       "    <tr>\n",
       "      <th>6</th>\n",
       "      <td>Racing</td>\n",
       "      <td>64</td>\n",
       "      <td>47.27</td>\n",
       "      <td>0.210</td>\n",
       "      <td>0.738594</td>\n",
       "    </tr>\n",
       "    <tr>\n",
       "      <th>9</th>\n",
       "      <td>Simulation</td>\n",
       "      <td>46</td>\n",
       "      <td>29.65</td>\n",
       "      <td>0.160</td>\n",
       "      <td>0.644565</td>\n",
       "    </tr>\n",
       "    <tr>\n",
       "      <th>7</th>\n",
       "      <td>Role-Playing</td>\n",
       "      <td>246</td>\n",
       "      <td>139.07</td>\n",
       "      <td>0.150</td>\n",
       "      <td>0.565325</td>\n",
       "    </tr>\n",
       "    <tr>\n",
       "      <th>2</th>\n",
       "      <td>Fighting</td>\n",
       "      <td>60</td>\n",
       "      <td>30.55</td>\n",
       "      <td>0.140</td>\n",
       "      <td>0.509167</td>\n",
       "    </tr>\n",
       "    <tr>\n",
       "      <th>3</th>\n",
       "      <td>Misc</td>\n",
       "      <td>139</td>\n",
       "      <td>43.50</td>\n",
       "      <td>0.120</td>\n",
       "      <td>0.312950</td>\n",
       "    </tr>\n",
       "    <tr>\n",
       "      <th>0</th>\n",
       "      <td>Action</td>\n",
       "      <td>630</td>\n",
       "      <td>227.74</td>\n",
       "      <td>0.110</td>\n",
       "      <td>0.361492</td>\n",
       "    </tr>\n",
       "    <tr>\n",
       "      <th>5</th>\n",
       "      <td>Puzzle</td>\n",
       "      <td>28</td>\n",
       "      <td>7.09</td>\n",
       "      <td>0.095</td>\n",
       "      <td>0.253214</td>\n",
       "    </tr>\n",
       "    <tr>\n",
       "      <th>11</th>\n",
       "      <td>Strategy</td>\n",
       "      <td>34</td>\n",
       "      <td>4.72</td>\n",
       "      <td>0.065</td>\n",
       "      <td>0.138824</td>\n",
       "    </tr>\n",
       "    <tr>\n",
       "      <th>1</th>\n",
       "      <td>Adventure</td>\n",
       "      <td>176</td>\n",
       "      <td>17.95</td>\n",
       "      <td>0.030</td>\n",
       "      <td>0.101989</td>\n",
       "    </tr>\n",
       "  </tbody>\n",
       "</table>\n",
       "</div>"
      ],
      "text/plain": [
       "           genre  games   sales  median_sales  mean_sales\n",
       "8        Shooter    101  160.07         0.680    1.584851\n",
       "4       Platform     71   65.24         0.250    0.918873\n",
       "10        Sports    141   95.87         0.230    0.679929\n",
       "6         Racing     64   47.27         0.210    0.738594\n",
       "9     Simulation     46   29.65         0.160    0.644565\n",
       "7   Role-Playing    246  139.07         0.150    0.565325\n",
       "2       Fighting     60   30.55         0.140    0.509167\n",
       "3           Misc    139   43.50         0.120    0.312950\n",
       "0         Action    630  227.74         0.110    0.361492\n",
       "5         Puzzle     28    7.09         0.095    0.253214\n",
       "11      Strategy     34    4.72         0.065    0.138824\n",
       "1      Adventure    176   17.95         0.030    0.101989"
      ]
     },
     "execution_count": 49,
     "metadata": {},
     "output_type": "execute_result"
    }
   ],
   "source": [
    "games_act.groupby(['genre'], as_index=False).agg(\n",
    "    games=('name','count'),\n",
    "    sales=('total_sales', 'sum'),\n",
    "    median_sales=('total_sales','median'),\n",
    "    mean_sales=('total_sales','mean')\n",
    ").sort_values(by='median_sales', ascending=False)"
   ]
  },
  {
   "cell_type": "markdown",
   "id": "26a24761",
   "metadata": {},
   "source": [
    "Построим график со средними значениями продаж и медианами."
   ]
  },
  {
   "cell_type": "code",
   "execution_count": 50,
   "id": "56a2b360",
   "metadata": {},
   "outputs": [
    {
     "data": {
      "image/png": "[encoded data removed]",
      "text/plain": [
       "<Figure size 1152x648 with 1 Axes>"
      ]
     },
     "metadata": {},
     "output_type": "display_data"
    }
   ],
   "source": [
    "plt.figure(figsize=(16,9))\n",
    "\n",
    "sns.barplot(x=\"genre\", y=\"total_sales\", data=games_act, alpha=.6, color='skyblue')\n",
    "sns.barplot(x=\"genre\", y=\"total_sales\", data=games_act, estimator=np.median, alpha=.7, color='red')\n",
    "\n",
    "plt.title('Медиана (красный) и среднее значение(голубой) общих продаж по жанрам', loc=\"center\", fontsize=15)\n",
    "\n",
    "plt.ylabel('Продажи, млн', fontsize=11)\n",
    "plt.xlabel('Жанры', fontsize=11);"
   ]
  },
  {
   "cell_type": "markdown",
   "id": "9c688d77",
   "metadata": {},
   "source": [
    "- Для всех жанров медиана значительно ниже среднего значения.\n",
    "\n",
    "\n",
    "- Самые высокие медианные значения продаж в жанре `Shooter`, за ним следуют `Platform`, `Sports` и `Racing`. При этом средние значения хоть и отличаются сильно от медиан, располагаются почти в том же порядке."
   ]
  },
  {
   "cell_type": "markdown",
   "id": "2e02994d",
   "metadata": {},
   "source": [
    "Посмотрим на отсортированные продажи по жанрам:"
   ]
  },
  {
   "cell_type": "code",
   "execution_count": 51,
   "id": "56627f6d",
   "metadata": {},
   "outputs": [
    {
     "data": {
      "image/png": "[encoded data removed]",
      "text/plain": [
       "<Figure size 1080x792 with 6 Axes>"
      ]
     },
     "metadata": {},
     "output_type": "display_data"
    }
   ],
   "source": [
    "years = sales_genre['year_of_release'].unique().tolist()\n",
    "years.reverse()\n",
    "\n",
    "plt.figure(figsize=(15,11))\n",
    "for i in enumerate(years):\n",
    "    plt.subplot(2,3, i[0]+1)\n",
    "    sns.barplot(x='genre', \n",
    "                y='sales', \n",
    "                hue='year_of_release', \n",
    "                data=sales_genre.loc[sales_genre['year_of_release'] == i[1]], \n",
    "                palette=('mako')).set(title='Общие продажи по жанрам за '+ str(i[1]) + ' год', xlabel='Жанры', \n",
    "                                      ylabel='Сумма продаж, млн')\n",
    "    \n",
    "    plt.subplots_adjust(hspace = 0.6)\n",
    "    plt.xticks(rotation=90)"
   ]
  },
  {
   "cell_type": "markdown",
   "id": "3097822e",
   "metadata": {},
   "source": [
    "- Самые высокие продажи в 2014 и 2015 годах.\n",
    "\n",
    "\n",
    "- Самые низкие - в 2011 году.\n",
    "\n",
    "\n",
    "- С 2014 года лидируют `Action` и `Shooter`.\n",
    "\n",
    "\n",
    "- `Role-Playing` и `Platform` находились в первой тройке с 2011 по 2013 годы. С 2014 года продажи `Platform` сильно сократились, а `Role-Playing` по-прежнему неплохо продается, сохраняя высокие позиции (3-4 место).\n",
    "\n",
    "\n",
    "- Последние места по продажам в последние три года занимают `Puzzle`, `Strategy` и `Simulation`."
   ]
  },
  {
   "cell_type": "markdown",
   "id": "646fc18d",
   "metadata": {},
   "source": [
    "## Портрет пользователя по регионам"
   ]
  },
  {
   "cell_type": "markdown",
   "id": "b631ccb0",
   "metadata": {},
   "source": [
    "Для составления портрета пользователей вернемся к исходным данным, но ограничим их периодом в 5 лет. \n",
    "\n",
    "В актуальный период мы включили только 5 платформ, созданных после 2010 года, для определения предпочтений разных рынков этого не достаточно. Отфильтруем данные по году (2011)."
   ]
  },
  {
   "cell_type": "code",
   "execution_count": 52,
   "id": "0fb2268a",
   "metadata": {},
   "outputs": [
    {
     "data": {
      "text/html": [
       "<div>\n",
       "<style scoped>\n",
       "    .dataframe tbody tr th:only-of-type {\n",
       "        vertical-align: middle;\n",
       "    }\n",
       "\n",
       "    .dataframe tbody tr th {\n",
       "        vertical-align: top;\n",
       "    }\n",
       "\n",
       "    .dataframe thead th {\n",
       "        text-align: right;\n",
       "    }\n",
       "</style>\n",
       "<table border=\"1\" class=\"dataframe\">\n",
       "  <thead>\n",
       "    <tr style=\"text-align: right;\">\n",
       "      <th></th>\n",
       "      <th>name</th>\n",
       "      <th>platform</th>\n",
       "      <th>year_of_release</th>\n",
       "      <th>genre</th>\n",
       "      <th>na_sales</th>\n",
       "      <th>eu_sales</th>\n",
       "      <th>jp_sales</th>\n",
       "      <th>other_sales</th>\n",
       "      <th>critic_score</th>\n",
       "      <th>user_score</th>\n",
       "      <th>rating</th>\n",
       "      <th>total_sales</th>\n",
       "    </tr>\n",
       "  </thead>\n",
       "  <tbody>\n",
       "    <tr>\n",
       "      <th>16</th>\n",
       "      <td>Grand Theft Auto V</td>\n",
       "      <td>PS3</td>\n",
       "      <td>2013.0</td>\n",
       "      <td>Action</td>\n",
       "      <td>7.02</td>\n",
       "      <td>9.09</td>\n",
       "      <td>0.98</td>\n",
       "      <td>3.96</td>\n",
       "      <td>97.0</td>\n",
       "      <td>8.2</td>\n",
       "      <td>M</td>\n",
       "      <td>21.05</td>\n",
       "    </tr>\n",
       "    <tr>\n",
       "      <th>23</th>\n",
       "      <td>Grand Theft Auto V</td>\n",
       "      <td>X360</td>\n",
       "      <td>2013.0</td>\n",
       "      <td>Action</td>\n",
       "      <td>9.66</td>\n",
       "      <td>5.14</td>\n",
       "      <td>0.06</td>\n",
       "      <td>1.41</td>\n",
       "      <td>97.0</td>\n",
       "      <td>8.1</td>\n",
       "      <td>M</td>\n",
       "      <td>16.27</td>\n",
       "    </tr>\n",
       "    <tr>\n",
       "      <th>31</th>\n",
       "      <td>Call of Duty: Black Ops 3</td>\n",
       "      <td>PS4</td>\n",
       "      <td>2015.0</td>\n",
       "      <td>Shooter</td>\n",
       "      <td>6.03</td>\n",
       "      <td>5.86</td>\n",
       "      <td>0.36</td>\n",
       "      <td>2.38</td>\n",
       "      <td>NaN</td>\n",
       "      <td>NaN</td>\n",
       "      <td>NONE</td>\n",
       "      <td>14.63</td>\n",
       "    </tr>\n",
       "    <tr>\n",
       "      <th>33</th>\n",
       "      <td>Pokemon X/Pokemon Y</td>\n",
       "      <td>3DS</td>\n",
       "      <td>2013.0</td>\n",
       "      <td>Role-Playing</td>\n",
       "      <td>5.28</td>\n",
       "      <td>4.19</td>\n",
       "      <td>4.35</td>\n",
       "      <td>0.78</td>\n",
       "      <td>NaN</td>\n",
       "      <td>NaN</td>\n",
       "      <td>NONE</td>\n",
       "      <td>14.60</td>\n",
       "    </tr>\n",
       "    <tr>\n",
       "      <th>34</th>\n",
       "      <td>Call of Duty: Black Ops II</td>\n",
       "      <td>PS3</td>\n",
       "      <td>2012.0</td>\n",
       "      <td>Shooter</td>\n",
       "      <td>4.99</td>\n",
       "      <td>5.73</td>\n",
       "      <td>0.65</td>\n",
       "      <td>2.42</td>\n",
       "      <td>83.0</td>\n",
       "      <td>5.3</td>\n",
       "      <td>M</td>\n",
       "      <td>13.79</td>\n",
       "    </tr>\n",
       "  </tbody>\n",
       "</table>\n",
       "</div>"
      ],
      "text/plain": [
       "                          name platform  year_of_release         genre  \\\n",
       "16          Grand Theft Auto V      PS3           2013.0        Action   \n",
       "23          Grand Theft Auto V     X360           2013.0        Action   \n",
       "31   Call of Duty: Black Ops 3      PS4           2015.0       Shooter   \n",
       "33         Pokemon X/Pokemon Y      3DS           2013.0  Role-Playing   \n",
       "34  Call of Duty: Black Ops II      PS3           2012.0       Shooter   \n",
       "\n",
       "    na_sales  eu_sales  jp_sales  other_sales  critic_score  user_score  \\\n",
       "16      7.02      9.09      0.98         3.96          97.0         8.2   \n",
       "23      9.66      5.14      0.06         1.41          97.0         8.1   \n",
       "31      6.03      5.86      0.36         2.38           NaN         NaN   \n",
       "33      5.28      4.19      4.35         0.78           NaN         NaN   \n",
       "34      4.99      5.73      0.65         2.42          83.0         5.3   \n",
       "\n",
       "   rating  total_sales  \n",
       "16      M        21.05  \n",
       "23      M        16.27  \n",
       "31   NONE        14.63  \n",
       "33   NONE        14.60  \n",
       "34      M        13.79  "
      ]
     },
     "execution_count": 52,
     "metadata": {},
     "output_type": "execute_result"
    }
   ],
   "source": [
    "# Создание дф с актуальным периодом.\n",
    "games_small = games.loc[games['year_of_release'] > 2011]\n",
    "games_small.head()"
   ]
  },
  {
   "cell_type": "markdown",
   "id": "0400bfc2",
   "metadata": {},
   "source": [
    "### Продажи по платформам по регионам"
   ]
  },
  {
   "cell_type": "markdown",
   "id": "67b26c29",
   "metadata": {},
   "source": [
    "Посмотрим на продажи самых популярных платформ по решионам:"
   ]
  },
  {
   "cell_type": "code",
   "execution_count": 53,
   "id": "56a761ee",
   "metadata": {},
   "outputs": [
    {
     "data": {
      "text/html": [
       "<div>\n",
       "<style scoped>\n",
       "    .dataframe tbody tr th:only-of-type {\n",
       "        vertical-align: middle;\n",
       "    }\n",
       "\n",
       "    .dataframe tbody tr th {\n",
       "        vertical-align: top;\n",
       "    }\n",
       "\n",
       "    .dataframe thead th {\n",
       "        text-align: right;\n",
       "    }\n",
       "</style>\n",
       "<table border=\"1\" class=\"dataframe\">\n",
       "  <thead>\n",
       "    <tr style=\"text-align: right;\">\n",
       "      <th></th>\n",
       "      <th>platform</th>\n",
       "      <th>NA_sales</th>\n",
       "    </tr>\n",
       "  </thead>\n",
       "  <tbody>\n",
       "    <tr>\n",
       "      <th>9</th>\n",
       "      <td>X360</td>\n",
       "      <td>140.05</td>\n",
       "    </tr>\n",
       "    <tr>\n",
       "      <th>4</th>\n",
       "      <td>PS4</td>\n",
       "      <td>108.74</td>\n",
       "    </tr>\n",
       "    <tr>\n",
       "      <th>3</th>\n",
       "      <td>PS3</td>\n",
       "      <td>103.38</td>\n",
       "    </tr>\n",
       "    <tr>\n",
       "      <th>10</th>\n",
       "      <td>XOne</td>\n",
       "      <td>93.12</td>\n",
       "    </tr>\n",
       "    <tr>\n",
       "      <th>0</th>\n",
       "      <td>3DS</td>\n",
       "      <td>55.31</td>\n",
       "    </tr>\n",
       "  </tbody>\n",
       "</table>\n",
       "</div>"
      ],
      "text/plain": [
       "   platform  NA_sales\n",
       "9      X360    140.05\n",
       "4       PS4    108.74\n",
       "3       PS3    103.38\n",
       "10     XOne     93.12\n",
       "0       3DS     55.31"
      ]
     },
     "metadata": {},
     "output_type": "display_data"
    },
    {
     "data": {
      "text/html": [
       "<div>\n",
       "<style scoped>\n",
       "    .dataframe tbody tr th:only-of-type {\n",
       "        vertical-align: middle;\n",
       "    }\n",
       "\n",
       "    .dataframe tbody tr th {\n",
       "        vertical-align: top;\n",
       "    }\n",
       "\n",
       "    .dataframe thead th {\n",
       "        text-align: right;\n",
       "    }\n",
       "</style>\n",
       "<table border=\"1\" class=\"dataframe\">\n",
       "  <thead>\n",
       "    <tr style=\"text-align: right;\">\n",
       "      <th></th>\n",
       "      <th>platform</th>\n",
       "      <th>EU_sales</th>\n",
       "    </tr>\n",
       "  </thead>\n",
       "  <tbody>\n",
       "    <tr>\n",
       "      <th>4</th>\n",
       "      <td>PS4</td>\n",
       "      <td>141.09</td>\n",
       "    </tr>\n",
       "    <tr>\n",
       "      <th>3</th>\n",
       "      <td>PS3</td>\n",
       "      <td>106.85</td>\n",
       "    </tr>\n",
       "    <tr>\n",
       "      <th>9</th>\n",
       "      <td>X360</td>\n",
       "      <td>74.52</td>\n",
       "    </tr>\n",
       "    <tr>\n",
       "      <th>10</th>\n",
       "      <td>XOne</td>\n",
       "      <td>51.59</td>\n",
       "    </tr>\n",
       "    <tr>\n",
       "      <th>0</th>\n",
       "      <td>3DS</td>\n",
       "      <td>42.64</td>\n",
       "    </tr>\n",
       "  </tbody>\n",
       "</table>\n",
       "</div>"
      ],
      "text/plain": [
       "   platform  EU_sales\n",
       "4       PS4    141.09\n",
       "3       PS3    106.85\n",
       "9      X360     74.52\n",
       "10     XOne     51.59\n",
       "0       3DS     42.64"
      ]
     },
     "metadata": {},
     "output_type": "display_data"
    },
    {
     "data": {
      "text/html": [
       "<div>\n",
       "<style scoped>\n",
       "    .dataframe tbody tr th:only-of-type {\n",
       "        vertical-align: middle;\n",
       "    }\n",
       "\n",
       "    .dataframe tbody tr th {\n",
       "        vertical-align: top;\n",
       "    }\n",
       "\n",
       "    .dataframe thead th {\n",
       "        text-align: right;\n",
       "    }\n",
       "</style>\n",
       "<table border=\"1\" class=\"dataframe\">\n",
       "  <thead>\n",
       "    <tr style=\"text-align: right;\">\n",
       "      <th></th>\n",
       "      <th>platform</th>\n",
       "      <th>JP_sales</th>\n",
       "    </tr>\n",
       "  </thead>\n",
       "  <tbody>\n",
       "    <tr>\n",
       "      <th>0</th>\n",
       "      <td>3DS</td>\n",
       "      <td>87.79</td>\n",
       "    </tr>\n",
       "    <tr>\n",
       "      <th>3</th>\n",
       "      <td>PS3</td>\n",
       "      <td>35.29</td>\n",
       "    </tr>\n",
       "    <tr>\n",
       "      <th>6</th>\n",
       "      <td>PSV</td>\n",
       "      <td>21.04</td>\n",
       "    </tr>\n",
       "    <tr>\n",
       "      <th>4</th>\n",
       "      <td>PS4</td>\n",
       "      <td>15.96</td>\n",
       "    </tr>\n",
       "    <tr>\n",
       "      <th>8</th>\n",
       "      <td>WiiU</td>\n",
       "      <td>13.01</td>\n",
       "    </tr>\n",
       "  </tbody>\n",
       "</table>\n",
       "</div>"
      ],
      "text/plain": [
       "  platform  JP_sales\n",
       "0      3DS     87.79\n",
       "3      PS3     35.29\n",
       "6      PSV     21.04\n",
       "4      PS4     15.96\n",
       "8     WiiU     13.01"
      ]
     },
     "metadata": {},
     "output_type": "display_data"
    }
   ],
   "source": [
    "display(games_small.groupby(['platform'], as_index=False).agg(\n",
    "    NA_sales=('na_sales', 'sum')\n",
    ").sort_values(by=['NA_sales'], ascending=False).head())\n",
    "\n",
    "display(games_small.groupby(['platform'], as_index=False).agg(\n",
    "    EU_sales=('eu_sales', 'sum')\n",
    ").sort_values(by=['EU_sales'], ascending=False).head())\n",
    "\n",
    "display(games_small.groupby(['platform'], as_index=False).agg(\n",
    "    JP_sales=('jp_sales', 'sum')\n",
    ").sort_values(by=['JP_sales'], ascending=False).head())"
   ]
  },
  {
   "cell_type": "markdown",
   "id": "086474dd",
   "metadata": {},
   "source": [
    "- Первое место по продажам в Северной Америке занимает платформа `X360`, которая находится на третьем месте на европейском рынке и не входит в первую пятерку на японском рынке.\n",
    "\n",
    "\n",
    "- `3DS`, `PS4`, `PS3` входят в пятерку лидеров продаж на всех рынках.\n",
    "\n",
    "\n",
    "- На японском рынке в лидерах продаж представлены две платформы игр для портативных устройств, в то время как на европейском и американском рынке основные продажи приходятся на стационарные устройства.\n",
    "\n",
    "\n",
    "- Европейские и американские продажи сопоставимы, в то время как японские продажи в несколько раз ниже."
   ]
  },
  {
   "cell_type": "markdown",
   "id": "24351ffa",
   "metadata": {},
   "source": [
    "### Продажи по жанрам по регионам"
   ]
  },
  {
   "cell_type": "code",
   "execution_count": 54,
   "id": "5b8087a6",
   "metadata": {},
   "outputs": [
    {
     "data": {
      "text/html": [
       "<div>\n",
       "<style scoped>\n",
       "    .dataframe tbody tr th:only-of-type {\n",
       "        vertical-align: middle;\n",
       "    }\n",
       "\n",
       "    .dataframe tbody tr th {\n",
       "        vertical-align: top;\n",
       "    }\n",
       "\n",
       "    .dataframe thead th {\n",
       "        text-align: right;\n",
       "    }\n",
       "</style>\n",
       "<table border=\"1\" class=\"dataframe\">\n",
       "  <thead>\n",
       "    <tr style=\"text-align: right;\">\n",
       "      <th></th>\n",
       "      <th>genre</th>\n",
       "      <th>NA_sales</th>\n",
       "    </tr>\n",
       "  </thead>\n",
       "  <tbody>\n",
       "    <tr>\n",
       "      <th>0</th>\n",
       "      <td>Action</td>\n",
       "      <td>177.84</td>\n",
       "    </tr>\n",
       "    <tr>\n",
       "      <th>8</th>\n",
       "      <td>Shooter</td>\n",
       "      <td>144.77</td>\n",
       "    </tr>\n",
       "    <tr>\n",
       "      <th>10</th>\n",
       "      <td>Sports</td>\n",
       "      <td>81.53</td>\n",
       "    </tr>\n",
       "    <tr>\n",
       "      <th>7</th>\n",
       "      <td>Role-Playing</td>\n",
       "      <td>64.00</td>\n",
       "    </tr>\n",
       "    <tr>\n",
       "      <th>3</th>\n",
       "      <td>Misc</td>\n",
       "      <td>38.19</td>\n",
       "    </tr>\n",
       "  </tbody>\n",
       "</table>\n",
       "</div>"
      ],
      "text/plain": [
       "           genre  NA_sales\n",
       "0         Action    177.84\n",
       "8        Shooter    144.77\n",
       "10        Sports     81.53\n",
       "7   Role-Playing     64.00\n",
       "3           Misc     38.19"
      ]
     },
     "metadata": {},
     "output_type": "display_data"
    },
    {
     "data": {
      "text/html": [
       "<div>\n",
       "<style scoped>\n",
       "    .dataframe tbody tr th:only-of-type {\n",
       "        vertical-align: middle;\n",
       "    }\n",
       "\n",
       "    .dataframe tbody tr th {\n",
       "        vertical-align: top;\n",
       "    }\n",
       "\n",
       "    .dataframe thead th {\n",
       "        text-align: right;\n",
       "    }\n",
       "</style>\n",
       "<table border=\"1\" class=\"dataframe\">\n",
       "  <thead>\n",
       "    <tr style=\"text-align: right;\">\n",
       "      <th></th>\n",
       "      <th>genre</th>\n",
       "      <th>EU_sales</th>\n",
       "    </tr>\n",
       "  </thead>\n",
       "  <tbody>\n",
       "    <tr>\n",
       "      <th>0</th>\n",
       "      <td>Action</td>\n",
       "      <td>159.34</td>\n",
       "    </tr>\n",
       "    <tr>\n",
       "      <th>8</th>\n",
       "      <td>Shooter</td>\n",
       "      <td>113.47</td>\n",
       "    </tr>\n",
       "    <tr>\n",
       "      <th>10</th>\n",
       "      <td>Sports</td>\n",
       "      <td>69.08</td>\n",
       "    </tr>\n",
       "    <tr>\n",
       "      <th>7</th>\n",
       "      <td>Role-Playing</td>\n",
       "      <td>48.53</td>\n",
       "    </tr>\n",
       "    <tr>\n",
       "      <th>6</th>\n",
       "      <td>Racing</td>\n",
       "      <td>27.29</td>\n",
       "    </tr>\n",
       "  </tbody>\n",
       "</table>\n",
       "</div>"
      ],
      "text/plain": [
       "           genre  EU_sales\n",
       "0         Action    159.34\n",
       "8        Shooter    113.47\n",
       "10        Sports     69.08\n",
       "7   Role-Playing     48.53\n",
       "6         Racing     27.29"
      ]
     },
     "metadata": {},
     "output_type": "display_data"
    },
    {
     "data": {
      "text/html": [
       "<div>\n",
       "<style scoped>\n",
       "    .dataframe tbody tr th:only-of-type {\n",
       "        vertical-align: middle;\n",
       "    }\n",
       "\n",
       "    .dataframe tbody tr th {\n",
       "        vertical-align: top;\n",
       "    }\n",
       "\n",
       "    .dataframe thead th {\n",
       "        text-align: right;\n",
       "    }\n",
       "</style>\n",
       "<table border=\"1\" class=\"dataframe\">\n",
       "  <thead>\n",
       "    <tr style=\"text-align: right;\">\n",
       "      <th></th>\n",
       "      <th>genre</th>\n",
       "      <th>JP_sales</th>\n",
       "    </tr>\n",
       "  </thead>\n",
       "  <tbody>\n",
       "    <tr>\n",
       "      <th>7</th>\n",
       "      <td>Role-Playing</td>\n",
       "      <td>65.44</td>\n",
       "    </tr>\n",
       "    <tr>\n",
       "      <th>0</th>\n",
       "      <td>Action</td>\n",
       "      <td>52.80</td>\n",
       "    </tr>\n",
       "    <tr>\n",
       "      <th>3</th>\n",
       "      <td>Misc</td>\n",
       "      <td>12.86</td>\n",
       "    </tr>\n",
       "    <tr>\n",
       "      <th>9</th>\n",
       "      <td>Simulation</td>\n",
       "      <td>10.41</td>\n",
       "    </tr>\n",
       "    <tr>\n",
       "      <th>2</th>\n",
       "      <td>Fighting</td>\n",
       "      <td>9.44</td>\n",
       "    </tr>\n",
       "  </tbody>\n",
       "</table>\n",
       "</div>"
      ],
      "text/plain": [
       "          genre  JP_sales\n",
       "7  Role-Playing     65.44\n",
       "0        Action     52.80\n",
       "3          Misc     12.86\n",
       "9    Simulation     10.41\n",
       "2      Fighting      9.44"
      ]
     },
     "metadata": {},
     "output_type": "display_data"
    }
   ],
   "source": [
    "display(games_small.groupby(['genre'], as_index=False).agg(\n",
    "    NA_sales=('na_sales', 'sum')\n",
    ").sort_values(by=['NA_sales'], ascending=False).head())\n",
    "\n",
    "display(games_small.groupby(['genre'], as_index=False).agg(\n",
    "    EU_sales=('eu_sales', 'sum')\n",
    ").sort_values(by=['EU_sales'], ascending=False).head())\n",
    "\n",
    "display(games_small.groupby(['genre'], as_index=False).agg(\n",
    "    JP_sales=('jp_sales', 'sum')\n",
    ").sort_values(by=['JP_sales'], ascending=False).head())"
   ]
  },
  {
   "cell_type": "markdown",
   "id": "4388a937",
   "metadata": {},
   "source": [
    "- Американский и европейский рынок почти идентичны по продажам по жанрам, хотя продажи в Европе немного ниже. Лидирующие позиции у жанров `Action`, `Shooter` и `Sports`. \n",
    "\n",
    "\n",
    "- В Японии жанр `Shooter` не пользуется популярностью, в отличие от Европы и Америки, где он занимает второе место после `Action`.\n",
    "\n",
    "\n",
    "- `Role-Playing` занимает первое место по продажам в Японии и только четвертое в Америке и Европе."
   ]
  },
  {
   "cell_type": "markdown",
   "id": "bd70bcd6",
   "metadata": {},
   "source": [
    "### Продажи по рейтингам по регионам"
   ]
  },
  {
   "cell_type": "code",
   "execution_count": 55,
   "id": "509e4046",
   "metadata": {},
   "outputs": [
    {
     "data": {
      "text/html": [
       "<div>\n",
       "<style scoped>\n",
       "    .dataframe tbody tr th:only-of-type {\n",
       "        vertical-align: middle;\n",
       "    }\n",
       "\n",
       "    .dataframe tbody tr th {\n",
       "        vertical-align: top;\n",
       "    }\n",
       "\n",
       "    .dataframe thead th {\n",
       "        text-align: right;\n",
       "    }\n",
       "</style>\n",
       "<table border=\"1\" class=\"dataframe\">\n",
       "  <thead>\n",
       "    <tr style=\"text-align: right;\">\n",
       "      <th></th>\n",
       "      <th>rating</th>\n",
       "      <th>NA_sales</th>\n",
       "    </tr>\n",
       "  </thead>\n",
       "  <tbody>\n",
       "    <tr>\n",
       "      <th>2</th>\n",
       "      <td>M</td>\n",
       "      <td>231.57</td>\n",
       "    </tr>\n",
       "    <tr>\n",
       "      <th>0</th>\n",
       "      <td>E</td>\n",
       "      <td>114.37</td>\n",
       "    </tr>\n",
       "    <tr>\n",
       "      <th>3</th>\n",
       "      <td>NONE</td>\n",
       "      <td>103.31</td>\n",
       "    </tr>\n",
       "    <tr>\n",
       "      <th>1</th>\n",
       "      <td>E10+</td>\n",
       "      <td>75.70</td>\n",
       "    </tr>\n",
       "    <tr>\n",
       "      <th>4</th>\n",
       "      <td>T</td>\n",
       "      <td>66.02</td>\n",
       "    </tr>\n",
       "  </tbody>\n",
       "</table>\n",
       "</div>"
      ],
      "text/plain": [
       "  rating  NA_sales\n",
       "2      M    231.57\n",
       "0      E    114.37\n",
       "3   NONE    103.31\n",
       "1   E10+     75.70\n",
       "4      T     66.02"
      ]
     },
     "metadata": {},
     "output_type": "display_data"
    },
    {
     "data": {
      "text/html": [
       "<div>\n",
       "<style scoped>\n",
       "    .dataframe tbody tr th:only-of-type {\n",
       "        vertical-align: middle;\n",
       "    }\n",
       "\n",
       "    .dataframe tbody tr th {\n",
       "        vertical-align: top;\n",
       "    }\n",
       "\n",
       "    .dataframe thead th {\n",
       "        text-align: right;\n",
       "    }\n",
       "</style>\n",
       "<table border=\"1\" class=\"dataframe\">\n",
       "  <thead>\n",
       "    <tr style=\"text-align: right;\">\n",
       "      <th></th>\n",
       "      <th>rating</th>\n",
       "      <th>EU_sales</th>\n",
       "    </tr>\n",
       "  </thead>\n",
       "  <tbody>\n",
       "    <tr>\n",
       "      <th>2</th>\n",
       "      <td>M</td>\n",
       "      <td>193.96</td>\n",
       "    </tr>\n",
       "    <tr>\n",
       "      <th>0</th>\n",
       "      <td>E</td>\n",
       "      <td>113.02</td>\n",
       "    </tr>\n",
       "    <tr>\n",
       "      <th>3</th>\n",
       "      <td>NONE</td>\n",
       "      <td>91.50</td>\n",
       "    </tr>\n",
       "    <tr>\n",
       "      <th>1</th>\n",
       "      <td>E10+</td>\n",
       "      <td>55.37</td>\n",
       "    </tr>\n",
       "    <tr>\n",
       "      <th>4</th>\n",
       "      <td>T</td>\n",
       "      <td>52.96</td>\n",
       "    </tr>\n",
       "  </tbody>\n",
       "</table>\n",
       "</div>"
      ],
      "text/plain": [
       "  rating  EU_sales\n",
       "2      M    193.96\n",
       "0      E    113.02\n",
       "3   NONE     91.50\n",
       "1   E10+     55.37\n",
       "4      T     52.96"
      ]
     },
     "metadata": {},
     "output_type": "display_data"
    },
    {
     "data": {
      "text/html": [
       "<div>\n",
       "<style scoped>\n",
       "    .dataframe tbody tr th:only-of-type {\n",
       "        vertical-align: middle;\n",
       "    }\n",
       "\n",
       "    .dataframe tbody tr th {\n",
       "        vertical-align: top;\n",
       "    }\n",
       "\n",
       "    .dataframe thead th {\n",
       "        text-align: right;\n",
       "    }\n",
       "</style>\n",
       "<table border=\"1\" class=\"dataframe\">\n",
       "  <thead>\n",
       "    <tr style=\"text-align: right;\">\n",
       "      <th></th>\n",
       "      <th>rating</th>\n",
       "      <th>JP_sales</th>\n",
       "    </tr>\n",
       "  </thead>\n",
       "  <tbody>\n",
       "    <tr>\n",
       "      <th>3</th>\n",
       "      <td>NONE</td>\n",
       "      <td>108.84</td>\n",
       "    </tr>\n",
       "    <tr>\n",
       "      <th>0</th>\n",
       "      <td>E</td>\n",
       "      <td>28.33</td>\n",
       "    </tr>\n",
       "    <tr>\n",
       "      <th>4</th>\n",
       "      <td>T</td>\n",
       "      <td>26.02</td>\n",
       "    </tr>\n",
       "    <tr>\n",
       "      <th>2</th>\n",
       "      <td>M</td>\n",
       "      <td>21.20</td>\n",
       "    </tr>\n",
       "    <tr>\n",
       "      <th>1</th>\n",
       "      <td>E10+</td>\n",
       "      <td>8.19</td>\n",
       "    </tr>\n",
       "  </tbody>\n",
       "</table>\n",
       "</div>"
      ],
      "text/plain": [
       "  rating  JP_sales\n",
       "3   NONE    108.84\n",
       "0      E     28.33\n",
       "4      T     26.02\n",
       "2      M     21.20\n",
       "1   E10+      8.19"
      ]
     },
     "metadata": {},
     "output_type": "display_data"
    }
   ],
   "source": [
    "display(games_small.groupby(['rating'], as_index=False).agg(\n",
    "    NA_sales=('na_sales', 'sum')\n",
    ").sort_values(by=['NA_sales'], ascending=False).head())\n",
    "\n",
    "display(games_small.groupby(['rating'], as_index=False).agg(\n",
    "    EU_sales=('eu_sales', 'sum')\n",
    ").sort_values(by=['EU_sales'], ascending=False).head())\n",
    "\n",
    "display(games_small.groupby(['rating'], as_index=False).agg(\n",
    "    JP_sales=('jp_sales', 'sum')\n",
    ").sort_values(by=['JP_sales'], ascending=False).head())"
   ]
  },
  {
   "cell_type": "markdown",
   "id": "1ddffa86",
   "metadata": {},
   "source": [
    "- На американском и европейском рынке лидером продаж являются игры категории `M` (Mature - для взрослых 17+).\n",
    "\n",
    "\n",
    "- На втором месте на всех рынках находятся игры категории `E` (Everyone - для всех).\n",
    "\n",
    "\n",
    "- Игры, доступные детям от 10 лет занимают последние лидирующие позиции на европейском и американском рынке.\n",
    "\n",
    "\n",
    "- На японском рынке лидируют продажи игр без категории. ESRB регулирует рейтинг в США и Канаде, скорее всего многие игры, выпущенные за пределами США и Канады не получают этот рейтинг, если они не выходят на американский рынок, или не пользуются на нем популярностью."
   ]
  },
  {
   "cell_type": "markdown",
   "id": "cdffac8f",
   "metadata": {},
   "source": [
    "## Проверка гипотез "
   ]
  },
  {
   "cell_type": "markdown",
   "id": "2529d4bb",
   "metadata": {},
   "source": [
    "### Гипотеза о равенстве средних пользовательских отзывов по платформам `Xbox One` и `PC`"
   ]
  },
  {
   "cell_type": "markdown",
   "id": "90203b1b",
   "metadata": {},
   "source": [
    "Предположим, что средние пользовательские отзывы платформ `Xbox One` и `PC` одинаковые.\n",
    "\n",
    "Рассматривая данные за актуальный период (с 2012 по 2016), мы имеем выборку за последние годы работы платформы `PC` и за первые годы работы платформы `Xbox One`.\n",
    "\n",
    "Соберем в отдельные датафреймы данные по двум платформам и посмотрим на их размер."
   ]
  },
  {
   "cell_type": "code",
   "execution_count": 56,
   "id": "42af5e65",
   "metadata": {},
   "outputs": [
    {
     "data": {
      "text/plain": [
       "(247, 12)"
      ]
     },
     "execution_count": 56,
     "metadata": {},
     "output_type": "execute_result"
    }
   ],
   "source": [
    "# Создание дф срезом данных.\n",
    "xbox = games_small.loc[games_small['platform'] == 'XOne']\n",
    "# Просмотр размера.\n",
    "xbox.shape"
   ]
  },
  {
   "cell_type": "code",
   "execution_count": 57,
   "id": "fbe4939c",
   "metadata": {},
   "outputs": [
    {
     "data": {
      "text/plain": [
       "(250, 12)"
      ]
     },
     "execution_count": 57,
     "metadata": {},
     "output_type": "execute_result"
    }
   ],
   "source": [
    "# Создание дф срезом данных.\n",
    "pc = games_small.loc[games_small['platform'] == 'PC']\n",
    "# Просмотр размера.\n",
    "pc.shape"
   ]
  },
  {
   "cell_type": "markdown",
   "id": "03fe4336",
   "metadata": {},
   "source": [
    "Выборки близки по размеру.\n",
    "Для проведения теста нам нужно избавиться от неизвестных значений:"
   ]
  },
  {
   "cell_type": "code",
   "execution_count": 58,
   "id": "c22556ad",
   "metadata": {
    "scrolled": true
   },
   "outputs": [
    {
     "name": "stdout",
     "output_type": "stream",
     "text": [
      "Пропуски в оценках Xbox One: 65\n",
      "Пропуски в оценках PC: 44\n"
     ]
    }
   ],
   "source": [
    "# Подсчет na значений.\n",
    "print('Пропуски в оценках Xbox One: ' + str(xbox['user_score'].isna().sum()))\n",
    "print('Пропуски в оценках PC: ' + str(pc['user_score'].isna().sum()))"
   ]
  },
  {
   "cell_type": "code",
   "execution_count": 59,
   "id": "793e75a7",
   "metadata": {},
   "outputs": [],
   "source": [
    "# Удаление na значений.\n",
    "xbox = xbox.dropna()\n",
    "pc = pc.dropna()"
   ]
  },
  {
   "cell_type": "markdown",
   "id": "7212f0c0",
   "metadata": {},
   "source": [
    "Мы получили две выборки похожие по размеру (165 и 197 записей).\n",
    "\n",
    "Посмотрим на распределения по двум выборках. Для этого напишем функцию:"
   ]
  },
  {
   "cell_type": "code",
   "execution_count": 60,
   "id": "9b35c678",
   "metadata": {},
   "outputs": [],
   "source": [
    "def show_hist(df_1=xbox, df_2=pc, column=\"user_score\", \n",
    "              name='Распределение оценок пользователей',\n",
    "              xlabel='Оценка', ylabel='Пользователи',\n",
    "              label_2='XOne',\n",
    "              label_1='PC'):  \n",
    "    \"\"\"\n",
    "    Функция строит 2 гисторгаммы на одном поле, \n",
    "    используя данные столбца с одинаковым именем \n",
    "    из двух разных датафреймов.\n",
    "    Также выводит на экран среднее значение, медиану, \n",
    "    стандартное отклонение и дисперсию.\n",
    "    \"\"\"\n",
    "    plt.figure(figsize=(10, 5))\n",
    "\n",
    "    sns.set(style=\"darkgrid\")\n",
    "\n",
    "    sns.histplot(data=df_2, x=column, color=\"red\", label=label_2, kde=True)\n",
    "    sns.histplot(data=df_1, x=column, color=\"skyblue\", label=label_1, kde=True)\n",
    "\n",
    "    plt.title(name, loc=\"center\", fontsize=15)\n",
    "\n",
    "\n",
    "    plt.ylabel(ylabel, fontsize=11);\n",
    "    plt.xlabel(xlabel, fontsize=11);\n",
    "\n",
    "     \n",
    "    print(label_2 + ': Распределение')\n",
    "    print('Среднее значение:', round(df_2[column].describe()[1], 4))\n",
    "    print('Медиана:', round(df_2[column].describe()[5], 4))\n",
    "    print('Стандартное отклонениее:', round(df_2[column].describe()[2], 4))\n",
    "    print('Дисперсия:', round(np.var(df_2[column], ddof=1), 4))\n",
    "    print()\n",
    "    print(label_1 + ': Распределение')\n",
    "    print('Среднее значение:', round(df_1[column].describe()[1], 4))\n",
    "    print('Медиана:', round(df_1[column].describe()[5], 4))\n",
    "    print('Стандартное отклонениее:', round(df_1[column].describe()[2], 4))\n",
    "    print('Дисперсия:', round(np.var(df_1[column], ddof=1), 4))\n",
    "    \n",
    "    plt.legend() \n",
    "    plt.show()"
   ]
  },
  {
   "cell_type": "code",
   "execution_count": 61,
   "id": "e9d73939",
   "metadata": {},
   "outputs": [
    {
     "name": "stdout",
     "output_type": "stream",
     "text": [
      "XOne: Распределение\n",
      "Среднее значение: 6.4543\n",
      "Медиана: 6.8\n",
      "Стандартное отклонениее: 1.6395\n",
      "Дисперсия: 2.6878\n",
      "\n",
      "PC: Распределение\n",
      "Среднее значение: 6.5382\n",
      "Медиана: 6.8\n",
      "Стандартное отклонениее: 1.3403\n",
      "Дисперсия: 1.7964\n"
     ]
    },
    {
     "data": {
      "image/png": "[encoded data removed]",
      "text/plain": [
       "<Figure size 720x360 with 1 Axes>"
      ]
     },
     "metadata": {},
     "output_type": "display_data"
    }
   ],
   "source": [
    "show_hist()"
   ]
  },
  {
   "cell_type": "markdown",
   "id": "76b4b773",
   "metadata": {},
   "source": [
    "Мы видим, что средние пользовательские оценки Xbox и PC на выборке почти равны. Медианные значения равны. Дисперсия отличается.\n",
    "\n",
    "Распределение оценок пользователей PC более похоже на нормальное.\n",
    "\n",
    "__________\n",
    "\n",
    "Проверим равенство средних значений двух выборок соответствующим статистическим тестом.\n",
    "\n",
    "\n",
    "**Сформулируем нулевую гопитезу:**\n",
    "\n",
    "Средние оценки по платформе `Xbox One` и `PC` **равны**.\n",
    "\n",
    "\n",
    "\n",
    "**Альтернативная гипотеза:**\n",
    "\n",
    "Средние оценки по платформе `Xbox One` и `PC` **не равны**.\n",
    "\n",
    "\n",
    "\n",
    "Проверим нулевую гипотезу, установив критический уровень статистической значимости 0.05.\n"
   ]
  },
  {
   "cell_type": "code",
   "execution_count": 62,
   "id": "d61d822f",
   "metadata": {},
   "outputs": [
    {
     "name": "stdout",
     "output_type": "stream",
     "text": [
      "p-значение:  0.5926561176517491\n",
      "Не получилось отвергнуть нулевую гипотезу\n"
     ]
    }
   ],
   "source": [
    "# Применение статистического теста.\n",
    "results = st.ttest_ind(xbox['user_score'], pc['user_score'], equal_var = False)\n",
    "# Установка критического уровня статистической значимости.\n",
    "alpha = 0.05\n",
    "\n",
    "print('p-значение: ', results.pvalue)\n",
    "if results.pvalue < alpha:\n",
    "    print('Отвергаем нулевую гипотезу')\n",
    "else:\n",
    "    print('Не получилось отвергнуть нулевую гипотезу')"
   ]
  },
  {
   "cell_type": "markdown",
   "id": "471c4a3f",
   "metadata": {},
   "source": [
    "Мы не можем отвергнуть гипотезу о равенстве средней пользовательской оценки между двумя платформами. Даже если поднять критический уровень статистической значимости до 50%, все равно гипотезу отвергнуть нельзя."
   ]
  },
  {
   "cell_type": "markdown",
   "id": "851bfcf4",
   "metadata": {},
   "source": [
    "_______"
   ]
  },
  {
   "cell_type": "markdown",
   "id": "fc5e4d44",
   "metadata": {},
   "source": [
    "**Вывод:** Нет статистически значимой разницы между средними пользовательскими оценками по платформам `PC` и `Xbox one`."
   ]
  },
  {
   "cell_type": "markdown",
   "id": "6c9921bb",
   "metadata": {},
   "source": [
    "### Гипотеза о неравенстве средних пользовательских отзывов по жанрам  `Action` и `Sports`"
   ]
  },
  {
   "cell_type": "markdown",
   "id": "f00cef6b",
   "metadata": {},
   "source": [
    "Посмотрим на размер выборки по жанрам `Action` и `Sports`:"
   ]
  },
  {
   "cell_type": "code",
   "execution_count": 63,
   "id": "e7828bde",
   "metadata": {},
   "outputs": [
    {
     "data": {
      "text/plain": [
       "(523, 2)"
      ]
     },
     "execution_count": 63,
     "metadata": {},
     "output_type": "execute_result"
    }
   ],
   "source": [
    "# Создание дф срезом данных.\n",
    "games_action = games_small.loc[games_small['genre'] == 'Action']\n",
    "# Избавление от пропусков.\n",
    "games_action = games_action[['platform','user_score']].dropna()\n",
    "# Просмотр размера.\n",
    "games_action.shape"
   ]
  },
  {
   "cell_type": "code",
   "execution_count": 64,
   "id": "49e6c9e9",
   "metadata": {},
   "outputs": [
    {
     "data": {
      "text/plain": [
       "(194, 2)"
      ]
     },
     "execution_count": 64,
     "metadata": {},
     "output_type": "execute_result"
    }
   ],
   "source": [
    "# Создание дф срезом данных.\n",
    "games_sports = games_small.loc[games_small['genre'] == 'Sports']\n",
    "# Избавление от пропусков.\n",
    "games_sports = games_sports[['platform','user_score']].dropna()\n",
    "# Просмотр размера.\n",
    "games_sports.shape"
   ]
  },
  {
   "cell_type": "markdown",
   "id": "15d78a5d",
   "metadata": {},
   "source": [
    "Мы видим, что выборка по жанру `Action` примерно в два с половиной раза больше выборки по `Sports`, то есть при проведении теста нужно будет учесть соответствующий параметр.\n",
    "\n",
    "Посмотрим на распределение пользовательского рейтинга по двум жанрам:"
   ]
  },
  {
   "cell_type": "code",
   "execution_count": 65,
   "id": "910c1209",
   "metadata": {},
   "outputs": [
    {
     "name": "stdout",
     "output_type": "stream",
     "text": [
      "Sports: Распределение\n",
      "Среднее значение: 5.4557\n",
      "Медиана: 5.75\n",
      "Стандартное отклонениее: 1.7431\n",
      "Дисперсия: 3.0385\n",
      "\n",
      "Action: Распределение\n",
      "Среднее значение: 6.825\n",
      "Медиана: 7.1\n",
      "Стандартное отклонениее: 1.3744\n",
      "Дисперсия: 1.8891\n"
     ]
    },
    {
     "data": {
      "image/png": "[encoded data removed]",
      "text/plain": [
       "<Figure size 720x360 with 1 Axes>"
      ]
     },
     "metadata": {},
     "output_type": "display_data"
    }
   ],
   "source": [
    "# Вызов функции построения гистограммы.\n",
    "show_hist(df_1=games_action, df_2=games_sports, column='user_score', \n",
    "              name='Распределение оценок пользователей',\n",
    "              xlabel='Оценка', ylabel='Пользователи',\n",
    "              label_2='Sports',\n",
    "              label_1='Action')"
   ]
  },
  {
   "cell_type": "markdown",
   "id": "aab0ab7d",
   "metadata": {},
   "source": [
    "Мы видим, что и средние значения и медианы различны. Оценки спортивного жанра в целом ниже и более плавно распределены с бОльшим стандартным отклонением и дисперсией.\n",
    "\n",
    "_________"
   ]
  },
  {
   "cell_type": "markdown",
   "id": "35ae9b54",
   "metadata": {},
   "source": [
    "**Сформулируем нулевую гипотезу:**\n",
    "\n",
    "Средние пользовательские рейтинги жанров `Action` и `Sports` **равны**.\n",
    "\n",
    "\n",
    "\n",
    "**Альтернативная гипотеза:**\n",
    "\n",
    "Средние пользовательские рейтинги жанров `Action` и `Sports` **не равны**.\n",
    "\n",
    "Проведем тест сравнения средних значений двух выборок:\n"
   ]
  },
  {
   "cell_type": "code",
   "execution_count": 66,
   "id": "ce65c43f",
   "metadata": {},
   "outputs": [
    {
     "name": "stdout",
     "output_type": "stream",
     "text": [
      "p-значение:  5.98945806646755e-20\n",
      "Отвергаем нулевую гипотезу\n"
     ]
    }
   ],
   "source": [
    "# Применение статистического теста.\n",
    "results = st.ttest_ind(games_action['user_score'], games_sports['user_score'], equal_var = False)\n",
    "# Установка критического уровня статистической значимости.\n",
    "alpha = 0.05\n",
    "\n",
    "print('p-значение: ', results.pvalue)\n",
    "if results.pvalue < alpha:\n",
    "    print('Отвергаем нулевую гипотезу')\n",
    "else:\n",
    "    print('Не получилось отвергнуть нулевую гипотезу')"
   ]
  },
  {
   "cell_type": "markdown",
   "id": "9f0a64b6",
   "metadata": {},
   "source": [
    "Мы не можем принять гипотезу о равенстве средних рейтингов по двум жанрам, даже если увеличить p-значение до 90%, Нулевая гипотеза отвергается. Таким образом, принимаем альтернативную гипотезу о неравенстве средних отзывов по жанрам `Action` и `Sports`."
   ]
  },
  {
   "cell_type": "markdown",
   "id": "362eea45",
   "metadata": {},
   "source": [
    "_____"
   ]
  },
  {
   "cell_type": "markdown",
   "id": "200d75bd",
   "metadata": {},
   "source": [
    "**Вывод:** Средние пользовательские оценки различаются между жанрами `Action` и `Sports`."
   ]
  },
  {
   "cell_type": "markdown",
   "id": "1a6ec9f1",
   "metadata": {},
   "source": [
    "<a id='conclusion'></a>"
   ]
  },
  {
   "cell_type": "markdown",
   "id": "44cae006",
   "metadata": {},
   "source": [
    "## Выводы"
   ]
  },
  {
   "cell_type": "markdown",
   "id": "b35eaf39",
   "metadata": {},
   "source": [
    "**Общие выводы:**\n",
    "\n",
    "\n",
    "- Типичный срок существования популярной платфомы - около 12 лет. На рынке лидируют несколько компаний, которые обновляют свои платформы каждые несколько лет: \n",
    "   - `Nintendo` (DS, Wii, Wii2), \n",
    "\n",
    "   - `Play Station` (PS, PS2, PS3, PS4, PSV), \n",
    "\n",
    "   - `Xbox` (XOne, X360).\n",
    "\n",
    "\n",
    "- Лидирующие компании выпускают игры и для портативных и для стационарных устройств на разных платформах.\n",
    "\n",
    "\n",
    "- Наибольшее количество игр выпущено в период с 2007 по 2011.\n",
    "\n",
    "\n",
    "- Самые успешные платформы за весь период анализа: `'PS2', 'X360', 'PS3', 'Wii', 'DS', 'PS'`.\n",
    "\n",
    "\n",
    "- Основной доход приносит небольшое количество особенно успешных игр."
   ]
  },
  {
   "cell_type": "markdown",
   "id": "0d8458c6",
   "metadata": {},
   "source": [
    "_____________________\n",
    "\n",
    "**Прикладные выводы:**\n",
    "\n",
    "- Платформы, на которые стоит ориентироваться в составлении прогноза на следующий год: `'XOne', 'PS4', 'WiiU', '3DS', 'PSV'`.\n",
    "\n",
    "\n",
    "- На европейском и американском рынке стоит ориентироваться на жанры - лидеры продаж: `Action`, `Shooter` и `Sports`. На японском рынке самыми прибыльными являются жанры `Role-Playing`, `Action`, `Misc`.\n",
    "\n",
    "\n",
    "- Жанр `Action` популярен на всех рынках и лидирует по продажам в предыдущие годы.\n",
    "\n",
    "\n",
    "- Самые высокие средние и медианные продажи в жанре `Shooter`.\n",
    "\n",
    "\n",
    "- Оценка критиков менее 70 практически гарантирует низкие продажи. Оценки критиков более надежны в планировании продаж, чем оценки пользователей. Профессиональные предревью можно использовать в качестве дополнительного фактора в принятии решений. \n",
    "\n",
    "\n"
   ]
  }
 ],
 "metadata": {
  "ExecuteTimeLog": [
   {
    "duration": 1232,
    "start_time": "2022-07-03T09:38:30.988Z"
   },
   {
    "duration": 47,
    "start_time": "2022-07-03T09:38:32.222Z"
   },
   {
    "duration": 10,
    "start_time": "2022-07-03T09:38:32.271Z"
   },
   {
    "duration": 6,
    "start_time": "2022-07-03T09:38:32.284Z"
   },
   {
    "duration": 10,
    "start_time": "2022-07-03T09:38:32.292Z"
   },
   {
    "duration": 1548,
    "start_time": "2022-07-03T09:38:32.304Z"
   },
   {
    "duration": 8,
    "start_time": "2022-07-03T09:38:33.854Z"
   },
   {
    "duration": 24,
    "start_time": "2022-07-03T09:38:33.865Z"
   },
   {
    "duration": 17,
    "start_time": "2022-07-03T09:38:33.890Z"
   },
   {
    "duration": 7,
    "start_time": "2022-07-03T09:38:33.911Z"
   },
   {
    "duration": 47,
    "start_time": "2022-07-03T09:38:33.920Z"
   },
   {
    "duration": 10,
    "start_time": "2022-07-03T09:38:33.969Z"
   },
   {
    "duration": 10,
    "start_time": "2022-07-03T09:38:33.981Z"
   },
   {
    "duration": 19,
    "start_time": "2022-07-03T09:38:33.993Z"
   },
   {
    "duration": 6,
    "start_time": "2022-07-03T09:38:34.014Z"
   },
   {
    "duration": 31,
    "start_time": "2022-07-03T09:38:34.022Z"
   },
   {
    "duration": 25,
    "start_time": "2022-07-03T09:38:34.055Z"
   },
   {
    "duration": 9,
    "start_time": "2022-07-03T09:38:34.081Z"
   },
   {
    "duration": 476,
    "start_time": "2022-07-03T09:38:34.092Z"
   },
   {
    "duration": 24,
    "start_time": "2022-07-03T09:38:34.577Z"
   },
   {
    "duration": 366,
    "start_time": "2022-07-03T09:38:34.604Z"
   },
   {
    "duration": 5,
    "start_time": "2022-07-03T09:38:34.973Z"
   },
   {
    "duration": 12,
    "start_time": "2022-07-03T09:38:34.981Z"
   },
   {
    "duration": 399,
    "start_time": "2022-07-03T09:38:34.996Z"
   },
   {
    "duration": 998,
    "start_time": "2022-07-03T09:38:35.397Z"
   },
   {
    "duration": 909,
    "start_time": "2022-07-03T09:38:36.397Z"
   },
   {
    "duration": 893,
    "start_time": "2022-07-03T09:38:37.308Z"
   },
   {
    "duration": 22,
    "start_time": "2022-07-03T09:38:38.205Z"
   },
   {
    "duration": 46,
    "start_time": "2022-07-03T09:38:38.229Z"
   },
   {
    "duration": 22,
    "start_time": "2022-07-03T09:38:38.278Z"
   },
   {
    "duration": 27,
    "start_time": "2022-07-03T09:38:38.305Z"
   },
   {
    "duration": 31,
    "start_time": "2022-07-03T09:38:38.351Z"
   },
   {
    "duration": 851,
    "start_time": "2022-07-03T09:38:38.384Z"
   },
   {
    "duration": 677,
    "start_time": "2022-07-03T09:38:39.237Z"
   },
   {
    "duration": 11,
    "start_time": "2022-07-03T09:38:39.916Z"
   },
   {
    "duration": 29,
    "start_time": "2022-07-03T09:38:39.929Z"
   },
   {
    "duration": 6,
    "start_time": "2022-07-03T09:38:39.960Z"
   },
   {
    "duration": 35,
    "start_time": "2022-07-03T09:38:39.969Z"
   },
   {
    "duration": 266,
    "start_time": "2022-07-03T09:38:40.006Z"
   },
   {
    "duration": 221,
    "start_time": "2022-07-03T09:38:40.277Z"
   },
   {
    "duration": 804,
    "start_time": "2022-07-03T09:38:40.500Z"
   },
   {
    "duration": 23,
    "start_time": "2022-07-03T09:38:41.307Z"
   },
   {
    "duration": 537,
    "start_time": "2022-07-03T09:38:41.332Z"
   },
   {
    "duration": 1591,
    "start_time": "2022-07-03T09:38:41.871Z"
   },
   {
    "duration": 22,
    "start_time": "2022-07-03T09:38:43.464Z"
   },
   {
    "duration": 69,
    "start_time": "2022-07-03T09:38:43.489Z"
   },
   {
    "duration": 49,
    "start_time": "2022-07-03T09:38:43.559Z"
   },
   {
    "duration": 65,
    "start_time": "2022-07-03T09:38:43.609Z"
   },
   {
    "duration": 7,
    "start_time": "2022-07-03T09:38:43.676Z"
   },
   {
    "duration": 11,
    "start_time": "2022-07-03T09:38:43.685Z"
   },
   {
    "duration": 9,
    "start_time": "2022-07-03T09:38:43.698Z"
   },
   {
    "duration": 10,
    "start_time": "2022-07-03T09:38:43.709Z"
   },
   {
    "duration": 38,
    "start_time": "2022-07-03T09:38:43.720Z"
   },
   {
    "duration": 357,
    "start_time": "2022-07-03T09:38:43.760Z"
   },
   {
    "duration": 6,
    "start_time": "2022-07-03T09:38:44.118Z"
   },
   {
    "duration": 26,
    "start_time": "2022-07-03T09:38:44.126Z"
   },
   {
    "duration": 27,
    "start_time": "2022-07-03T09:38:44.155Z"
   },
   {
    "duration": 394,
    "start_time": "2022-07-03T09:38:44.184Z"
   },
   {
    "duration": 8,
    "start_time": "2022-07-03T09:38:44.580Z"
   },
   {
    "duration": 26,
    "start_time": "2022-07-03T09:54:09.394Z"
   },
   {
    "duration": 6,
    "start_time": "2022-07-03T09:54:18.192Z"
   },
   {
    "duration": 15,
    "start_time": "2022-07-03T16:35:25.249Z"
   },
   {
    "duration": 1490,
    "start_time": "2022-07-03T16:35:33.359Z"
   },
   {
    "duration": 214,
    "start_time": "2022-07-03T16:35:34.851Z"
   },
   {
    "duration": 7,
    "start_time": "2022-07-03T16:35:35.066Z"
   },
   {
    "duration": 6,
    "start_time": "2022-07-03T16:35:35.075Z"
   },
   {
    "duration": 14,
    "start_time": "2022-07-03T16:35:35.082Z"
   },
   {
    "duration": 4682,
    "start_time": "2022-07-03T16:35:35.098Z"
   },
   {
    "duration": 7,
    "start_time": "2022-07-03T16:35:39.782Z"
   },
   {
    "duration": 13,
    "start_time": "2022-07-03T16:35:39.790Z"
   },
   {
    "duration": 7,
    "start_time": "2022-07-03T16:35:39.805Z"
   },
   {
    "duration": 9,
    "start_time": "2022-07-03T16:35:39.814Z"
   },
   {
    "duration": 30,
    "start_time": "2022-07-03T16:35:39.824Z"
   },
   {
    "duration": 5,
    "start_time": "2022-07-03T16:35:39.855Z"
   },
   {
    "duration": 13,
    "start_time": "2022-07-03T16:35:39.861Z"
   },
   {
    "duration": 18,
    "start_time": "2022-07-03T16:35:39.875Z"
   },
   {
    "duration": 5,
    "start_time": "2022-07-03T16:35:39.894Z"
   },
   {
    "duration": 18,
    "start_time": "2022-07-03T16:35:39.900Z"
   },
   {
    "duration": 33,
    "start_time": "2022-07-03T16:35:39.919Z"
   },
   {
    "duration": 7,
    "start_time": "2022-07-03T16:35:39.954Z"
   },
   {
    "duration": 402,
    "start_time": "2022-07-03T16:35:39.963Z"
   },
   {
    "duration": 17,
    "start_time": "2022-07-03T16:35:40.367Z"
   },
   {
    "duration": 351,
    "start_time": "2022-07-03T16:35:40.386Z"
   },
   {
    "duration": 4,
    "start_time": "2022-07-03T16:35:40.741Z"
   },
   {
    "duration": 7,
    "start_time": "2022-07-03T16:35:40.746Z"
   },
   {
    "duration": 1026,
    "start_time": "2022-07-03T16:35:40.754Z"
   },
   {
    "duration": 947,
    "start_time": "2022-07-03T16:35:41.782Z"
   },
   {
    "duration": 859,
    "start_time": "2022-07-03T16:35:42.731Z"
   },
   {
    "duration": 861,
    "start_time": "2022-07-03T16:35:43.592Z"
   },
   {
    "duration": 22,
    "start_time": "2022-07-03T16:35:44.458Z"
   },
   {
    "duration": 29,
    "start_time": "2022-07-03T16:35:44.482Z"
   },
   {
    "duration": 38,
    "start_time": "2022-07-03T16:35:44.514Z"
   },
   {
    "duration": 21,
    "start_time": "2022-07-03T16:35:44.554Z"
   },
   {
    "duration": 21,
    "start_time": "2022-07-03T16:35:44.576Z"
   },
   {
    "duration": 718,
    "start_time": "2022-07-03T16:35:44.598Z"
   },
   {
    "duration": 471,
    "start_time": "2022-07-03T16:35:45.317Z"
   },
   {
    "duration": 8,
    "start_time": "2022-07-03T16:35:45.790Z"
   },
   {
    "duration": 13,
    "start_time": "2022-07-03T16:35:45.799Z"
   },
   {
    "duration": 5,
    "start_time": "2022-07-03T16:35:45.814Z"
   },
   {
    "duration": 39,
    "start_time": "2022-07-03T16:35:45.820Z"
   },
   {
    "duration": 230,
    "start_time": "2022-07-03T16:35:45.861Z"
   },
   {
    "duration": 213,
    "start_time": "2022-07-03T16:35:46.093Z"
   },
   {
    "duration": 834,
    "start_time": "2022-07-03T16:35:46.308Z"
   },
   {
    "duration": 24,
    "start_time": "2022-07-03T16:35:47.144Z"
   },
   {
    "duration": 586,
    "start_time": "2022-07-03T16:35:47.170Z"
   },
   {
    "duration": 1717,
    "start_time": "2022-07-03T16:35:47.757Z"
   },
   {
    "duration": 18,
    "start_time": "2022-07-03T16:35:49.476Z"
   },
   {
    "duration": 42,
    "start_time": "2022-07-03T16:35:49.496Z"
   },
   {
    "duration": 39,
    "start_time": "2022-07-03T16:35:49.540Z"
   },
   {
    "duration": 64,
    "start_time": "2022-07-03T16:35:49.581Z"
   },
   {
    "duration": 5,
    "start_time": "2022-07-03T16:35:49.646Z"
   },
   {
    "duration": 7,
    "start_time": "2022-07-03T16:35:49.654Z"
   },
   {
    "duration": 5,
    "start_time": "2022-07-03T16:35:49.662Z"
   },
   {
    "duration": 8,
    "start_time": "2022-07-03T16:35:49.669Z"
   },
   {
    "duration": 7,
    "start_time": "2022-07-03T16:35:49.679Z"
   },
   {
    "duration": 340,
    "start_time": "2022-07-03T16:35:49.688Z"
   },
   {
    "duration": 15,
    "start_time": "2022-07-03T16:35:50.030Z"
   },
   {
    "duration": 23,
    "start_time": "2022-07-03T16:35:50.047Z"
   },
   {
    "duration": 13,
    "start_time": "2022-07-03T16:35:50.072Z"
   },
   {
    "duration": 313,
    "start_time": "2022-07-03T16:35:50.086Z"
   },
   {
    "duration": 6,
    "start_time": "2022-07-03T16:35:50.400Z"
   }
  ],
  "kernelspec": {
   "display_name": "Python 3",
   "language": "python",
   "name": "python3"
  },
  "language_info": {
   "codemirror_mode": {
    "name": "ipython",
    "version": 3
   },
   "file_extension": ".py",
   "mimetype": "text/x-python",
   "name": "python",
   "nbconvert_exporter": "python",
   "pygments_lexer": "ipython3",
   "version": "3.7.10"
  },
  "toc": {
   "base_numbering": 1,
   "nav_menu": {},
   "number_sections": true,
   "sideBar": true,
   "skip_h1_title": true,
   "title_cell": "Содержание",
   "title_sidebar": "Contents",
   "toc_cell": true,
   "toc_position": {},
   "toc_section_display": true,
   "toc_window_display": true
  }
 },
 "nbformat": 4,
 "nbformat_minor": 5
}
